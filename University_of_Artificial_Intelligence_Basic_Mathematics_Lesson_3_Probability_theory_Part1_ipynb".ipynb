{
  "nbformat": 4,
  "nbformat_minor": 0,
  "metadata": {
    "colab": {
      "name": "University of Artificial Intelligence. Basic Mathematics. Lesson 3 Probability theory Part1.ipynb\"",
      "provenance": [],
      "collapsed_sections": [],
      "include_colab_link": true
    },
    "kernelspec": {
      "name": "python2",
      "display_name": "Python 2"
    }
  },
  "cells": [
    {
      "cell_type": "markdown",
      "metadata": {
        "id": "view-in-github",
        "colab_type": "text"
      },
      "source": [
        "<a href=\"https://colab.research.google.com/github/rubygitflow/Higher-Math/blob/main/University_of_Artificial_Intelligence_Basic_Mathematics_Lesson_3_Probability_theory_Part1_ipynb%22.ipynb\" target=\"_parent\"><img src=\"https://colab.research.google.com/assets/colab-badge.svg\" alt=\"Open In Colab\"/></a>"
      ]
    },
    {
      "cell_type": "markdown",
      "metadata": {
        "id": "7b4Z5fXptPH0"
      },
      "source": [
        "# Курс \"Базовая математика\"\n",
        "# Занятие 3. Теория вероятности часть 1"
      ]
    },
    {
      "cell_type": "code",
      "metadata": {
        "id": "9u3TMJqb_RCW"
      },
      "source": [
        "from math import factorial\n",
        "from numpy import cbrt"
      ],
      "execution_count": null,
      "outputs": []
    },
    {
      "cell_type": "markdown",
      "metadata": {
        "id": "vN_0Eh6V8ZwE"
      },
      "source": [
        "## ЗАДАЧИ Light"
      ]
    },
    {
      "cell_type": "markdown",
      "metadata": {
        "id": "sRkt77ZA8Z5w"
      },
      "source": [
        "**Задача 3**\n",
        "\n",
        "В магазин поступило 30 холодильников, пять из которых имеют заводской дефект. Случайным образом выбирают один холодильник. Какова вероятность того, что он будет без дефекта?\n",
        "\n"
      ]
    },
    {
      "cell_type": "code",
      "metadata": {
        "id": "0KGze8zbc57k",
        "outputId": "b49601ba-7165-4625-8fda-15f10fa01331",
        "colab": {
          "base_uri": "https://localhost:8080/",
          "height": 34
        }
      },
      "source": [
        "(30.-5)/30"
      ],
      "execution_count": null,
      "outputs": [
        {
          "output_type": "execute_result",
          "data": {
            "text/plain": [
              "0.8333333333333334"
            ]
          },
          "metadata": {
            "tags": []
          },
          "execution_count": 2
        }
      ]
    },
    {
      "cell_type": "markdown",
      "metadata": {
        "id": "siUB94aa8aBh"
      },
      "source": [
        "**Задача 4**\n",
        "\n",
        "Абонент забыл пин-код к своей сим-карте, однако помнит, что он содержит три «пятёрки», а одна из цифр – то ли «семёрка», то ли «восьмёрка». Какова вероятность успешной авторизации с первой попытки?"
      ]
    },
    {
      "cell_type": "code",
      "metadata": {
        "id": "ZnpuMq-1d1x5",
        "outputId": "59cf3347-d17a-4a7d-8065-a5d71d0359fb",
        "colab": {
          "base_uri": "https://localhost:8080/",
          "height": 34
        }
      },
      "source": [
        "1./len([5557,5558,5575,5585,5755,5855,7555,8555])"
      ],
      "execution_count": null,
      "outputs": [
        {
          "output_type": "execute_result",
          "data": {
            "text/plain": [
              "0.125"
            ]
          },
          "metadata": {
            "tags": []
          },
          "execution_count": 5
        }
      ]
    },
    {
      "cell_type": "markdown",
      "metadata": {
        "id": "jso4N3osCw3r"
      },
      "source": [
        "**Задача 5**\n",
        "\n",
        "Найти вероятность того, что при броске двух игральных костей произведение очков:\n",
        "\n",
        "a) будет равно 6;\n",
        "b) окажется не менее 33;\n",
        "c) будет чётным."
      ]
    },
    {
      "cell_type": "code",
      "metadata": {
        "id": "yUCwa8POe4Vk",
        "outputId": "58cbda3c-16ea-4f28-db9b-aefb7cfd73a1",
        "colab": {
          "base_uri": "https://localhost:8080/",
          "height": 67
        }
      },
      "source": [
        "print('Ea=',len([1*6,2*3,3*2,6*1])/(6.*6))\n",
        "print('Eb=',len([6*6])/(6.*6))\n",
        "print('Ec=',(6*6*(0.5 + 0.5*0.5))/(6.*6)) # поровну, что вероятность для одной кости будет чётной или чётные. Вторая кость имеет те же вероятности по чёт/нечет. Нас интересует вероятность: чет*любое + нечет*чёт  "
      ],
      "execution_count": null,
      "outputs": [
        {
          "output_type": "stream",
          "text": [
            "('Ea=', 0.1111111111111111)\n",
            "('Eb=', 0.027777777777777776)\n",
            "('Ec=', 0.75)\n"
          ],
          "name": "stdout"
        }
      ]
    },
    {
      "cell_type": "markdown",
      "metadata": {
        "id": "uzR46A52gQB7"
      },
      "source": [
        "**Задача 6**\n",
        "\n",
        "Подбрасывается 20 монет. Найти вероятность того, что:\n",
        "\n",
        "а) на всех монетах выпадет орёл;\n",
        "б) на 12 монетах выпадет орёл, а на одной – решка;\n",
        "в) орёл выпадет КАК МИНИМУМ на половине монет."
      ]
    },
    {
      "cell_type": "code",
      "metadata": {
        "id": "Z1AnvHiAp4ZS",
        "outputId": "6ad41a8a-a72b-440a-dc38-5872ac7a62fb",
        "colab": {
          "base_uri": "https://localhost:8080/",
          "height": 67
        }
      },
      "source": [
        "print('Ea=',0.5**20)\n",
        "'''\n",
        "  сочетание событий по формуле Бернулли\n",
        "  https://presentacii.ru/presentation/elementy-teorii-veroyatnostej\n",
        "'''\n",
        "Eb = [(factorial(20)/(factorial(20-i)*factorial(i))*(0.5**i)*(0.5**(20-i))) for i in range(12,20)] # один случай оставляем под Решку\n",
        "print('Eb(by the Bernoulli formula)=',sum(Eb))\n",
        "Ec = [(factorial(20)/(factorial(20-i)*factorial(i))*(0.5**i)*(0.5**(20-i))) for i in range(10,21)]\n",
        "print('Ec(by the Bernoulli formula)=',sum(Ec))"
      ],
      "execution_count": null,
      "outputs": [
        {
          "output_type": "stream",
          "text": [
            "('Ea=', 9.5367431640625e-07)\n",
            "('Eb(by the Bernoulli formula)=', 0.2517213821411133)\n",
            "('Ec(by the Bernoulli formula)=', 0.5880985260009766)\n"
          ],
          "name": "stdout"
        }
      ]
    },
    {
      "cell_type": "markdown",
      "metadata": {
        "id": "SKroFk3KjJ0C"
      },
      "source": [
        "**Задача 7**\n",
        "\n",
        "В коробке 12 красных и 8 синих пуговиц. Наудачу извлекаются две пуговицы. Какова вероятность того, что они будут одноцветными?"
      ]
    },
    {
      "cell_type": "code",
      "metadata": {
        "id": "qpdG9o_d1mub",
        "outputId": "492a82d6-971c-4011-9f43-d39caabde782",
        "colab": {
          "base_uri": "https://localhost:8080/",
          "height": 34
        }
      },
      "source": [
        "12./(12+8)*(12-1)/(12+8-1) + 8./(12+8)*(8-1)/(12+8-1)"
      ],
      "execution_count": null,
      "outputs": [
        {
          "output_type": "execute_result",
          "data": {
            "text/plain": [
              "0.49473684210526314"
            ]
          },
          "metadata": {
            "tags": []
          },
          "execution_count": 21
        }
      ]
    },
    {
      "cell_type": "markdown",
      "metadata": {
        "id": "Df5ze-wYl5VM"
      },
      "source": [
        "**Задача 8**\n",
        "\n",
        "Стрелок попадает в цель с одной и той же вероятностью при каждом выстреле. Какова эта вероятность, если вероятность хотя бы одного попадания при трех выстрелах равна 0,861."
      ]
    },
    {
      "cell_type": "code",
      "metadata": {
        "id": "Osu8ORSc4MdN",
        "outputId": "a245d64e-e1ee-41a0-d8f6-20b673aecf6e",
        "colab": {
          "base_uri": "https://localhost:8080/",
          "height": 34
        }
      },
      "source": [
        "'''\n",
        "  Объяснение для подобной задачи\n",
        "  http://www.soloby.ru/745707/%D0%BF%D0%BE%D0%BF%D0%B0%D0%B4%D0%B0%D0%B5%D1%82-%D0%B2%D0%B5%D1%80%D0%BE%D1%8F%D1%82%D0%BD%D0%BE%D1%81%D1%82%D1%8C%D1%8E-%D0%B2%D1%8B%D1%81%D1%82%D1%80%D0%B5%D0%BB%D0%B5-%D0%B2%D0%B5%D1%80%D0%BE%D1%8F%D1%82%D0%BD%D0%BE%D1%81%D1%82%D1%8C-%D0%B2%D0%B5%D1%80%D0%BE%D1%8F%D1%82%D0%BD%D0%BE%D1%81%D1%82%D1%8C\n",
        "  p = 1 - (cbrt(1 - 0.861))\n",
        "'''\n",
        "1 - (cbrt(1 - 0.861))"
      ],
      "execution_count": null,
      "outputs": [
        {
          "output_type": "execute_result",
          "data": {
            "text/plain": [
              "0.48198985326197075"
            ]
          },
          "metadata": {
            "tags": []
          },
          "execution_count": 24
        }
      ]
    },
    {
      "cell_type": "markdown",
      "metadata": {
        "id": "s00SDtecg8Rn"
      },
      "source": [
        "**Задача 9**\n",
        "\n",
        "Вероятность того, что стрелок поразит мишень, равна 0.7 \n",
        "\n",
        "Составить закон распределения случайной величины  W – количества попаданий после 2 выстрелов."
      ]
    },
    {
      "cell_type": "code",
      "metadata": {
        "id": "QPH3KzSsDEz1"
      },
      "source": [
        "print(f\"\"\"\n",
        "  Попадание: {0.7}\n",
        "  Промах: {(1-0.7)}\n",
        "  2 выстрела:\n",
        "  Два попадания: {0.7**2}\n",
        "  Два промаха: {(1-0.7)**2}\n",
        "  Промах+Попадание или наоборот: {0.7*(1-0.7)*2}\"\"\")"
      ],
      "execution_count": null,
      "outputs": []
    },
    {
      "cell_type": "markdown",
      "metadata": {
        "id": "uFyIys_4hWip"
      },
      "source": [
        "**Задача 10**\n",
        "\n",
        "Мистер Хэ играет в европейскую рулетку по следующей системе: постоянно ставит 250 рублей на «красное». \n",
        "Составить закон распределения случайной величины  – его выигрыша. \n",
        "\n",
        "Вычислить математическое ожидание выигрыша и округлить его. \n",
        "\n",
        "Сколько в среднем проигрывает игрок с каждой ставки?"
      ]
    },
    {
      "cell_type": "code",
      "metadata": {
        "id": "ELzrzDlmMy2O",
        "outputId": "ce215851-4191-42f9-e740-87db54638fd3",
        "colab": {
          "base_uri": "https://localhost:8080/",
          "height": 67
        }
      },
      "source": [
        "# https://casinoplay.appspot.com/wiki/european-roulette\n",
        "W = {250: 18./37, -250: 19./37}\n",
        "print(W)\n",
        "M = sum([key*W[key] for key in W.keys()])\n",
        "print('Мат. ожидание:{}'.format(round(M,2)))\n",
        "print('Среднее значение есть мат. ожидание. Проигрыш составляет {}'.format(round(-M,2)))"
      ],
      "execution_count": null,
      "outputs": [
        {
          "output_type": "stream",
          "text": [
            "{250: 0.4864864864864865, -250: 0.5135135135135135}\n",
            "Мат. ожидание:-6.76\n",
            "Среднее значение есть мат. ожидание. Проигрыш составляет 6.76\n"
          ],
          "name": "stdout"
        }
      ]
    },
    {
      "cell_type": "markdown",
      "metadata": {
        "id": "ItZzk_cHgxtK"
      },
      "source": [
        "## ЗАДАЧИ PRO"
      ]
    },
    {
      "cell_type": "markdown",
      "metadata": {
        "id": "FzeTlcXjg_aK"
      },
      "source": [
        "**Задача 8**\n",
        "\n",
        "На восьмиместную круглую скамейку случайным образом рассаживается 8 человек. \n",
        "\n",
        "Какова вероятность того, что два определённых человека окажутся рядом?"
      ]
    },
    {
      "cell_type": "code",
      "metadata": {
        "id": "32l2LY20nz-a",
        "outputId": "0a3c7be7-be74-4228-df88-ff8c615d7067",
        "colab": {
          "base_uri": "https://localhost:8080/",
          "height": 34
        }
      },
      "source": [
        "# рассадка [12, 13,14,15,16,17,18]  - итого 2 позиции рядом из 7 вариантов по кругу\n",
        "2./7"
      ],
      "execution_count": null,
      "outputs": [
        {
          "output_type": "execute_result",
          "data": {
            "text/plain": [
              "0.2857142857142857"
            ]
          },
          "metadata": {
            "tags": []
          },
          "execution_count": 4
        }
      ]
    },
    {
      "cell_type": "markdown",
      "metadata": {
        "id": "joYCsCrAhCMS"
      },
      "source": [
        "**Задача 2**\n",
        "\n",
        "На шахматную доску из 64 клеток ставят наудачу две ладьи, белого и чёрного цвета. С какой вероятностью они не будут «бить» друг друга?"
      ]
    },
    {
      "cell_type": "code",
      "metadata": {
        "id": "Ve0Dp7zOpNAH",
        "outputId": "a280711f-eb7c-4b3b-cbf2-37653eb4ef12",
        "colab": {
          "base_uri": "https://localhost:8080/",
          "height": 34
        }
      },
      "source": [
        "# 63 варианта пар из них (8-1)*2=14 на одной линии\n",
        "1-14./63"
      ],
      "execution_count": null,
      "outputs": [
        {
          "output_type": "execute_result",
          "data": {
            "text/plain": [
              "0.7777777777777778"
            ]
          },
          "metadata": {
            "tags": []
          },
          "execution_count": 5
        }
      ]
    },
    {
      "cell_type": "markdown",
      "metadata": {
        "id": "T5Ktv4e8hT5w"
      },
      "source": [
        "**Задача 11**\n",
        "\n",
        "Какова вероятность того, что в 5 сданных картах будет один туз и один король?"
      ]
    },
    {
      "cell_type": "code",
      "metadata": {
        "id": "wbjWwVAJ-0VX",
        "outputId": "3846992d-a2d7-49c7-faa4-2f81db475022",
        "colab": {
          "base_uri": "https://localhost:8080/",
          "height": 34
        }
      },
      "source": [
        "# Объяснение\n",
        "# https://studopedia.ru/6_71687_zadachi-na-klassicheskoe-opredelenie-veroyatnosti.html\n",
        "# или\n",
        "# https://otvet.mail.ru/question/37637530\n",
        "\n",
        "# рассмотрим 52 карты 13 достоинств * 4 масти\n",
        "# Call = factorial(52)/(factorial(47)*factorial(5)) # способами можно выбрать 4 карты из колоды\n",
        "Call = 52*51*50*49*48/factorial(5)\n",
        "C1 = 4 # способами можно извлечь одного туза\n",
        "C2 = 4 # способами можно извлечь одного короля\n",
        "# C3 = factorial(52-4-4)/(factorial(52-4-4-3)*factorial(3))   # способами можно извлечь три другие карты\n",
        "C3 = 44*43*42/factorial(3)\n",
        "Csel = float(C1*C2*C3) # способами можно извлечь искомую комбинацию карт (1-го туза и 1-го короля и три другие карты)\n",
        "round(Csel/Call,4) # вероятность того, что среди пяти сданных карт будет один туз и один король"
      ],
      "execution_count": null,
      "outputs": [
        {
          "output_type": "execute_result",
          "data": {
            "text/plain": [
              "0.0815"
            ]
          },
          "metadata": {
            "tags": []
          },
          "execution_count": 47
        }
      ]
    },
    {
      "cell_type": "markdown",
      "metadata": {
        "id": "urJ5XX4JhaUI"
      },
      "source": [
        "**Задача 12**\n",
        "\n",
        "В ящике находится 17 качественных и 6 бракованных деталей. Наудачу извлекаются 2 детали. Найти вероятность того, что:\n",
        "\n",
        "a) обе детали будут качественными;\n",
        "b) одна деталь будет качественной, а одна – бракованной;\n",
        "c) обе детали бракованны."
      ]
    },
    {
      "cell_type": "code",
      "metadata": {
        "id": "HKe84zokGYeO",
        "outputId": "3e705f08-3575-4b7e-be27-67e075932616",
        "colab": {
          "base_uri": "https://localhost:8080/",
          "height": 67
        }
      },
      "source": [
        "print('Ea=',17./(17+6)*16./(17+6-1))\n",
        "print('Eb=',17./(17+6)*6./(17+6-1)+6./(17+6)*17./(17+6-1))\n",
        "print('Ec=',6./(17+6)*5./(17+6-1))"
      ],
      "execution_count": null,
      "outputs": [
        {
          "output_type": "stream",
          "text": [
            "('Ea=', 0.5375494071146245)\n",
            "('Eb=', 0.4031620553359684)\n",
            "('Ec=', 0.05928853754940711)\n"
          ],
          "name": "stdout"
        }
      ]
    },
    {
      "cell_type": "markdown",
      "metadata": {
        "id": "d593HPt0kH1f"
      },
      "source": [
        "**Задача 5**\n",
        "\n",
        "Какова вероятность того, что первый рабочий день месяца выпадет на понедельник"
      ]
    },
    {
      "cell_type": "code",
      "metadata": {
        "id": "VNZtmsqHJnzE",
        "outputId": "c64a997c-7098-4ba2-86be-69d5bb8fa3b8",
        "colab": {
          "base_uri": "https://localhost:8080/",
          "height": 34
        }
      },
      "source": [
        "# всего доступных событий: 7 дней в неделю\n",
        "# всего вероятных дней: 3\n",
        "3./7"
      ],
      "execution_count": null,
      "outputs": [
        {
          "output_type": "execute_result",
          "data": {
            "text/plain": [
              "0.42857142857142855"
            ]
          },
          "metadata": {
            "tags": []
          },
          "execution_count": 52
        }
      ]
    },
    {
      "cell_type": "markdown",
      "metadata": {
        "id": "2s1EPIzqkPPH"
      },
      "source": [
        "**Задача 6**\n",
        "\n",
        "Интревал движения трамвая с остановки N 15 минут, тогда как интервал движения автобуса 7 минут. Вы подошли к остановке в произвольный момент времени.\n",
        "\n",
        "a) Какова вероятность прождать автобус не более 3 минут\n",
        "b) Уехать с остановки без ожидания"
      ]
    },
    {
      "cell_type": "code",
      "metadata": {
        "id": "rp-qNGFAL_bH",
        "outputId": "cf58c60b-60f6-4c0a-b125-0a4e7a1fb033",
        "colab": {
          "base_uri": "https://localhost:8080/",
          "height": 50
        }
      },
      "source": [
        "# Время открытых дверей - 20 сек - 3 раза в минуту\n",
        "print('Ea=',(3.*3)/(7*3))\n",
        "print('Eb=',1./(15*3)+1./(7*3))"
      ],
      "execution_count": null,
      "outputs": [
        {
          "output_type": "stream",
          "text": [
            "('Ea=', 0.42857142857142855)\n",
            "('Eb=', 0.06984126984126984)\n"
          ],
          "name": "stdout"
        }
      ]
    },
    {
      "cell_type": "markdown",
      "metadata": {
        "id": "wCYln_QKlb2B"
      },
      "source": [
        "**Задача 7**\n",
        "\n",
        "Вероятность поражения цели первым стрелком при одном выстреле равна 0,6. Вероятность того, что цель не поражена после выполнения первым и вторым стрелками по одному выстрелу равна 0,06. Какова вероятность поражения цели вторым стрелком при одном выстреле?"
      ]
    },
    {
      "cell_type": "code",
      "metadata": {
        "id": "fjQfLzi4NR1P",
        "outputId": "13b44abe-c136-42c7-fe17-825a2c21dec9",
        "colab": {
          "base_uri": "https://localhost:8080/",
          "height": 34
        }
      },
      "source": [
        "# не попал первый И не попал второй = \n",
        "# (1 - 0.6)       * x               = 0.06\n",
        "1 - (0.06/(1-0.6))"
      ],
      "execution_count": null,
      "outputs": [
        {
          "output_type": "execute_result",
          "data": {
            "text/plain": [
              "0.85"
            ]
          },
          "metadata": {
            "tags": []
          },
          "execution_count": 55
        }
      ]
    },
    {
      "cell_type": "markdown",
      "metadata": {
        "id": "2BX1nQSWkAjs"
      },
      "source": [
        "**Задача 8**\n",
        "\n",
        "Дискретная случайная величина w может принимать только два значения: x1 и x2, причём x1 < x2. Известна вероятность для x1 = 0.4, математическое ожидание 3.6 и дисперсия 0.24.\n",
        "\n",
        "Найти x1, x2, вероятность для x2"
      ]
    },
    {
      "cell_type": "code",
      "metadata": {
        "id": "IdeLtb9JtPzR",
        "outputId": "88313a2d-9b4e-41e0-e708-0a7a9085d398",
        "colab": {
          "base_uri": "https://localhost:8080/",
          "height": 50
        }
      },
      "source": [
        "probability1 = 0.4\n",
        "# probability1 + probability2 = 1\n",
        "probability2 = 0.6\n",
        "print('probability for x2 =',probability2)\n",
        "# x1 * probability1 + x2 * probability2 = 3.6\n",
        "# x1**2 * probability1 + x2**2 * probability2 - 3.6**2 = 0.24\n",
        "\n",
        "# x1 = 3.6 / probability1 - x2 * probability2 / probability1 = 9 - x2 * 1.5\n",
        "# (9 - x2 * 1.5)**2 * probability1 + x2**2 * probability2 = 0.24 + 3.6**2\n",
        "# a^2 -2ab + b^2\n",
        "# 9*9*0.4 -2*9*1.5*x2*0.4 + 1.5*1.5*x2**2*0.4 + x2**2 * 0.6 = 13.2\n",
        "# 32.4 - 10.8*x2 + 1.5*x2**2 = 13.2\n",
        "# 1.5*x2**2 - 10.8*x2 + 19.2 = 0\n",
        "# a = 1.5 ; b = -10.8 ; c = 19.2\n",
        "# b^2 - 4ac = 116.64 - 115.2 = 1.44\n",
        "# x2 = (-b +/- sqr(1.44))/2a\n",
        "#                x2 ==\n",
        "# (10.8+1.2)/3 = 4\n",
        "# (10.8-1.2)/3 = 3.2\n",
        "#                 x1 ==\n",
        "#   9 - 4 * 1.5 = 3\n",
        "# 9 - 3.2 * 1.5 = 4.2\n",
        "# при x1 < x2\n",
        "# решение: \n",
        "print('x1 = 3; x2 = 4')"
      ],
      "execution_count": null,
      "outputs": [
        {
          "output_type": "stream",
          "text": [
            "('probability for x2 =', 0.6)\n",
            "x1 = 3; x2 = 4\n"
          ],
          "name": "stdout"
        }
      ]
    }
  ]
}