{
  "nbformat": 4,
  "nbformat_minor": 0,
  "metadata": {
    "colab": {
      "name": "University of Artificial Intelligence. Basic Mathematics. Lesson 7 Sets",
      "provenance": [],
      "collapsed_sections": [],
      "include_colab_link": true
    },
    "kernelspec": {
      "name": "python3",
      "display_name": "Python 3"
    }
  },
  "cells": [
    {
      "cell_type": "markdown",
      "metadata": {
        "id": "view-in-github",
        "colab_type": "text"
      },
      "source": [
        "<a href=\"https://colab.research.google.com/github/rubygitflow/Higher-Math/blob/main/University_of_Artificial_Intelligence_Basic_Mathematics_Lesson_7_Sets.ipynb\" target=\"_parent\"><img src=\"https://colab.research.google.com/assets/colab-badge.svg\" alt=\"Open In Colab\"/></a>"
      ]
    },
    {
      "cell_type": "markdown",
      "metadata": {
        "id": "ozHQXry5n2IS"
      },
      "source": [
        "## Множества"
      ]
    },
    {
      "cell_type": "markdown",
      "metadata": {
        "id": "LExGa8HRn0dH"
      },
      "source": [
        " Задача 1\n",
        " \n",
        "  Записать множество Е, если $E = A\\cup B $, причем А={2, 4, 6, 8, 10, 12}, B={3, 6, 9, 12}."
      ]
    },
    {
      "cell_type": "code",
      "metadata": {
        "id": "sA5Uqq7bn09_",
        "colab": {
          "base_uri": "https://localhost:8080/"
        },
        "outputId": "6209cd23-120b-45b5-b994-e5704c1c49cb"
      },
      "source": [
        "a= {2, 4, 6, 8, 10, 12}\n",
        "b= {3, 6, 9, 12}\n",
        "\n",
        "# E это объединение множеств А и В\n",
        "E = a.copy()\n",
        "E.update(b)\n",
        "print (E)"
      ],
      "execution_count": 1,
      "outputs": [
        {
          "output_type": "stream",
          "text": [
            "{2, 3, 4, 6, 8, 9, 10, 12}\n"
          ],
          "name": "stdout"
        }
      ]
    },
    {
      "cell_type": "markdown",
      "metadata": {
        "id": "v4CymOtetlIc"
      },
      "source": [
        " Задача 2\n",
        " \n",
        "  Записать множество Е, если $E = A\\B $, причем А={2, 4, 6}, B={3, 6, 9}."
      ]
    },
    {
      "cell_type": "code",
      "metadata": {
        "id": "pO34Znd8n1ao",
        "colab": {
          "base_uri": "https://localhost:8080/"
        },
        "outputId": "93c91680-098b-4d66-956b-005f13b3cb28"
      },
      "source": [
        "a= {2, 4, 6}\n",
        "b= {3, 6, 9}\n",
        "\n",
        "# E это разность множеств А и В\n",
        "E = {e for e in a if e not in b}\n",
        "print (E)\n"
      ],
      "execution_count": 2,
      "outputs": [
        {
          "output_type": "stream",
          "text": [
            "{2, 4}\n"
          ],
          "name": "stdout"
        }
      ]
    },
    {
      "cell_type": "code",
      "metadata": {
        "id": "FLoc6eZeuK0x",
        "colab": {
          "base_uri": "https://localhost:8080/",
          "height": 251
        },
        "outputId": "9c5d5216-c498-4bd3-d98e-ed0458a87218"
      },
      "source": [
        "import matplotlib.pyplot as plt\n",
        "from matplotlib_venn import venn3, venn3_circles\n",
        "\n",
        "v=venn3(subsets = (10, 8, 22, 6,9,4,2), set_labels = ('Group A', 'Group B', 'Group C'))\n",
        "c=venn3_circles(subsets = (10, 8, 22, 6,9,4,2), linestyle='dashed', linewidth=1, color=\"grey\")\n",
        "plt.show()\n"
      ],
      "execution_count": 3,
      "outputs": [
        {
          "output_type": "display_data",
          "data": {
            "image/png": "[encoded data removed]",
            "text/plain": [
              "<Figure size 432x288 with 1 Axes>"
            ]
          },
          "metadata": {
            "tags": []
          }
        }
      ]
    },
    {
      "cell_type": "markdown",
      "metadata": {
        "id": "_sNJn6raMCGl"
      },
      "source": [
        "**ДЗ Лайт**\r\n",
        "\r\n"
      ]
    },
    {
      "cell_type": "markdown",
      "metadata": {
        "id": "BSVN0Y3v9NVS"
      },
      "source": [
        "Задача 1 (пересечение)\r\n",
        " \r\n",
        "  Записать множество Е, если $E = A\\cap B $, причем А={2, 4, 6, 8, 10, 12}, B={3, 6, 9, 12}."
      ]
    },
    {
      "cell_type": "code",
      "metadata": {
        "colab": {
          "base_uri": "https://localhost:8080/"
        },
        "id": "FY7cyj7-96s-",
        "outputId": "859cab5a-4533-4405-bbc9-39c7677a758e"
      },
      "source": [
        "a = {2, 4, 6, 8, 10, 12}\r\n",
        "b = {3, 6, 9, 12}\r\n",
        "# 1.\r\n",
        "E = {e for e in a if e in a and e in b}\r\n",
        "print (E)\r\n",
        "# 2.\r\n",
        "print (a.intersection(b) )\r\n",
        "# 3.\r\n",
        "print (a & b)"
      ],
      "execution_count": 18,
      "outputs": [
        {
          "output_type": "stream",
          "text": [
            "{12, 6}\n",
            "{12, 6}\n",
            "{12, 6}\n"
          ],
          "name": "stdout"
        }
      ]
    },
    {
      "cell_type": "markdown",
      "metadata": {
        "id": "MpXp9T3l_XSX"
      },
      "source": [
        "Задача 2 (объединение)\r\n",
        " \r\n",
        "  Записать множество Е, если $E = A\\cup B $, причем А={1, 6, 2, 7, 9, 3}, B={1, 6, 2, 7, 9, 3}.\r\n",
        "\r\n"
      ]
    },
    {
      "cell_type": "code",
      "metadata": {
        "colab": {
          "base_uri": "https://localhost:8080/"
        },
        "id": "WCD2lPai_Z-d",
        "outputId": "1866860c-3e82-42c7-eebc-b58f9530ef38"
      },
      "source": [
        "a = {1, 6, 2, 7, 9, 3}\r\n",
        "b = {1, 6, 2, 7, 9, 3}\r\n",
        "# 1.\r\n",
        "E = a.copy()\r\n",
        "E.update(b)\r\n",
        "print (E)\r\n",
        "# 2.\r\n",
        "print (a.union(b))\r\n",
        "# 3.\r\n",
        "print (a | b)"
      ],
      "execution_count": 21,
      "outputs": [
        {
          "output_type": "stream",
          "text": [
            "{1, 2, 3, 6, 7, 9}\n",
            "{1, 2, 3, 6, 7, 9}\n",
            "{1, 2, 3, 6, 7, 9}\n"
          ],
          "name": "stdout"
        }
      ]
    },
    {
      "cell_type": "markdown",
      "metadata": {
        "id": "zsHfKx3GDAS1"
      },
      "source": [
        "Задача 3 (разность)\r\n",
        " \r\n",
        "  Записать множество Е, если $E = A\\B $, причем А={2, 4, 6, 8, 10, 12}, B={1, 3, 6, 9, 12}.\r\n",
        "\r\n"
      ]
    },
    {
      "cell_type": "code",
      "metadata": {
        "colab": {
          "base_uri": "https://localhost:8080/"
        },
        "id": "FXsS_xn9D97i",
        "outputId": "e011bece-e307-44ea-e836-d595f73dcae3"
      },
      "source": [
        "a = {2, 4, 6, 8, 10, 12}\r\n",
        "b = {1, 3, 6, 9, 12}\r\n",
        "# 1.\r\n",
        "E = {e for e in a if e not in b}\r\n",
        "print (E)\r\n",
        "# 2.\r\n",
        "print (a.difference(b))\r\n",
        "# 3.\r\n",
        "print (a - b)"
      ],
      "execution_count": 22,
      "outputs": [
        {
          "output_type": "stream",
          "text": [
            "{8, 2, 10, 4}\n",
            "{8, 2, 10, 4}\n",
            "{8, 2, 10, 4}\n"
          ],
          "name": "stdout"
        }
      ]
    },
    {
      "cell_type": "markdown",
      "metadata": {
        "id": "NlL91xVQELA7"
      },
      "source": [
        "Задача 4 (пересечение)\r\n",
        " \r\n",
        "  Записать множество Е, если $E = A\\cap B $, причем А={1, 6, 2, 7, 9, 3}, B={1, 6, 2, 7, 9, 3}.\r\n",
        "\r\n",
        "\r\n"
      ]
    },
    {
      "cell_type": "code",
      "metadata": {
        "colab": {
          "base_uri": "https://localhost:8080/"
        },
        "id": "sZY0bapmEKw7",
        "outputId": "8833435a-dbab-4cdd-a7cc-0d8b7815943c"
      },
      "source": [
        "a = {1, 6, 2, 7, 9, 3}\r\n",
        "b = {1, 6, 2, 7, 9, 3}\r\n",
        "\r\n",
        "a & b"
      ],
      "execution_count": 19,
      "outputs": [
        {
          "output_type": "execute_result",
          "data": {
            "text/plain": [
              "{1, 2, 3, 6, 7, 9}"
            ]
          },
          "metadata": {
            "tags": []
          },
          "execution_count": 19
        }
      ]
    },
    {
      "cell_type": "markdown",
      "metadata": {
        "id": "q9ChqkoqEaG6"
      },
      "source": [
        "Задача 5\r\n",
        "\r\n",
        "  Дано Множество А={1, 2, 4}, существует множество B, такое что $B\\E$ = {3} и $A\\cap B$ = {1} \r\n",
        "\r\n",
        "Найти множество B, если его мощность равна 2\r\n",
        "\r\n"
      ]
    },
    {
      "cell_type": "code",
      "metadata": {
        "colab": {
          "base_uri": "https://localhost:8080/"
        },
        "id": "om6jKjQCEnt7",
        "outputId": "232d6637-183e-4a73-cda2-53e232f9056c"
      },
      "source": [
        "a = {1,2,4}\r\n",
        "b = {1,3}\r\n",
        "e = {1}\r\n",
        "print(f'b={b}')\r\n",
        "print('Проверка:')\r\n",
        "print(b - e)\r\n",
        "print(a & b)"
      ],
      "execution_count": 29,
      "outputs": [
        {
          "output_type": "stream",
          "text": [
            "b={1, 3}\n",
            "Проверка:\n",
            "{3}\n",
            "{1}\n"
          ],
          "name": "stdout"
        }
      ]
    },
    {
      "cell_type": "markdown",
      "metadata": {
        "id": "Ot3-X0GQpNFp"
      },
      "source": [
        "**ДЗ ПРО**\n"
      ]
    },
    {
      "cell_type": "markdown",
      "metadata": {
        "id": "F2e-HYcwMIIl"
      },
      "source": [
        "\r\n",
        "Задача 1\r\n",
        "\r\n",
        "Доказать что $ A \\(A\\B) = A\\cap B $\r\n",
        "\r\n"
      ]
    },
    {
      "cell_type": "code",
      "metadata": {
        "colab": {
          "base_uri": "https://localhost:8080/"
        },
        "id": "YCPFJf3HMLW3",
        "outputId": "0f1e224b-49db-45b8-bc20-512385a9ca50"
      },
      "source": [
        "a = {1,2,3,4,5}\r\n",
        "b = {5,6,7,8,9}\r\n",
        "print(f'a - b = {a - b}')\r\n",
        "print(f'a - (a - b) = {a - (a - b)}')\r\n",
        "print(f'a & b = {a & b}')"
      ],
      "execution_count": 31,
      "outputs": [
        {
          "output_type": "stream",
          "text": [
            "a - b = {1, 2, 3, 4}\n",
            "a - (a - b) = {5}\n",
            "a & b = {5}\n"
          ],
          "name": "stdout"
        }
      ]
    },
    {
      "cell_type": "markdown",
      "metadata": {
        "id": "tBklNF0kMLp2"
      },
      "source": [
        "Задача 2\r\n",
        "\r\n",
        "Доказать что $ A = (A\\cap B) \\cup (A\\B) $\r\n"
      ]
    },
    {
      "cell_type": "code",
      "metadata": {
        "colab": {
          "base_uri": "https://localhost:8080/"
        },
        "id": "_11dJku7MOAG",
        "outputId": "b5ac634a-8f4d-4d1e-e3d6-a7473c4615ce"
      },
      "source": [
        "a = {1,2,3,4,5}\r\n",
        "b = {5,6,7,8,9}\r\n",
        "print(f'a - b = {a - b}')\r\n",
        "print(f'a & b = {a & b}')\r\n",
        "print(f'(a & b) | (a - b) = {(a & b) | (a - b)}')\r\n",
        "print(f'a = {a}')"
      ],
      "execution_count": 32,
      "outputs": [
        {
          "output_type": "stream",
          "text": [
            "a - b = {1, 2, 3, 4}\n",
            "a & b = {5}\n",
            "(a & b) | (a - b) = {1, 2, 3, 4, 5}\n",
            "a = {1, 2, 3, 4, 5}\n"
          ],
          "name": "stdout"
        }
      ]
    },
    {
      "cell_type": "markdown",
      "metadata": {
        "id": "2nQcezqPMRGh"
      },
      "source": [
        "\r\n",
        "Задача 3\r\n",
        "\r\n",
        "В классе 36 учеников. Каждый из них пользуется хотя бы одним из видов городского транспорта: метро, автобусом и троллейбусом. Всеми тремя видами транспорта пользуются 5 учеников, метро и автобусом – 17 учеников, метро и троллейбусом – 15 учеников, троллейбусом и автобусом – 7 учеников.\r\n",
        "\r\n",
        "Сколько учеников пользуются только одним видом транспорта?\r\n"
      ]
    },
    {
      "cell_type": "code",
      "metadata": {
        "colab": {
          "base_uri": "https://localhost:8080/"
        },
        "id": "wpf7ZrQhMTMr",
        "outputId": "4563d09f-34c5-4412-aafd-dbad25dc3afa"
      },
      "source": [
        "# M & A & T = 5\r\n",
        "# M & A = 17\r\n",
        "# M & T = 15\r\n",
        "# T & A = 7\r\n",
        "# =========\r\n",
        "# M | A | T ... = 36 - 5 = 31\r\n",
        "# M & A & NOT(T) = 17 - 5 = 12\r\n",
        "# M & T & NOT(A) = 15 - 5 = 10\r\n",
        "# T & A & NOT(M) = 7 - 5 = 2\r\n",
        "print(f'только одним видом транспорта пользуются {36 - 5 - 12 - 10 - 2} учеников')\r\n"
      ],
      "execution_count": 34,
      "outputs": [
        {
          "output_type": "stream",
          "text": [
            "только одним видом транспорта пользуются 7 учеников\n"
          ],
          "name": "stdout"
        }
      ]
    },
    {
      "cell_type": "markdown",
      "metadata": {
        "id": "-jXXa0kjMTek"
      },
      "source": [
        "\r\n",
        "\r\n",
        "Задача 4\r\n",
        "\r\n",
        "Первую или вторую контрольные работы по математике успешно написали 34 студента, первую или третью – 32 студент, вторую или третью – 31 студент. Не менее двух контрольных работ выполнили 20 студентов.\r\n",
        "\r\n",
        "Сколько студентов успешно решили только одну контрольную работу?"
      ]
    },
    {
      "cell_type": "code",
      "metadata": {
        "colab": {
          "base_uri": "https://localhost:8080/"
        },
        "id": "WYCM9CcmMUYL",
        "outputId": "66a498fa-4d67-4fcb-b67d-1ba1b496825e"
      },
      "source": [
        "# 1 | 2 = 34\r\n",
        "# 1 | 3 = 32\r\n",
        "# 2 | 3 = 31\r\n",
        "# (1 & 2) | (1 & 3) | (2 & 3) = 20\r\n",
        "# =========\r\n",
        "# 1 | 2 & NOT(12) = 34 - 20 = 14\r\n",
        "# 1 | 3 & NOT(13) = 32 - 20 = 12\r\n",
        "# 2 | 3 & NOT(23) = 31 - 20 = 11\r\n",
        "\r\n",
        "# только 1 | 2 | 1 | 3 | 2 | 3 = 14 + 12 + 11 = 37\r\n",
        "# тогда 1 | 2 | 3 = 37 / 2 ~= 18\r\n",
        "print(f'{18} студентов написали только одну контрольную работу')\r\n"
      ],
      "execution_count": 35,
      "outputs": [
        {
          "output_type": "stream",
          "text": [
            "18 студентов написали только одну контрольную работу\n"
          ],
          "name": "stdout"
        }
      ]
    }
  ]
}