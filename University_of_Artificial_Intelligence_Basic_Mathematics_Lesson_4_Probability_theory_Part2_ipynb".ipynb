{
  "nbformat": 4,
  "nbformat_minor": 0,
  "metadata": {
    "colab": {
      "name": "University of Artificial Intelligence. Basic Mathematics. Lesson 4 Probability theory Part2.ipynb\"",
      "provenance": [],
      "collapsed_sections": [],
      "include_colab_link": true
    },
    "kernelspec": {
      "name": "python3",
      "display_name": "Python 3"
    }
  },
  "cells": [
    {
      "cell_type": "markdown",
      "metadata": {
        "id": "view-in-github",
        "colab_type": "text"
      },
      "source": [
        "<a href=\"https://colab.research.google.com/github/rubygitflow/Higher-Math/blob/main/University_of_Artificial_Intelligence_Basic_Mathematics_Lesson_4_Probability_theory_Part2_ipynb%22.ipynb\" target=\"_parent\"><img src=\"https://colab.research.google.com/assets/colab-badge.svg\" alt=\"Open In Colab\"/></a>"
      ]
    },
    {
      "cell_type": "markdown",
      "metadata": {
        "id": "1wv0l1qohTJQ"
      },
      "source": [
        "# Курс \"Базовая математика\"\n",
        "# Занятие 4. Теория вероятности часть 2\n"
      ]
    },
    {
      "cell_type": "code",
      "metadata": {
        "id": "K3jU8Rqrqxyj"
      },
      "source": [
        "import numpy as np\n",
        "import scipy.integrate as integrate\n",
        "import scipy.special as special\n",
        "import matplotlib.pyplot as plt #Для отрисовки графиков\n",
        "%matplotlib inline\n",
        "from scipy.stats import norm\n",
        "from scipy.stats import uniform\n",
        "from scipy.stats import binom\n",
        "from scipy.stats import poisson\n",
        "from numpy.random import normal\n",
        "\n",
        "from collections import Counter\n",
        "import time"
      ],
      "execution_count": 1,
      "outputs": []
    },
    {
      "cell_type": "markdown",
      "metadata": {
        "id": "1_CJDyIJaFom"
      },
      "source": [
        "## ДЗ Light"
      ]
    },
    {
      "cell_type": "markdown",
      "metadata": {
        "id": "vcr3D40bgMHe"
      },
      "source": [
        "**Задача 7**\n",
        "\n",
        "Для задач 2 - 6 Вычислить среднее, дисперсию, скошенность, куртозис и 0.25 и 0.9 перцентили"
      ]
    },
    {
      "cell_type": "code",
      "metadata": {
        "id": "GWxGFtA_pdPE"
      },
      "source": [
        "def stats(distribution):\n",
        "  # for example: \n",
        "  # 1. https://docs.scipy.org/doc/scipy/reference/generated/scipy.stats.rv_continuous.html#scipy.stats.rv_continuous\n",
        "  # 2. http://espressocode.top/scipy-stats-tvar-function-python/\n",
        "  mean, var, skew, kurt = distribution.stats(moments='mvsk') \n",
        "  print(f'''\n",
        "  среднее: {mean}\n",
        "  дисперсия: {var}\n",
        "  скошенность: {skew}\n",
        "  куртозис: {kurt}\n",
        "  0.25 перцентилей: {distribution.ppf(0.25)}\n",
        "  0.9 перцентилей: {distribution.ppf(0.9)}\n",
        "  ''')"
      ],
      "execution_count": 2,
      "outputs": []
    },
    {
      "cell_type": "markdown",
      "metadata": {
        "id": "EdNc8OqRgNGa"
      },
      "source": [
        "**Задача 8**\n",
        "\n",
        "Для задач 2 - 6 Построить графики cdf и pdf"
      ]
    },
    {
      "cell_type": "code",
      "metadata": {
        "id": "n3YeSH_Q1K9T"
      },
      "source": [
        "def cdf_pdf_distribution(distribution, arr_size = 29):\n",
        "  # http://www.cse.chalmers.se/~richajo/dit862/L4/Lecture%204%20(normal%20distribution).html\n",
        "  rx = np.linspace(-7,7,arr_size)\n",
        "  cdf = [distribution.cdf(x) for x in rx]\n",
        "\n",
        "  is_pmf, is_pdf = False, False\n",
        "  try:\n",
        "    pmf = [distribution.pmf(x) for x in rx]\n",
        "    is_pmf = True\n",
        "  except AttributeError:\n",
        "    pdf = [distribution.pdf(x) for x in rx]\n",
        "    is_pdf = True\n",
        "\n",
        "  plt.figure(figsize=(8, 4))\n",
        "  plt.plot(rx, cdf, label='Распределение вероятностей — Cumulative Distribution Function')\n",
        "  if is_pmf: # discrete\n",
        "    # https://docs.scipy.org/doc/scipy/reference/generated/scipy.stats.poisson.html\n",
        "    plt.plot(rx, pmf, label='Плотность дискретного распределения — Probability Mass Function') \n",
        "  elif is_pdf: # continuous\n",
        "    # https://docs.scipy.org/doc/scipy/reference/generated/scipy.stats.norm.html\n",
        "    plt.plot(rx, pdf, label='Плотность непрерывного распределения — Probability Density Function')\n",
        "  plt.legend()\n",
        "  plt.grid(True)\n",
        "  plt.show()\n"
      ],
      "execution_count": 3,
      "outputs": []
    },
    {
      "cell_type": "markdown",
      "metadata": {
        "id": "IKN6k0hsftJr"
      },
      "source": [
        "**Задача 1**\n",
        "Непрерывная случайная величина X задана функцией плотности распределения:\n",
        "$$f(x) =\\left\\{\\begin{matrix}\n",
        " 0 &, if x < 1  \\\\b*x\n",
        " &, if 1 \\leq x< 5  \\\\ 0\n",
        " &, if x \\geq  5\n",
        "\\end{matrix}\\right.$$\n",
        "Найти коэффициент b , Вычислить $P(1 \\leq x <  3)$"
      ]
    },
    {
      "cell_type": "code",
      "metadata": {
        "id": "6D3o9zg6l937",
        "outputId": "63a90803-836d-44c7-c409-7a737dfc5cad",
        "colab": {
          "base_uri": "https://localhost:8080/",
          "height": 101
        }
      },
      "source": [
        "integral = integrate.quad(lambda x: x, 1, 5)\n",
        "b = 1/integral[0]\n",
        "P = b * integrate.quad(lambda x: x, 1, 3)[0]\n",
        "print(f'''\n",
        "integral = {integral}\n",
        "b = {b}\n",
        "P = {P}\n",
        "''')"
      ],
      "execution_count": null,
      "outputs": [
        {
          "output_type": "stream",
          "text": [
            "\n",
            "integral = (12.0, 1.3322676295501878e-13)\n",
            "b = 0.08333333333333333\n",
            "P = 0.3333333333333333\n",
            "\n"
          ],
          "name": "stdout"
        }
      ]
    },
    {
      "cell_type": "markdown",
      "metadata": {
        "id": "hlXTr6zif0Mu"
      },
      "source": [
        "**Задача 2**\n",
        "\n",
        "Случайная величина  ошибки взвешивания распределена по нормальному закону с нулевым математическим ожиданием и стандартным отклонением 4 грамма. Найти вероятность того, что очередное взвешивание будет проведено с ошибкой, не превышающей по модулю 6 грамм."
      ]
    },
    {
      "cell_type": "code",
      "metadata": {
        "id": "o-B7N_yhr0hL",
        "outputId": "8566682c-7640-4dca-a1e8-bc13f2249b8f",
        "colab": {
          "base_uri": "https://localhost:8080/",
          "height": 34
        }
      },
      "source": [
        "# по формуле\n",
        "beta = 0. # мат. ожидание\n",
        "alfa = 4.  # станд. отклонение\n",
        "integral = 1 / (alfa * np.sqrt(2*np.pi)) * integrate.quad(lambda x: np.exp( -( ((x-beta)**2) / float((2 * alfa**2 )))), -6, 6)[0]\n",
        "print(f'Probability: {integral}')"
      ],
      "execution_count": 6,
      "outputs": [
        {
          "output_type": "stream",
          "text": [
            "Probability: 0.866385597462284\n"
          ],
          "name": "stdout"
        }
      ]
    },
    {
      "cell_type": "code",
      "metadata": {
        "id": "u72a6xbswUDf",
        "outputId": "e80cc1be-e650-4e79-d9de-7bbc0015c681",
        "colab": {
          "base_uri": "https://localhost:8080/",
          "height": 34
        }
      },
      "source": [
        "# по библиотечной функции\n",
        "distribution = norm(beta, alfa)\n",
        "integral = distribution.cdf(6) - distribution.cdf(-6)\n",
        "print(f'Probability: {integral}')"
      ],
      "execution_count": 7,
      "outputs": [
        {
          "output_type": "stream",
          "text": [
            "Probability: 0.8663855974622838\n"
          ],
          "name": "stdout"
        }
      ]
    },
    {
      "cell_type": "code",
      "metadata": {
        "id": "BLhprgAUxkYb",
        "outputId": "9709a5e4-e360-4847-bf78-3c30861b36e1",
        "colab": {
          "base_uri": "https://localhost:8080/",
          "height": 151
        }
      },
      "source": [
        "# Задача № 2.7\n",
        "stats(distribution)"
      ],
      "execution_count": 8,
      "outputs": [
        {
          "output_type": "stream",
          "text": [
            "\n",
            "  среднее: 0.0\n",
            "  дисперсия: 16.0\n",
            "  скошенность: 0.0\n",
            "  куртозис: 0.0\n",
            "  0.25 перцентилей: -2.697959000784327\n",
            "  0.9 перцентилей: 5.1262062621784015\n",
            "  \n"
          ],
          "name": "stdout"
        }
      ]
    },
    {
      "cell_type": "code",
      "metadata": {
        "id": "QaDc5U6V3Oqd",
        "outputId": "5ea0b0aa-9efc-4134-f97d-a49e0d6fa3e3",
        "colab": {
          "base_uri": "https://localhost:8080/",
          "height": 268
        }
      },
      "source": [
        "# Задача № 2.8\n",
        "cdf_pdf_distribution(distribution)"
      ],
      "execution_count": 9,
      "outputs": [
        {
          "output_type": "display_data",
          "data": {
            "image/png": "[encoded data removed]",
            "text/plain": [
              "<Figure size 576x288 with 1 Axes>"
            ]
          },
          "metadata": {
            "tags": [],
            "needs_background": "light"
          }
        }
      ]
    },
    {
      "cell_type": "markdown",
      "metadata": {
        "id": "x7v5aPb4fz6Q"
      },
      "source": [
        "**Задача 3**\n",
        "\n",
        "Автобусы некоторого маршрута идут строго по расписанию и интервалом 5 минут. Составить функцию плотности случайной величины  X – времени ожидании очередного автобуса пассажиром, который наудачу подошёл к остановке. Найти вероятность того, что он будет ждать автобус не более 2x минут. "
      ]
    },
    {
      "cell_type": "code",
      "metadata": {
        "id": "tjHN-NcoxeM6",
        "outputId": "3fb42f44-8b96-4610-d38c-377c0468199c",
        "colab": {
          "base_uri": "https://localhost:8080/",
          "height": 101
        }
      },
      "source": [
        "print(f'''Имеем равномерное распределение:\n",
        "с интервалом a = 0 мин; b = 5 мин\n",
        "Функция плотности времени ожидания pdf(x) = 1/(b-a) = {1/(5-0)}\n",
        "Вероятность P(x) = сумма вероятностей по числу исходов за 2 минуты =  {1/5 + 1/5}\n",
        "''')"
      ],
      "execution_count": 10,
      "outputs": [
        {
          "output_type": "stream",
          "text": [
            "Имеем равномерное распределение:\n",
            "с интервалом a = 0 мин; b = 5 мин\n",
            "Функция плотности времени ожидания pdf(x) = 1/(b-a) = 0.2\n",
            "Вероятность P(x) = сумма вероятностей по числу исходов за 2 минуты =  0.4\n",
            "\n"
          ],
          "name": "stdout"
        }
      ]
    },
    {
      "cell_type": "code",
      "metadata": {
        "id": "xPnATnrax9Sb",
        "outputId": "9548d44e-d848-48b2-a0e5-f7e2d65a2d84",
        "colab": {
          "base_uri": "https://localhost:8080/",
          "height": 151
        }
      },
      "source": [
        "# Задача № 3.7\n",
        "stats(uniform(0,5))"
      ],
      "execution_count": 11,
      "outputs": [
        {
          "output_type": "stream",
          "text": [
            "\n",
            "  среднее: 2.5\n",
            "  дисперсия: 2.083333333333333\n",
            "  скошенность: 0.0\n",
            "  куртозис: -1.2\n",
            "  0.25 перцентилей: 1.25\n",
            "  0.9 перцентилей: 4.5\n",
            "  \n"
          ],
          "name": "stdout"
        }
      ]
    },
    {
      "cell_type": "code",
      "metadata": {
        "id": "FTZVEdID6HYa",
        "outputId": "254fe99b-dba0-47d4-a5dd-c51d0d1bf0ed",
        "colab": {
          "base_uri": "https://localhost:8080/",
          "height": 265
        }
      },
      "source": [
        "# Задача № 3.8\n",
        "cdf_pdf_distribution(uniform(0,5),401)"
      ],
      "execution_count": 12,
      "outputs": [
        {
          "output_type": "display_data",
          "data": {
            "image/png": "[encoded data removed]",
            "text/plain": [
              "<Figure size 576x288 with 1 Axes>"
            ]
          },
          "metadata": {
            "tags": [],
            "needs_background": "light"
          }
        }
      ]
    },
    {
      "cell_type": "markdown",
      "metadata": {
        "id": "VHOMe6bSf_Aq"
      },
      "source": [
        "**Задача 4**\n",
        "\n",
        "Завод отправил в торговую сеть 600 изделий. Вероятность повреждения изделия в пути равна 0.0035. Найти вероятность того, что при транспортировке будет повреждено: а) ни одного изделия, б) ровно 4 изделия, в) более 5 изделий."
      ]
    },
    {
      "cell_type": "code",
      "metadata": {
        "id": "iXXtuVuU4b2I",
        "outputId": "117578d6-f98c-42bc-b054-ec6e356ec8ef",
        "colab": {
          "base_uri": "https://localhost:8080/",
          "height": 101
        }
      },
      "source": [
        "# https://www.matburo.ru/ex_tv.php?p1=tvbinr\n",
        "start_time = time.time()\n",
        "print('Задача с биномиальным распределением дискретной случайной величины')\n",
        "n = 600\n",
        "p = 0.0035\n",
        "binomal = binom(n,p)\n",
        "print(f\"а): probability = {binomal.pmf(0)}\") \n",
        "print(f\"б): probability = {binomal.pmf(4)}\") \n",
        "# до 6 изделий не считается\n",
        "p_excl = 0\n",
        "for x in range(6):\n",
        "  p_excl += binomal.pmf(x)\n",
        "p5plus = 1 - p_excl\n",
        "print(f\"в): probability = {p5plus}\") \n",
        "print('Общее время: {:.5f}s'.format(time.time() - start_time))"
      ],
      "execution_count": 13,
      "outputs": [
        {
          "output_type": "stream",
          "text": [
            "Задача с биномиальным распределением дискретной случайной величины\n",
            "а): probability = 0.12200617783091904\n",
            "б): probability = 0.09926293982168545\n",
            "в): probability = 0.02023757008224758\n",
            "Общее время: 0.00437s\n"
          ],
          "name": "stdout"
        }
      ]
    },
    {
      "cell_type": "code",
      "metadata": {
        "id": "6Jv4N7biBahu",
        "outputId": "bcaf97e7-7d07-471d-a6bb-65ddea51a8e1",
        "colab": {
          "base_uri": "https://localhost:8080/",
          "height": 101
        }
      },
      "source": [
        "start_time = time.time()\n",
        "print('Более экономичный вариант считается через распределение Пуассона')\n",
        "n = 600\n",
        "p = 0.0035\n",
        "pssn = poisson(n*p)\n",
        "print(f\"а): probability = {pssn.pmf(0)}\") \n",
        "print(f\"б): probability = {pssn.pmf(4)}\") \n",
        "p_excl = 0\n",
        "for x in range(6):\n",
        "  p_excl += pssn.pmf(x)\n",
        "p5plus = 1 - p_excl\n",
        "print(f\"в): probability = {p5plus}\") \n",
        "print('Общее время: {:.5f}s'.format(time.time() - start_time))"
      ],
      "execution_count": 14,
      "outputs": [
        {
          "output_type": "stream",
          "text": [
            "Более экономичный вариант считается через распределение Пуассона\n",
            "а): probability = 0.1224564282529819\n",
            "б): probability = 0.09923103592945072\n",
            "в): probability = 0.02044908008963342\n",
            "Общее время: 0.00420s\n"
          ],
          "name": "stdout"
        }
      ]
    },
    {
      "cell_type": "markdown",
      "metadata": {
        "id": "mNlfXwDXYLn7"
      },
      "source": [
        "распределение Пуассона считает быстрее в 1,5 раза "
      ]
    },
    {
      "cell_type": "code",
      "metadata": {
        "id": "6yYylXLryT1H",
        "outputId": "53e680db-d5ca-4d19-d866-985b27574d45",
        "colab": {
          "base_uri": "https://localhost:8080/",
          "height": 151
        }
      },
      "source": [
        "# Задача № 4.7\n",
        "stats(pssn)"
      ],
      "execution_count": 15,
      "outputs": [
        {
          "output_type": "stream",
          "text": [
            "\n",
            "  среднее: 2.1\n",
            "  дисперсия: 2.1\n",
            "  скошенность: 0.6900655593423543\n",
            "  куртозис: 0.47619047619047616\n",
            "  0.25 перцентилей: 1.0\n",
            "  0.9 перцентилей: 4.0\n",
            "  \n"
          ],
          "name": "stdout"
        }
      ]
    },
    {
      "cell_type": "code",
      "metadata": {
        "id": "JOBpBXvB6bUD",
        "outputId": "41174760-0be0-4ebe-e58b-16575bfae9aa",
        "colab": {
          "base_uri": "https://localhost:8080/",
          "height": 265
        }
      },
      "source": [
        "# Задача № 4.8\n",
        "cdf_pdf_distribution(pssn,15)"
      ],
      "execution_count": 16,
      "outputs": [
        {
          "output_type": "display_data",
          "data": {
            "image/png": "[encoded data removed]",
            "text/plain": [
              "<Figure size 576x288 with 1 Axes>"
            ]
          },
          "metadata": {
            "tags": [],
            "needs_background": "light"
          }
        }
      ]
    },
    {
      "cell_type": "markdown",
      "metadata": {
        "id": "UGdheZGFgB-u"
      },
      "source": [
        "**Задача 5**\n",
        "\n",
        "Среднее число автомобилей, проходящих таможенный досмотр в течение часа, равно 2. Найти вероятность того, что: а) за 2 часа пройдут досмотр от 5 до 8 автомобилей; б) за полтора часа успеет пройти досмотр только 1 автомобиль."
      ]
    },
    {
      "cell_type": "code",
      "metadata": {
        "id": "j_FMkQhsZhLy",
        "outputId": "1f860a37-991b-4a06-ebcd-5d4e2ed00ad8",
        "colab": {
          "base_uri": "https://localhost:8080/",
          "height": 50
        }
      },
      "source": [
        "# Пусть единица времени = 2 часа\n",
        "pssn = poisson(2*2)\n",
        "p_pass = 0\n",
        "for x in range(5,9):\n",
        "  p_pass += pssn.pmf(x)\n",
        "print(f\"а): probability = {p_pass}\") \n",
        "# Пусть единица времени = 1.5 часа\n",
        "pssn = poisson(2*1.5)\n",
        "print(f\"б): probability = {pssn.pmf(1)}\") "
      ],
      "execution_count": 17,
      "outputs": [
        {
          "output_type": "stream",
          "text": [
            "а): probability = 0.3497996303321422\n",
            "б): probability = 0.14936120510359185\n"
          ],
          "name": "stdout"
        }
      ]
    },
    {
      "cell_type": "code",
      "metadata": {
        "id": "gLIkezQkykwL",
        "outputId": "68ecec4e-d8be-4602-bb46-18dab731210e",
        "colab": {
          "base_uri": "https://localhost:8080/",
          "height": 151
        }
      },
      "source": [
        "# Задача № 5.7\n",
        "stats(poisson(2))"
      ],
      "execution_count": 18,
      "outputs": [
        {
          "output_type": "stream",
          "text": [
            "\n",
            "  среднее: 2.0\n",
            "  дисперсия: 2.0\n",
            "  скошенность: 0.7071067811865476\n",
            "  куртозис: 0.5\n",
            "  0.25 перцентилей: 1.0\n",
            "  0.9 перцентилей: 4.0\n",
            "  \n"
          ],
          "name": "stdout"
        }
      ]
    },
    {
      "cell_type": "code",
      "metadata": {
        "id": "p9PnSi5f9zar",
        "outputId": "891106f2-2dd1-424d-a821-7c1bae6ec5db",
        "colab": {
          "base_uri": "https://localhost:8080/",
          "height": 265
        }
      },
      "source": [
        "# Задача № 5.8\n",
        "cdf_pdf_distribution(poisson(2),15)"
      ],
      "execution_count": 19,
      "outputs": [
        {
          "output_type": "display_data",
          "data": {
            "image/png": "[encoded data removed]",
            "text/plain": [
              "<Figure size 576x288 with 1 Axes>"
            ]
          },
          "metadata": {
            "tags": [],
            "needs_background": "light"
          }
        }
      ]
    },
    {
      "cell_type": "markdown",
      "metadata": {
        "id": "aEKVVVdZgB7c"
      },
      "source": [
        "**Задача 6**\n",
        "\n",
        "Не пользуясь готовыми библиотеками для вычисления cdf/pdf/pmf, выполнить задание:\n",
        "Интенивность звонков в колцентре составляет 90 звонков в час.\n",
        "\n",
        "Рассчитать: \n",
        "1)\n",
        "Вероятность ожидания звонка более 2.5 минут\n",
        "2)\n",
        "Прождать более 2-х минут если время ожидания уже составило 1 минуту"
      ]
    },
    {
      "cell_type": "code",
      "metadata": {
        "id": "iKgM4yzJZf-x",
        "outputId": "db9ea080-4906-4356-c27a-101c65218660",
        "colab": {
          "base_uri": "https://localhost:8080/",
          "height": 50
        }
      },
      "source": [
        "# Воспользуемся степенным распределением  в Пуассоновом процессе\n",
        "lambda_ = 90/60. # 1.5- звонка в минуту\n",
        "lambda_ = lambda_ * 2.5 # звонка в 2.5 мин\n",
        "pdf =  integrate.quad(lambda x: lambda_*np.exp(-lambda_*x),  0, 1)[0]\n",
        "print(f\"1) probability of call delay = {1-pdf}\")\n",
        "\n",
        "lambda_ = 90/60. * 3 # звонка в 3 мин\n",
        "pdf =  integrate.quad(lambda x: lambda_*np.exp(-lambda_*x),  0, 1)[0]\n",
        "print(f\"2) probability of call delay = {1-pdf}\")"
      ],
      "execution_count": 20,
      "outputs": [
        {
          "output_type": "stream",
          "text": [
            "1) probability of call delay = 0.023517745856009076\n",
            "2) probability of call delay = 0.011108996538242266\n"
          ],
          "name": "stdout"
        }
      ]
    },
    {
      "cell_type": "code",
      "metadata": {
        "id": "R-Cy2eJzzEmu",
        "outputId": "f488ba87-0e69-46fa-9d1f-fe59291fd2a1",
        "colab": {
          "base_uri": "https://localhost:8080/",
          "height": 151
        }
      },
      "source": [
        "# Задача № 6.7\n",
        "stats(poisson(90/60.))"
      ],
      "execution_count": 21,
      "outputs": [
        {
          "output_type": "stream",
          "text": [
            "\n",
            "  среднее: 1.5\n",
            "  дисперсия: 1.5\n",
            "  скошенность: 0.816496580927726\n",
            "  куртозис: 0.6666666666666666\n",
            "  0.25 перцентилей: 1.0\n",
            "  0.9 перцентилей: 3.0\n",
            "  \n"
          ],
          "name": "stdout"
        }
      ]
    },
    {
      "cell_type": "code",
      "metadata": {
        "id": "Anrnlaps-AJ8",
        "outputId": "0028158b-2474-4092-ad0d-f0bdcc216c25",
        "colab": {
          "base_uri": "https://localhost:8080/",
          "height": 265
        }
      },
      "source": [
        "# Задача № 6.8\n",
        "cdf_pdf_distribution(poisson(90/60.),15)"
      ],
      "execution_count": 22,
      "outputs": [
        {
          "output_type": "display_data",
          "data": {
            "image/png": "[encoded data removed]",
            "text/plain": [
              "<Figure size 576x288 with 1 Axes>"
            ]
          },
          "metadata": {
            "tags": [],
            "needs_background": "light"
          }
        }
      ]
    },
    {
      "cell_type": "markdown",
      "metadata": {
        "id": "TSNvghQ3gM94"
      },
      "source": [
        "## PRO Вариант 1"
      ]
    },
    {
      "cell_type": "markdown",
      "metadata": {
        "id": "w1ZACRpBgMxN"
      },
      "source": [
        "**Задача 1**\n",
        "\n",
        "На испытание поставлено 1200 однотипных ламп.\n",
        "За первые 2000 ч работы отказало 70 ламп, а за интервал 3000–\n",
        "4000 ч отказало еще 50 ламп. Определить частоту и интенсивность отказов электронных ламп в промежутке 3000–4000 ч работы.\n"
      ]
    },
    {
      "cell_type": "code",
      "metadata": {
        "id": "taFZR4n8moV8",
        "outputId": "b9450958-3eaa-49c5-cbb5-beb8755dc67a",
        "colab": {
          "base_uri": "https://localhost:8080/",
          "height": 50
        }
      },
      "source": [
        "# Задача на статистические показатели надежности: https://all4study.ru/proizvodstvo/kolichestvennye-pokazateli-nadezhnosti.html\n",
        "# Объяснение решения задачи: http://libraryno.ru/8-1-reshenie-tipovyh-zadach-teor_nadejnosti/\n",
        "amount = 1200 # общее количество ламп в поставке\n",
        "count = amount - 70 # ламп на момент начала сбора статистики после 3000 часов работы\n",
        "delta_time = 4000 - 3000 # часов на испытательном периоде\n",
        "n_burnt_out = 50\n",
        "P = n_burnt_out/amount/delta_time*100 # https://ru.wikipedia.org/wiki/%D0%A7%D0%B0%D1%81%D1%82%D0%BE%D1%82%D0%B0\n",
        "print(f'Частота отказов (для всей партии): {round(P,4)} %/час')\n",
        "λ = n_burnt_out/((count+(count-n_burnt_out))/2.)/delta_time*100 # https://ru.wikipedia.org/wiki/%D0%98%D0%BD%D1%82%D0%B5%D0%BD%D1%81%D0%B8%D0%B2%D0%BD%D0%BE%D1%81%D1%82%D1%8C_%D0%BE%D1%82%D0%BA%D0%B0%D0%B7%D0%BE%D0%B2\n",
        "print(f'Интенсивность отказов (для текущего количества работающих ламп): {round(λ,4)} %/час')"
      ],
      "execution_count": 26,
      "outputs": [
        {
          "output_type": "stream",
          "text": [
            "Частота отказов (для всей партии): 0.0042 %/час\n",
            "Интенсивность отказов (для текущего количества работающих ламп): 0.0045 %/час\n"
          ],
          "name": "stdout"
        }
      ]
    },
    {
      "cell_type": "markdown",
      "metadata": {
        "id": "vIfMM1LNdwJs"
      },
      "source": [
        "**Задача 2**\n",
        "\n",
        "В течение некоторого периода времени производилось наблюдение за работой одного экземпляра радиолокационной станции. За весь период наблюдения было зафиксировано 15 отказов. До начала наблюдения станция проработала\n",
        "258 часов, а к концу наблюдения наработка станции составила\n",
        "1233 часа. Требуется определить среднюю наработку на отказ\n"
      ]
    },
    {
      "cell_type": "code",
      "metadata": {
        "id": "vy5I2123x4Vo",
        "outputId": "68b8caec-535a-446e-cd7c-da276a02c6f2",
        "colab": {
          "base_uri": "https://localhost:8080/",
          "height": 101
        }
      },
      "source": [
        "# Объяснение решения задачи: http://libraryno.ru/8-1-reshenie-tipovyh-zadach-teor_nadejnosti/\n",
        "print(f'''\n",
        "Cредняя наработка на отказ — это отношение\n",
        "количества работы за время надлюдений\n",
        "к количеству отказов: {(1233 - 258)/15}\n",
        "''')"
      ],
      "execution_count": 28,
      "outputs": [
        {
          "output_type": "stream",
          "text": [
            "\n",
            "Cредняя наработка на отказ — это отношение\n",
            "количества работы за время надлюдений\n",
            "к количеству отказов: 65.0\n",
            "\n"
          ],
          "name": "stdout"
        }
      ]
    },
    {
      "cell_type": "markdown",
      "metadata": {
        "id": "FGES-O4pdy-t"
      },
      "source": [
        "\n",
        "**Задача 3**\n",
        "\n",
        "Система состоит из пяти приборов, вероятность исправной работы которых в течение времени t = 100 ч\n",
        "равны: р1(100) = 0,9996; р2(100) = 0,9998; р3(100) = 0,9996;\n",
        "р4(100) = 0,999; р5(100) = 0,9998. Требуется определить частоту\n",
        "отказов системы в момент времени t = 100 ч.\n"
      ]
    },
    {
      "cell_type": "code",
      "metadata": {
        "id": "HQPaHgR-5il-",
        "outputId": "afaca503-6ac3-4b71-8a31-4ddcd3d2bfb4",
        "colab": {
          "base_uri": "https://localhost:8080/",
          "height": 34
        }
      },
      "source": [
        "# Объяснение решения задачи: http://oldwww.rgotups.ru/ru/kursi/imu/uml/20-39-3.pdf\n",
        "\n",
        "p_100 = 1 - ((1 - 0.9996) + (1 - 0.9998) + (1 - 0.9996) + (1 - 0.999) + (1 - 0.9998))  # вероятности безотказной работы\n",
        "lambda_100 = (1 - p_100) / 100 #  интенсивность отказов\n",
        "print(f\"Частота отказов: {lambda_100 * (1 - lambda_100 * 100)} раз/час\")"
      ],
      "execution_count": 29,
      "outputs": [
        {
          "output_type": "stream",
          "text": [
            "Частота отказов: 2.1951599999998694e-05 раз/час\n"
          ],
          "name": "stdout"
        }
      ]
    },
    {
      "cell_type": "markdown",
      "metadata": {
        "id": "A2-AMTCtd1R1"
      },
      "source": [
        "**Задача 4**\n",
        "\n",
        "Вероятность безотказной работы преобразователя постоянного тока в переменный в течение t = 1000 ч равна\n",
        "0,95. Для повышения надежности системы электроснабжения\n",
        "на объекте имеется такой же преобразователь, который включается в работу при отказе первого. Требуется рассчитать вероятность безотказной работы и среднюю наработку до первого\n",
        "отказа системы, состоящей из двух преобразователей."
      ]
    },
    {
      "cell_type": "code",
      "metadata": {
        "id": "oUd87SJeB7o3",
        "outputId": "a1c72ce1-4694-4307-d51f-5a8789480eef",
        "colab": {
          "base_uri": "https://localhost:8080/",
          "height": 50
        }
      },
      "source": [
        "# Объяснение решения задачи: https://studfile.net/preview/1972112/\n",
        "p_1000 = 0.95 # вероятность исправной работы одного прибора\n",
        "p_system_failure = (1-p_1000)**2 # вероятность отказа системы по условию И\n",
        "uptime_p = 1 - p_system_failure \n",
        "print(f'Вероятность безотказной работы: {round(uptime_p,5)}')\n",
        "lambda_1000 = (1 - p_1000) / 1000 #  интенсивность отказа одного прибора\n",
        "t_mid = 1 / lambda_1000 # средняя наработка до первого отказа первого прибора\n",
        "print(f'Средняя наработка до первого отказа системы: {round( t_mid + t_mid , 5)}') "
      ],
      "execution_count": 31,
      "outputs": [
        {
          "output_type": "stream",
          "text": [
            "Вероятность безотказной работы: 0.9975\n",
            "Средняя наработка до первого отказа системы: 40000.0\n"
          ],
          "name": "stdout"
        }
      ]
    },
    {
      "cell_type": "markdown",
      "metadata": {
        "id": "MYQTFpYuaNaz"
      },
      "source": [
        "## PRO Вариант 2"
      ]
    },
    {
      "cell_type": "markdown",
      "metadata": {
        "id": "quFBbqi7gMXS"
      },
      "source": [
        "\n",
        "Попытаться доказать утверждение центральной предельной теоремы о том, что сумма N независимых и одинаково распределенных случайных величин, отобранных практически из любого распределения, имеет распределение, близкое к нормальному. Для доказательства взять семплирования из семейства экспоненциальных распределений\n",
        "\n",
        "Математически доказывать не нужно, достаточно проиллюстрировать графически верность утверждения.\n",
        "\n",
        "Записать вывод о том, как размер выборки влияет на доказательство."
      ]
    },
    {
      "cell_type": "markdown",
      "metadata": {
        "id": "Vw0A6K6CY_6W"
      },
      "source": [
        "**Возьмём из лекции на рассмотрение задачу 2 для нормального распределения**\n",
        "\n",
        "*Из пункта A ведётся стрельба из орудия вдоль прямой X. Предполагается, что дальность полёта распределена нормально с математическим ожиданием 1000 м и средним квадратическим отклонением 5 м. Определить сколько снарядов упадёт с перелётом от 5 до 70м.*"
      ]
    },
    {
      "cell_type": "code",
      "metadata": {
        "id": "Gvr9ttO9Y9rC",
        "outputId": "0e4d1748-a931-41af-c5a4-4855f0bd1288",
        "colab": {
          "base_uri": "https://localhost:8080/",
          "height": 982
        }
      },
      "source": [
        "# границы диапазонов 1000 ± 3*5 => 985 ÷ 1015\n",
        "rx = []\n",
        "rb = []\n",
        "for i in range(985, 1016, 3):\n",
        "  rx.append(i)\n",
        "  rb.append(i + 3./2)\n",
        "print('Пункты:',rx)\n",
        "rb = rb[:-1]\n",
        "print('Границы диапазонов:',rb)\n",
        "\n",
        "def random_normal_distribution(arr_size = 20):\n",
        "  print('Семплируем из распределения')\n",
        "  y1 = []\n",
        "  for i in range(arr_size):\n",
        "    y1.append(norm(loc=1000, scale=5).rvs())\n",
        "    # print(y1[-1])\n",
        "  y1 = sorted(y1)\n",
        "  # категоризация принадлежности значения одному из диапазонов в массиве\n",
        "  def add_category(x):\n",
        "    for i, el in enumerate(rb):\n",
        "      if x < el:\n",
        "        return rx[i]\n",
        "    return rx[len(rb)]\n",
        "  list_data = [i for i in map(add_category, y1)]\n",
        "  # print('Принадлежность значений диапазонам:',list_data)\n",
        "  c = Counter(list_data)\n",
        "\n",
        "  # print('Выравниваем статистику по массиву распределения')\n",
        "  rc = []\n",
        "  for el in rx:\n",
        "    try:\n",
        "      rc.append(c[el])\n",
        "    except KeyError:\n",
        "      rc.append(0)\n",
        "\n",
        "  # https://pyprog.pro/mpl/mpl_bar.html\n",
        "  fig, ax = plt.subplots()\n",
        "  ax.bar(rx, rc)\n",
        "  fig.set_figwidth(10)\n",
        "  fig.set_figheight(3)\n",
        "  plt.suptitle(f'Распределение {arr_size}')\n",
        "  plt.grid(True)\n",
        "  plt.show()\n",
        "\n",
        "\n",
        "random_normal_distribution(20)\n",
        "\n",
        "random_normal_distribution(200)\n",
        "\n",
        "random_normal_distribution(2000)\n",
        "\n",
        "random_normal_distribution(20000)"
      ],
      "execution_count": null,
      "outputs": [
        {
          "output_type": "stream",
          "text": [
            "Пункты: [985, 988, 991, 994, 997, 1000, 1003, 1006, 1009, 1012, 1015]\n",
            "Границы диапазонов: [986.5, 989.5, 992.5, 995.5, 998.5, 1001.5, 1004.5, 1007.5, 1010.5, 1013.5]\n",
            "Семплируем из распределения\n"
          ],
          "name": "stdout"
        },
        {
          "output_type": "display_data",
          "data": {
            "image/png": "[encoded data removed]",
            "text/plain": [
              "<Figure size 720x216 with 1 Axes>"
            ]
          },
          "metadata": {
            "tags": [],
            "needs_background": "light"
          }
        },
        {
          "output_type": "stream",
          "text": [
            "Семплируем из распределения\n"
          ],
          "name": "stdout"
        },
        {
          "output_type": "display_data",
          "data": {
            "image/png": "[encoded data removed]",
            "text/plain": [
              "<Figure size 720x216 with 1 Axes>"
            ]
          },
          "metadata": {
            "tags": [],
            "needs_background": "light"
          }
        },
        {
          "output_type": "stream",
          "text": [
            "Семплируем из распределения\n"
          ],
          "name": "stdout"
        },
        {
          "output_type": "display_data",
          "data": {
            "image/png": "[encoded data removed]",
            "text/plain": [
              "<Figure size 720x216 with 1 Axes>"
            ]
          },
          "metadata": {
            "tags": [],
            "needs_background": "light"
          }
        },
        {
          "output_type": "stream",
          "text": [
            "Семплируем из распределения\n"
          ],
          "name": "stdout"
        },
        {
          "output_type": "display_data",
          "data": {
            "image/png": "[encoded data removed]",
            "text/plain": [
              "<Figure size 720x216 with 1 Axes>"
            ]
          },
          "metadata": {
            "tags": [],
            "needs_background": "light"
          }
        }
      ]
    },
    {
      "cell_type": "markdown",
      "metadata": {
        "id": "9iMSeKdCt0uY"
      },
      "source": [
        "Суммы случайных слабозависимых величин, разбитых по категориям, действительно стремятся к **нормальному** распределению"
      ]
    },
    {
      "cell_type": "markdown",
      "metadata": {
        "id": "e_VLF0zcxCxO"
      },
      "source": [
        "**Возьмём из лекции на рассмотрение задачу 5 для равномерного распределения**\n",
        "\n",
        "*Цена деления шкалы измерительного прибора равна 0.2. Показания прибора округляются до ближайшего целого деления. Считая, что погрешности округлений распределены равномерно, найти вероятность того, что при очередном измерении она не превзойдёт 0.03.*"
      ]
    },
    {
      "cell_type": "code",
      "metadata": {
        "id": "6w4BKerdZOlo",
        "outputId": "5da52bdc-120f-491f-ff93-1f8505fce4b5",
        "colab": {
          "base_uri": "https://localhost:8080/",
          "height": 998
        }
      },
      "source": [
        "# границы диапазонов 0 ÷ 0.02\n",
        "rx = np.linspace(0,0.2,21)\n",
        "# половинный сдвиг 0.01/2\n",
        "rb = [round(el+0.01,5) for el in rx]\n",
        "print('Пункты:',rx)\n",
        "rb = rb[:-1]\n",
        "print('Границы диапазонов:',rb)\n",
        "\n",
        "def random_uniform_distribution(arr_size = 20):\n",
        "  print('Семплируем из распределения')\n",
        "  y1 = []\n",
        "  for i in range(arr_size):\n",
        "    y1.append(uniform(0,0.2).rvs())\n",
        "    # print(y1[-1])\n",
        "  y1 = sorted(y1)\n",
        "  # категоризация принадлежности значения одному из диапазонов в массиве\n",
        "  def add_category(x):\n",
        "    for i, el in enumerate(rb):\n",
        "      if x < el:\n",
        "        return rx[i]\n",
        "    return rx[len(rb)]\n",
        "  list_data = [i for i in map(add_category, y1)]\n",
        "  # print('Принадлежность значений диапазонам:',list_data)\n",
        "  c = Counter(list_data)\n",
        "\n",
        "  # print('Выравниваем статистику по массиву распределения')\n",
        "  rc = []\n",
        "  for el in rx:\n",
        "    try:\n",
        "      rc.append(c[el])\n",
        "    except KeyError:\n",
        "      rc.append(0)\n",
        "\n",
        "  # https://pyprog.pro/mpl/mpl_bar.html\n",
        "  fig, ax = plt.subplots()\n",
        "  ax.bar(rx, rc, width = 0.005)\n",
        "  fig.set_figwidth(10)\n",
        "  fig.set_figheight(3)\n",
        "  plt.suptitle(f'Распределение {arr_size}')\n",
        "  plt.grid(True)\n",
        "  plt.show()\n",
        "\n",
        "\n",
        "random_uniform_distribution(20)\n",
        "\n",
        "random_uniform_distribution(200)\n",
        "\n",
        "random_uniform_distribution(2000)\n",
        "\n",
        "random_uniform_distribution(20000)"
      ],
      "execution_count": null,
      "outputs": [
        {
          "output_type": "stream",
          "text": [
            "Пункты: [0.   0.01 0.02 0.03 0.04 0.05 0.06 0.07 0.08 0.09 0.1  0.11 0.12 0.13\n",
            " 0.14 0.15 0.16 0.17 0.18 0.19 0.2 ]\n",
            "Границы диапазонов: [0.01, 0.02, 0.03, 0.04, 0.05, 0.06, 0.07, 0.08, 0.09, 0.1, 0.11, 0.12, 0.13, 0.14, 0.15, 0.16, 0.17, 0.18, 0.19, 0.2]\n",
            "Семплируем из распределения\n"
          ],
          "name": "stdout"
        },
        {
          "output_type": "display_data",
          "data": {
            "image/png": "[encoded data removed]",
            "text/plain": [
              "<Figure size 720x216 with 1 Axes>"
            ]
          },
          "metadata": {
            "tags": [],
            "needs_background": "light"
          }
        },
        {
          "output_type": "stream",
          "text": [
            "Семплируем из распределения\n"
          ],
          "name": "stdout"
        },
        {
          "output_type": "display_data",
          "data": {
            "image/png": "[encoded data removed]",
            "text/plain": [
              "<Figure size 720x216 with 1 Axes>"
            ]
          },
          "metadata": {
            "tags": [],
            "needs_background": "light"
          }
        },
        {
          "output_type": "stream",
          "text": [
            "Семплируем из распределения\n"
          ],
          "name": "stdout"
        },
        {
          "output_type": "display_data",
          "data": {
            "image/png": "[encoded data removed]",
            "text/plain": [
              "<Figure size 720x216 with 1 Axes>"
            ]
          },
          "metadata": {
            "tags": [],
            "needs_background": "light"
          }
        },
        {
          "output_type": "stream",
          "text": [
            "Семплируем из распределения\n"
          ],
          "name": "stdout"
        },
        {
          "output_type": "display_data",
          "data": {
            "image/png": "[encoded data removed]",
            "text/plain": [
              "<Figure size 720x216 with 1 Axes>"
            ]
          },
          "metadata": {
            "tags": [],
            "needs_background": "light"
          }
        }
      ]
    },
    {
      "cell_type": "markdown",
      "metadata": {
        "id": "CwJ9XTmximYk"
      },
      "source": [
        "А здесь суммы случайный величин, разбитых по категориям, стремятся к **равномерному** распределению"
      ]
    }
  ]
}