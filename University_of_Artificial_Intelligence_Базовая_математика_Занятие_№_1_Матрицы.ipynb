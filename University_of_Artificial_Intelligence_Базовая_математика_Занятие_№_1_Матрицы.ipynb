{
  "nbformat": 4,
  "nbformat_minor": 0,
  "metadata": {
    "colab": {
      "name": "University of Artificial Intelligence. Базовая математика. Занятие № 1 Матрицы.ipynb",
      "provenance": [],
      "collapsed_sections": [
        "cOTNHhnHNYnm",
        "VwXhqrb4PeDv",
        "GRVesG2LYaWk",
        "ZqxTkeFXPah7",
        "zQ0UDAoSxMkU",
        "cSPlGvGS0CVD",
        "uk7a53kA1Iku",
        "7DZziZ483vCz"
      ],
      "include_colab_link": true
    },
    "kernelspec": {
      "name": "python3",
      "display_name": "Python 3"
    }
  },
  "cells": [
    {
      "cell_type": "markdown",
      "metadata": {
        "id": "view-in-github",
        "colab_type": "text"
      },
      "source": [
        "<a href=\"https://colab.research.google.com/github/rubygitflow/Higher-Math/blob/main/University_of_Artificial_Intelligence_%D0%91%D0%B0%D0%B7%D0%BE%D0%B2%D0%B0%D1%8F_%D0%BC%D0%B0%D1%82%D0%B5%D0%BC%D0%B0%D1%82%D0%B8%D0%BA%D0%B0_%D0%97%D0%B0%D0%BD%D1%8F%D1%82%D0%B8%D0%B5_%E2%84%96_1_%D0%9C%D0%B0%D1%82%D1%80%D0%B8%D1%86%D1%8B.ipynb\" target=\"_parent\"><img src=\"https://colab.research.google.com/assets/colab-badge.svg\" alt=\"Open In Colab\"/></a>"
      ]
    },
    {
      "cell_type": "markdown",
      "metadata": {
        "id": "cOTNHhnHNYnm"
      },
      "source": [
        "#Курс \"Базовая математика\"\n",
        "#Занятие 1. Матрицы\n"
      ]
    },
    {
      "cell_type": "markdown",
      "metadata": {
        "id": "VwXhqrb4PeDv"
      },
      "source": [
        "## Действия над векторами (аналитическая  геометрия)"
      ]
    },
    {
      "cell_type": "code",
      "metadata": {
        "id": "aNW5uEzwPklH",
        "outputId": "9c6ad067-35e5-4578-8a99-4df746cb76aa",
        "colab": {
          "base_uri": "https://localhost:8080/",
          "height": 34
        }
      },
      "source": [
        "# Даны две точки плоскости A(2,3) и B(-3,1). Найти координаты вектора AB\n",
        "#AB  = (x2-x1,y2-y1)\n",
        "print (\"Vector's Coordinates: ({},{})\".format((-3)-2,1-3))"
      ],
      "execution_count": null,
      "outputs": [
        {
          "output_type": "stream",
          "text": [
            "Vector's Coordinates: (-5,-2)\n"
          ],
          "name": "stdout"
        }
      ]
    },
    {
      "cell_type": "code",
      "metadata": {
        "id": "nnjahZ4-RWnl",
        "outputId": "850ed5bd-8875-48b5-b749-3e04ac3e63f6",
        "colab": {
          "base_uri": "https://localhost:8080/",
          "height": 50
        }
      },
      "source": [
        "# Даны две точки плоскости A(1,3) и B(-3,-1). Найти модуль вектора AB\n",
        "import numpy as np\n",
        "#AB(x,y)  = sqrt(x**2 + y**2)\n",
        "print (\"Vector's Coordinates: ({},{})\".format((-3)-1,(-1)-3))\n",
        "print (\"Vector's module: {}\".format(np.sqrt( ((-3)-1)**2  + ((-1)-3)**2 )))"
      ],
      "execution_count": null,
      "outputs": [
        {
          "output_type": "stream",
          "text": [
            "Vector's Coordinates: (-4,-4)\n",
            "Vector's module: 5.656854249492381\n"
          ],
          "name": "stdout"
        }
      ]
    },
    {
      "cell_type": "code",
      "metadata": {
        "id": "rM0PjxLdEDKt",
        "outputId": "83eb57d8-0f8b-482b-915f-f12903dca00b",
        "colab": {
          "base_uri": "https://localhost:8080/",
          "height": 101
        }
      },
      "source": [
        "# Даны два вектора a(1,-3) и b(3,2). Найти: 2a, a+b, a-b\n",
        "import numpy as np\n",
        "#C * a(x,y) = b(C*x,C*y) \n",
        "#a(x1,y1) + b(x2,y2) = c(x1+x2,y1+y2) \n",
        "#a(x1,y1) - b(x2,y2) = c(x1-x2,y1-y2)  \n",
        "\n",
        "class vector_2d:\n",
        "\n",
        "  def __init__(self,coords):\n",
        "    self.x = coords[0]\n",
        "    self.y = coords[1]\n",
        "\n",
        "  def scalar_miltiplier(self,scalar):\n",
        "    return (self.x*scalar,self.y*scalar)\n",
        "\n",
        "  def add_substract(self,v,type_='add'):\n",
        "    if type_=='add':\n",
        "      return (self.x+v.x,self.y+v.y)\n",
        "    if type_=='subs':\n",
        "      return (self.x-v.x,self.y-v.y)\n",
        "\n",
        "\n",
        "a = vector_2d(coords=(1,-3))\n",
        "b = vector_2d(coords=(3,2))\n",
        "\n",
        "\n",
        "print (\" a Coordinates: ({}, {})\".format(a.x,a.y))\n",
        "print (\" b Coordinates: ({}, {})\".format(b.x,b.y))\n",
        "print (\" 2*a: {}\".format(a.scalar_miltiplier(2)))\n",
        "print (\" a+b: {}\".format(a.add_substract(b)))\n",
        "print (\" a-b: {}\".format(a.add_substract(b,type_='subs')))"
      ],
      "execution_count": null,
      "outputs": [
        {
          "output_type": "stream",
          "text": [
            " a Coordinates: (1, -3)\n",
            " b Coordinates: (3, 2)\n",
            " 2*a: (2, -6)\n",
            " a+b: (4, -1)\n",
            " a-b: (-2, -5)\n"
          ],
          "name": "stdout"
        }
      ]
    },
    {
      "cell_type": "code",
      "metadata": {
        "id": "bNfc3Dl_GW86",
        "outputId": "720ce44c-65df-4fff-f732-e688067e6228",
        "colab": {
          "base_uri": "https://localhost:8080/",
          "height": 34
        }
      },
      "source": [
        "# Найти скалярное произведение векторов a(1,4) и b(-3,2), если угол между a и b = pi/6\n",
        "# a*b = |a|*|b| * cos(a,b)\n",
        "\n",
        "class vector_2d:\n",
        "\n",
        "  def __init__(self,coords):\n",
        "    self.x = coords[0]\n",
        "    self.y = coords[1]\n",
        "  \n",
        "  #add more functions\n",
        "  def get_module(self):\n",
        "    return np.sqrt(self.x**2 + self.y**2)\n",
        "  \n",
        "  @staticmethod\n",
        "  def compute_cosine(rad):\n",
        "    return np.cos(rad)\n",
        "\n",
        "  def vector_product(self,v,rad):\n",
        "    return (self.get_module() * v.get_module() * self.compute_cosine(rad))\n",
        "\n",
        "  def scalar_miltiplier(self,scalar):\n",
        "    return (self.x*scalar,self.y*scalar)\n",
        "\n",
        "  def add_substract(self,v,type_='add'):\n",
        "    if type_=='add':\n",
        "      return (self.x+v.x,self.y+v.y)\n",
        "    if type_=='subs':\n",
        "      return (self.x-v.x,self.y-v.y)\n",
        "\n",
        "a = vector_2d(coords=(1,4))\n",
        "b = vector_2d(coords=(-3,2))\n",
        "\n",
        "print (\" a*b = {}\".format(a.vector_product(b,np.pi/6)))  "
      ],
      "execution_count": null,
      "outputs": [
        {
          "output_type": "stream",
          "text": [
            " a*b = 12.874393189583733\n"
          ],
          "name": "stdout"
        }
      ]
    },
    {
      "cell_type": "code",
      "metadata": {
        "id": "PEIrfrWzEDW8",
        "outputId": "ee3ad73a-dbb4-46c3-a99d-d5c7ac694d81",
        "colab": {
          "base_uri": "https://localhost:8080/",
          "height": 34
        }
      },
      "source": [
        "# нахождение угла:\n",
        "# угол = arccos(a*b/|a|*|b|)\n",
        "a = vector_2d(coords=(1,4))\n",
        "b = vector_2d(coords=(-3,2))\n",
        "a_b = 12.874393189583733\n",
        "ang = a_b/(a.get_module() * b.get_module()) \n",
        "print (\" Угол равен = {}\".format(np.arccos(ang)))  \n",
        "\n"
      ],
      "execution_count": null,
      "outputs": [
        {
          "output_type": "stream",
          "text": [
            " Угол равен = 0.5235987755982987\n"
          ],
          "name": "stdout"
        }
      ]
    },
    {
      "cell_type": "code",
      "metadata": {
        "id": "TntoVshXPXpv",
        "outputId": "a9f3192c-dde5-47ed-f66d-c19c618b8bc8",
        "colab": {
          "base_uri": "https://localhost:8080/",
          "height": 34
        }
      },
      "source": [
        "# Скалярное произведение векторов в координатах\n",
        "# a(x1,x2)* b(y1,y2) = ab(x1*y1+x2*y2)\n",
        "print (\" Скалярное произведение ab в координатах = {}\".format(a.x*b.x + a.y*b.y))  "
      ],
      "execution_count": null,
      "outputs": [
        {
          "output_type": "stream",
          "text": [
            " Скалярное произведение ab в координатах = 5\n"
          ],
          "name": "stdout"
        }
      ]
    },
    {
      "cell_type": "markdown",
      "metadata": {
        "id": "GRVesG2LYaWk"
      },
      "source": [
        "### Матрицы и действия над ними"
      ]
    },
    {
      "cell_type": "code",
      "metadata": {
        "id": "zC-kykkKYZkn"
      },
      "source": [
        "from copy import deepcopy\n",
        "\n",
        "class Matrix():\n",
        "\n",
        "  def __init__(self, matrix):\n",
        "    self.matrix=matrix\n",
        "    self.n = len(matrix)\n",
        "    self.m = len(matrix[0])\n",
        "\n",
        "  def scalar_miltiplier(self,scalar):\n",
        "    \n",
        "    for i in range(self.n):\n",
        "      row = []\n",
        "      for j in range(self.m):\n",
        "        row.append(self.matrix[i][j]*scalar)\n",
        "      self.matrix[i] = row\n",
        "\n",
        "  def T(self):\n",
        "    transpose = deepcopy(self.matrix)\n",
        "    for i in range(self.n):\n",
        "      for j in range(self.m):\n",
        "        transpose[i][j] = self.matrix[j][i]\n",
        "    return transpose\n",
        "\n"
      ],
      "execution_count": null,
      "outputs": []
    },
    {
      "cell_type": "code",
      "metadata": {
        "id": "XnnemNfEawyq"
      },
      "source": [
        "m1 = Matrix([[1,2,3],\n",
        "      [3,2,1],\n",
        "      [0,0,1]\n",
        "      ])"
      ],
      "execution_count": null,
      "outputs": []
    },
    {
      "cell_type": "code",
      "metadata": {
        "id": "JlcYkTa7bIir",
        "outputId": "1cac770f-ffb4-41c7-e3c0-ab38f499873c",
        "colab": {
          "base_uri": "https://localhost:8080/",
          "height": 34
        }
      },
      "source": [
        "m1.matrix"
      ],
      "execution_count": null,
      "outputs": [
        {
          "output_type": "execute_result",
          "data": {
            "text/plain": [
              "[[1, 2, 3], [3, 2, 1], [0, 0, 1]]"
            ]
          },
          "metadata": {
            "tags": []
          },
          "execution_count": 53
        }
      ]
    },
    {
      "cell_type": "code",
      "metadata": {
        "id": "VekPCRuVbLes",
        "outputId": "d25c4674-cf61-4918-c03e-f61a711bddaa",
        "colab": {
          "base_uri": "https://localhost:8080/",
          "height": 34
        }
      },
      "source": [
        "m1.scalar_miltiplier(-1)\n",
        "m1.matrix"
      ],
      "execution_count": null,
      "outputs": [
        {
          "output_type": "execute_result",
          "data": {
            "text/plain": [
              "[[-1, -2, -3], [-3, -2, -1], [0, 0, -1]]"
            ]
          },
          "metadata": {
            "tags": []
          },
          "execution_count": 20
        }
      ]
    },
    {
      "cell_type": "code",
      "metadata": {
        "id": "14DAjFlybKLt",
        "outputId": "ad93620e-920b-48d5-fbac-5c6aa8168d19",
        "colab": {
          "base_uri": "https://localhost:8080/",
          "height": 34
        }
      },
      "source": [
        "m1.T()\n"
      ],
      "execution_count": null,
      "outputs": [
        {
          "output_type": "execute_result",
          "data": {
            "text/plain": [
              "[[1, 3, 0], [2, 2, 0], [3, 1, 1]]"
            ]
          },
          "metadata": {
            "tags": []
          },
          "execution_count": 26
        }
      ]
    },
    {
      "cell_type": "code",
      "metadata": {
        "id": "sl2UnVrmhfHB"
      },
      "source": [
        "def matrix_add(m1,m2):\n",
        "  new_m = deepcopy(m1.matrix)\n",
        "  print('m1.n =',m1.n)\n",
        "  print('m1.m =',m1.m)\n",
        "  for i in range(m1.n):\n",
        "      for j in range(m1.m):\n",
        "        new_m[i][j] = m1.matrix[i][j]+m2.matrix[i][j]\n",
        "  return new_m\n"
      ],
      "execution_count": null,
      "outputs": []
    },
    {
      "cell_type": "code",
      "metadata": {
        "id": "4ymF4bw0jd6G",
        "outputId": "bf9994e9-0c31-4898-a160-40c1b854f655",
        "colab": {
          "base_uri": "https://localhost:8080/",
          "height": 67
        }
      },
      "source": [
        "matrix_add(m1,m1)"
      ],
      "execution_count": null,
      "outputs": [
        {
          "output_type": "stream",
          "text": [
            "m1.n = 3\n",
            "m1.m = 3\n"
          ],
          "name": "stdout"
        },
        {
          "output_type": "execute_result",
          "data": {
            "text/plain": [
              "[[2, 4, 6], [6, 4, 2], [0, 0, 2]]"
            ]
          },
          "metadata": {
            "tags": []
          },
          "execution_count": 34
        }
      ]
    },
    {
      "cell_type": "code",
      "metadata": {
        "id": "PAR6VAhkkGeE"
      },
      "source": [
        "def prod_matrix(m1, m2):\n",
        "  n = m1.n\n",
        "  m = m2.m\n",
        "  \n",
        "  \n",
        "  out_matrix = []\n",
        "  \n",
        "  for i in range(n):\n",
        "    row = []\n",
        "    for j in range(m):\n",
        "      curr_cell = 0\n",
        "      for t in range(m1.m):\n",
        "        curr_cell += m1.matrix[i][t] * m2.matrix[t][j]\n",
        "      row.append(curr_cell)\n",
        "    out_matrix.append(row)\n",
        "  return out_matrix"
      ],
      "execution_count": null,
      "outputs": []
    },
    {
      "cell_type": "code",
      "metadata": {
        "id": "XtegslEXkEFu",
        "outputId": "50ed4b1f-1bab-497b-9c98-55d17a03bcda",
        "colab": {
          "base_uri": "https://localhost:8080/",
          "height": 34
        }
      },
      "source": [
        "prod_matrix(m1,m1)"
      ],
      "execution_count": null,
      "outputs": [
        {
          "output_type": "execute_result",
          "data": {
            "text/plain": [
              "[[7, 6, 8], [9, 10, 12], [0, 0, 1]]"
            ]
          },
          "metadata": {
            "tags": []
          },
          "execution_count": 36
        }
      ]
    },
    {
      "cell_type": "code",
      "metadata": {
        "id": "p9KHSusua5z2"
      },
      "source": [
        "# Найти произведение матрицы k = [[2,-3],[4,-6]] и l = [[9,-6],[6,-4]]\n",
        "\n",
        "\n",
        "k = Matrix([[2,-3],[4,-6]])\n",
        "l = Matrix([[9,-6],[6,-4]])"
      ],
      "execution_count": null,
      "outputs": []
    },
    {
      "cell_type": "code",
      "metadata": {
        "id": "DXcFmbCYawvw",
        "outputId": "f7235e9b-9c28-4417-f255-fef519ae0a7e",
        "colab": {
          "base_uri": "https://localhost:8080/",
          "height": 34
        }
      },
      "source": [
        "prod_matrix(k,l)"
      ],
      "execution_count": null,
      "outputs": [
        {
          "output_type": "execute_result",
          "data": {
            "text/plain": [
              "[[0, 0], [0, 0]]"
            ]
          },
          "metadata": {
            "tags": []
          },
          "execution_count": 38
        }
      ]
    },
    {
      "cell_type": "code",
      "metadata": {
        "id": "WTC3LCr4n2Yi",
        "outputId": "8f00b332-d66b-487b-d343-5632bdca616e",
        "colab": {
          "base_uri": "https://localhost:8080/",
          "height": 34
        }
      },
      "source": [
        "#KL != LK\n",
        "prod_matrix(l,k)"
      ],
      "execution_count": null,
      "outputs": [
        {
          "output_type": "execute_result",
          "data": {
            "text/plain": [
              "[[-6, 9], [-4, 6]]"
            ]
          },
          "metadata": {
            "tags": []
          },
          "execution_count": 39
        }
      ]
    },
    {
      "cell_type": "code",
      "metadata": {
        "id": "N-tU0Usen2R3",
        "outputId": "e7b3764f-9f8b-4558-e0fb-8a204d4fb850",
        "colab": {
          "base_uri": "https://localhost:8080/",
          "height": 67
        }
      },
      "source": [
        "# Обратная матрица:\n",
        "np.linalg.inv(m1.matrix).tolist()"
      ],
      "execution_count": null,
      "outputs": [
        {
          "output_type": "execute_result",
          "data": {
            "text/plain": [
              "[[-0.4999999999999999, 0.5, 0.9999999999999997],\n",
              " [0.7499999999999999, -0.24999999999999994, -1.9999999999999996],\n",
              " [0.0, 0.0, 1.0]]"
            ]
          },
          "metadata": {
            "tags": []
          },
          "execution_count": 40
        }
      ]
    },
    {
      "cell_type": "code",
      "metadata": {
        "id": "spWy5zhztHmP",
        "outputId": "8b9e8cec-b983-4f9b-cb95-5d8e7b8182b7",
        "colab": {
          "base_uri": "https://localhost:8080/",
          "height": 67
        }
      },
      "source": [
        "inv_m1 = Matrix(np.linalg.inv(m1.matrix).tolist())\n",
        "E = np.array(prod_matrix(inv_m1,m1),dtype='float16')\n",
        "print (E)"
      ],
      "execution_count": null,
      "outputs": [
        {
          "output_type": "stream",
          "text": [
            "[[1. 0. 0.]\n",
            " [0. 1. 0.]\n",
            " [0. 0. 1.]]\n"
          ],
          "name": "stdout"
        }
      ]
    },
    {
      "cell_type": "code",
      "metadata": {
        "id": "KhXBRKNDtCFR"
      },
      "source": [
        ""
      ],
      "execution_count": null,
      "outputs": []
    },
    {
      "cell_type": "code",
      "metadata": {
        "id": "Tksie9LVYZy3"
      },
      "source": [
        ""
      ],
      "execution_count": null,
      "outputs": []
    },
    {
      "cell_type": "markdown",
      "metadata": {
        "id": "ZqxTkeFXPah7"
      },
      "source": [
        "##Скаляры, векторы и матрицы с помощью библиотеки Numpy"
      ]
    },
    {
      "cell_type": "code",
      "metadata": {
        "id": "SUlTP1BxTWWA"
      },
      "source": [
        "import numpy as np"
      ],
      "execution_count": null,
      "outputs": []
    },
    {
      "cell_type": "code",
      "metadata": {
        "id": "DdnEty9yNRzg",
        "outputId": "26f52841-56b4-4c24-8add-0b4eda59831d",
        "colab": {
          "base_uri": "https://localhost:8080/",
          "height": 101
        }
      },
      "source": [
        "scalar1 = 1\n",
        "scalar2 = 5\n",
        "scalar3 = 17.345\n",
        "scalar4 = -3.2476\n",
        "\n",
        "print('Скаляры')\n",
        "print(scalar1)\n",
        "print(scalar2)\n",
        "print(scalar3)\n",
        "print(scalar4)"
      ],
      "execution_count": null,
      "outputs": [
        {
          "output_type": "stream",
          "text": [
            "Скаляры\n",
            "1\n",
            "5\n",
            "17.345\n",
            "-3.2476\n"
          ],
          "name": "stdout"
        }
      ]
    },
    {
      "cell_type": "code",
      "metadata": {
        "id": "E_LDcms4SVq4",
        "outputId": "15523fe7-dc83-4954-f980-22af50547394",
        "colab": {
          "base_uri": "https://localhost:8080/",
          "height": 118
        }
      },
      "source": [
        "vector = np.array([1.3, 4.2, -2.2, 13.1])\n",
        "vector_vertical = np.array([1.3, 4.2, -2.2, 13.1]).reshape((4,1))\n",
        "\n",
        "print('Горизонтальный вектор:', vector)\n",
        "\n",
        "print('Вертикальный вектор:\\n', vector_vertical)"
      ],
      "execution_count": null,
      "outputs": [
        {
          "output_type": "stream",
          "text": [
            "Горизонтальный вектор: [ 1.3  4.2 -2.2 13.1]\n",
            "Вертикальный вектор:\n",
            " [[ 1.3]\n",
            " [ 4.2]\n",
            " [-2.2]\n",
            " [13.1]]\n"
          ],
          "name": "stdout"
        }
      ]
    },
    {
      "cell_type": "code",
      "metadata": {
        "id": "VOfAWGp0uw5G",
        "outputId": "f97aea78-28ff-4475-eb72-e7d8c2c03f0e",
        "colab": {
          "base_uri": "https://localhost:8080/",
          "height": 50
        }
      },
      "source": [
        "print(vector.shape)\n",
        "print(vector_vertical.shape)"
      ],
      "execution_count": null,
      "outputs": [
        {
          "output_type": "stream",
          "text": [
            "(4,)\n",
            "(4, 1)\n"
          ],
          "name": "stdout"
        }
      ]
    },
    {
      "cell_type": "code",
      "metadata": {
        "id": "FqdbbFuEutDa"
      },
      "source": [
        "def print_vector(v):\n",
        "  shape = v.shape\n",
        "  \n",
        "  if (len(shape) == 0):\n",
        "    print(v)\n",
        "    \n",
        "  if (len(shape) == 1):\n",
        "    s = ''\n",
        "    for i in v:\n",
        "      s += str(i) + '  '\n",
        "    print(s)\n",
        "      \n",
        "  if (len(shape) == 2):\n",
        "    for i in range(shape[0]):\n",
        "      s = ''\n",
        "      for j in range(shape[1]):\n",
        "        s += str(v[i][j]) + '  '\n",
        "      print(s)"
      ],
      "execution_count": null,
      "outputs": []
    },
    {
      "cell_type": "code",
      "metadata": {
        "id": "hGHUbtUmvOrl",
        "outputId": "445c1e6b-b0fc-4d10-b25b-172c02a857d9",
        "colab": {
          "base_uri": "https://localhost:8080/",
          "height": 34
        }
      },
      "source": [
        "print_vector(vector)"
      ],
      "execution_count": null,
      "outputs": [
        {
          "output_type": "stream",
          "text": [
            "1.3  4.2  -2.2  13.1  \n"
          ],
          "name": "stdout"
        }
      ]
    },
    {
      "cell_type": "code",
      "metadata": {
        "id": "j3ZCjcryvj68",
        "outputId": "2b2c0f4b-7636-4b96-e608-215462d9eb4d",
        "colab": {
          "base_uri": "https://localhost:8080/",
          "height": 84
        }
      },
      "source": [
        "print_vector(vector_vertical)"
      ],
      "execution_count": null,
      "outputs": [
        {
          "output_type": "stream",
          "text": [
            "1.3  \n",
            "4.2  \n",
            "-2.2  \n",
            "13.1  \n"
          ],
          "name": "stdout"
        }
      ]
    },
    {
      "cell_type": "markdown",
      "metadata": {
        "id": "zQ0UDAoSxMkU"
      },
      "source": [
        "##Операции с векторами"
      ]
    },
    {
      "cell_type": "markdown",
      "metadata": {
        "id": "-LKrN_btxSwH"
      },
      "source": [
        "**Добавление и вычитание скаляра**"
      ]
    },
    {
      "cell_type": "code",
      "metadata": {
        "id": "7_RcYQtLxWkd",
        "outputId": "4e75cdbc-30c8-42f3-ee95-6a7795b84b75",
        "colab": {
          "base_uri": "https://localhost:8080/",
          "height": 67
        }
      },
      "source": [
        "print_vector(vector)\n",
        "print_vector(vector + 1)\n",
        "print_vector(vector - 2)"
      ],
      "execution_count": null,
      "outputs": [
        {
          "output_type": "stream",
          "text": [
            "1.3  4.2  -2.2  13.1  \n",
            "2.3  5.2  -1.2000000000000002  14.1  \n",
            "-0.7  2.2  -4.2  11.1  \n"
          ],
          "name": "stdout"
        }
      ]
    },
    {
      "cell_type": "markdown",
      "metadata": {
        "id": "yndac8JuxcJz"
      },
      "source": [
        "**Умножение на скаляр**"
      ]
    },
    {
      "cell_type": "code",
      "metadata": {
        "id": "8tPHI0FAxeeP",
        "outputId": "ebd81856-7fcd-4653-b156-5e4eb332ce2f",
        "colab": {
          "base_uri": "https://localhost:8080/",
          "height": 34
        }
      },
      "source": [
        "print_vector(vector * 2)"
      ],
      "execution_count": null,
      "outputs": [
        {
          "output_type": "stream",
          "text": [
            "2.6  8.4  -4.4  26.2  \n"
          ],
          "name": "stdout"
        }
      ]
    },
    {
      "cell_type": "markdown",
      "metadata": {
        "id": "jebqTT-5xhKy"
      },
      "source": [
        "**Деление на скаляр**"
      ]
    },
    {
      "cell_type": "code",
      "metadata": {
        "id": "0W87CrUqxlIt",
        "outputId": "3f1b8497-5df7-497e-f52e-bfb109078d81",
        "colab": {
          "base_uri": "https://localhost:8080/",
          "height": 34
        }
      },
      "source": [
        "print_vector(vector / 4)"
      ],
      "execution_count": null,
      "outputs": [
        {
          "output_type": "stream",
          "text": [
            "0.325  1.05  -0.55  3.275  \n"
          ],
          "name": "stdout"
        }
      ]
    },
    {
      "cell_type": "markdown",
      "metadata": {
        "id": "Q74LjkAcxnLf"
      },
      "source": [
        "**Возведение в степень**"
      ]
    },
    {
      "cell_type": "code",
      "metadata": {
        "id": "po8k21BuxsGb",
        "outputId": "052a4040-910a-4a02-8122-6b8837755bc7",
        "colab": {
          "base_uri": "https://localhost:8080/",
          "height": 34
        }
      },
      "source": [
        "print_vector(vector ** 2)"
      ],
      "execution_count": null,
      "outputs": [
        {
          "output_type": "stream",
          "text": [
            "1.6900000000000002  17.64  4.840000000000001  171.60999999999999  \n"
          ],
          "name": "stdout"
        }
      ]
    },
    {
      "cell_type": "markdown",
      "metadata": {
        "id": "pktx0nKex9UM"
      },
      "source": [
        "**Сложение и вычитание векторов**"
      ]
    },
    {
      "cell_type": "code",
      "metadata": {
        "id": "4IM6hPrFyCM1"
      },
      "source": [
        "vector1 = np.array([0, 1, 2, 3])\n",
        "vector2 = np.array([1, 2, 3, 4])"
      ],
      "execution_count": null,
      "outputs": []
    },
    {
      "cell_type": "code",
      "metadata": {
        "id": "FUnDlNtNyKsb",
        "outputId": "8615388d-7290-418c-8bc5-c3ef9d475cd9",
        "colab": {
          "base_uri": "https://localhost:8080/",
          "height": 34
        }
      },
      "source": [
        "print_vector(vector1 + vector2)"
      ],
      "execution_count": null,
      "outputs": [
        {
          "output_type": "stream",
          "text": [
            "1  3  5  7  \n"
          ],
          "name": "stdout"
        }
      ]
    },
    {
      "cell_type": "code",
      "metadata": {
        "id": "4IgT2ZUIyOzJ",
        "outputId": "e220c4d4-25e0-4185-f1f9-f8cb8ff05036",
        "colab": {
          "base_uri": "https://localhost:8080/",
          "height": 34
        }
      },
      "source": [
        "print_vector(vector1 - vector2)"
      ],
      "execution_count": null,
      "outputs": [
        {
          "output_type": "stream",
          "text": [
            "-1  -1  -1  -1  \n"
          ],
          "name": "stdout"
        }
      ]
    },
    {
      "cell_type": "markdown",
      "metadata": {
        "id": "s32WB3UMybiU"
      },
      "source": [
        "**Умножение и деление векторов**"
      ]
    },
    {
      "cell_type": "code",
      "metadata": {
        "id": "6jmaxPkgyhXL",
        "outputId": "a0b45ab9-c2e1-4d85-a944-89b2865c3a36",
        "colab": {
          "base_uri": "https://localhost:8080/",
          "height": 34
        }
      },
      "source": [
        "print_vector(vector1 * vector2)"
      ],
      "execution_count": null,
      "outputs": [
        {
          "output_type": "stream",
          "text": [
            "0  2  6  12  \n"
          ],
          "name": "stdout"
        }
      ]
    },
    {
      "cell_type": "code",
      "metadata": {
        "id": "LV0tV2P1ym7q",
        "outputId": "f420bb39-3715-4229-e071-1091d042dfa1",
        "colab": {
          "base_uri": "https://localhost:8080/",
          "height": 34
        }
      },
      "source": [
        "print_vector(vector1 / vector2)"
      ],
      "execution_count": null,
      "outputs": [
        {
          "output_type": "stream",
          "text": [
            "0.0  0.5  0.6666666666666666  0.75  \n"
          ],
          "name": "stdout"
        }
      ]
    },
    {
      "cell_type": "markdown",
      "metadata": {
        "id": "UrxHEPoLyeLi"
      },
      "source": [
        "**Возведение в степень**"
      ]
    },
    {
      "cell_type": "code",
      "metadata": {
        "id": "RtJRdlNRyg6R",
        "outputId": "2576a422-4eb3-4fe9-dfd4-cf8a2bfbf984",
        "colab": {
          "base_uri": "https://localhost:8080/",
          "height": 34
        }
      },
      "source": [
        "print_vector(vector1 ** vector2)"
      ],
      "execution_count": null,
      "outputs": [
        {
          "output_type": "stream",
          "text": [
            "0  1  8  81  \n"
          ],
          "name": "stdout"
        }
      ]
    },
    {
      "cell_type": "markdown",
      "metadata": {
        "id": "cSPlGvGS0CVD"
      },
      "source": [
        "##Пример матрицы"
      ]
    },
    {
      "cell_type": "code",
      "metadata": {
        "id": "RnMxh5Tw0Eoo"
      },
      "source": [
        "matrix = np.array([[0, 1, 2], [1, 2, 3], [2, 3, 4]])"
      ],
      "execution_count": null,
      "outputs": []
    },
    {
      "cell_type": "code",
      "metadata": {
        "id": "o4B1Mr5e0Ksz",
        "outputId": "2a5a9f6b-8a6d-4ec3-efa6-441c4e7c8bff",
        "colab": {
          "base_uri": "https://localhost:8080/",
          "height": 67
        }
      },
      "source": [
        "print_vector(matrix)"
      ],
      "execution_count": null,
      "outputs": [
        {
          "output_type": "stream",
          "text": [
            "0  1  2  \n",
            "1  2  3  \n",
            "2  3  4  \n"
          ],
          "name": "stdout"
        }
      ]
    },
    {
      "cell_type": "markdown",
      "metadata": {
        "id": "uk7a53kA1Iku"
      },
      "source": [
        "##Цикл по матрице\n",
        "Для примера найдём максимум матрицы"
      ]
    },
    {
      "cell_type": "code",
      "metadata": {
        "id": "Duu2gXju1NPc",
        "outputId": "0a7196fa-7627-4c19-f403-0885a6b8c9a6",
        "colab": {
          "base_uri": "https://localhost:8080/",
          "height": 67
        }
      },
      "source": [
        "matrix2 = np.array([[145, 23, 191], [17, 252, 31], [99, 112, 39]])\n",
        "print_vector(matrix2)"
      ],
      "execution_count": null,
      "outputs": [
        {
          "output_type": "stream",
          "text": [
            "145  23  191  \n",
            "17  252  31  \n",
            "99  112  39  \n"
          ],
          "name": "stdout"
        }
      ]
    },
    {
      "cell_type": "code",
      "metadata": {
        "id": "2EQjYbQm1ZLH",
        "outputId": "8cdde1de-9493-45c8-9aad-f16a73c84948",
        "colab": {
          "base_uri": "https://localhost:8080/",
          "height": 34
        }
      },
      "source": [
        "matrix_max = 0\n",
        "\n",
        "for i in range(matrix2.shape[0]):\n",
        "  for j in range(matrix2.shape[1]):\n",
        "    if (matrix2[i,j] > matrix_max):\n",
        "      matrix_max = matrix2[i,j]\n",
        "\n",
        "print('Максимум матрицы =', matrix_max)"
      ],
      "execution_count": null,
      "outputs": [
        {
          "output_type": "stream",
          "text": [
            "Максимум матрицы = 252\n"
          ],
          "name": "stdout"
        }
      ]
    },
    {
      "cell_type": "code",
      "metadata": {
        "id": "TvaWB5MsITUN",
        "outputId": "eb23c1bd-a63b-4ff6-a61b-b70af318d896",
        "colab": {
          "base_uri": "https://localhost:8080/",
          "height": 34
        }
      },
      "source": [
        "np.max(matrix2)"
      ],
      "execution_count": null,
      "outputs": [
        {
          "output_type": "execute_result",
          "data": {
            "text/plain": [
              "252"
            ]
          },
          "metadata": {
            "tags": []
          },
          "execution_count": 65
        }
      ]
    },
    {
      "cell_type": "markdown",
      "metadata": {
        "id": "7DZziZ483vCz"
      },
      "source": [
        "##Операции с матрицами"
      ]
    },
    {
      "cell_type": "code",
      "metadata": {
        "id": "z_NCGqarJDwv",
        "outputId": "bf2a97e6-dc4f-45f2-ccd2-1db4514c76cb",
        "colab": {
          "base_uri": "https://localhost:8080/",
          "height": 67
        }
      },
      "source": [
        "print_vector(matrix)"
      ],
      "execution_count": null,
      "outputs": [
        {
          "output_type": "stream",
          "text": [
            "0  1  2  \n",
            "1  2  3  \n",
            "2  3  4  \n"
          ],
          "name": "stdout"
        }
      ]
    },
    {
      "cell_type": "code",
      "metadata": {
        "id": "lOntmXD2362j",
        "outputId": "eeb5fc4a-fe33-4a8c-d814-d04320477fbc",
        "colab": {
          "base_uri": "https://localhost:8080/",
          "height": 336
        }
      },
      "source": [
        "print('Сложение')\n",
        "print_vector(matrix + 1)\n",
        "\n",
        "print()\n",
        "print('Умножение')\n",
        "print_vector(matrix * 2)\n",
        "\n",
        "print()\n",
        "print('Деление')\n",
        "print_vector(matrix / 4)\n",
        "\n",
        "print()\n",
        "print('Возведение в степень')\n",
        "print_vector(matrix ** 2)"
      ],
      "execution_count": null,
      "outputs": [
        {
          "output_type": "stream",
          "text": [
            "Сложение\n",
            "1  2  3  \n",
            "2  3  4  \n",
            "3  4  5  \n",
            "\n",
            "Умножение\n",
            "0  2  4  \n",
            "2  4  6  \n",
            "4  6  8  \n",
            "\n",
            "Деление\n",
            "0.0  0.25  0.5  \n",
            "0.25  0.5  0.75  \n",
            "0.5  0.75  1.0  \n",
            "\n",
            "Возведение в степень\n",
            "0  1  4  \n",
            "1  4  9  \n",
            "4  9  16  \n"
          ],
          "name": "stdout"
        }
      ]
    },
    {
      "cell_type": "code",
      "metadata": {
        "id": "1YUjhJUQJmEV",
        "outputId": "af9c98ce-0fd3-4110-8eba-83cd4454564b",
        "colab": {
          "base_uri": "https://localhost:8080/",
          "height": 67
        }
      },
      "source": [
        "print_vector(matrix2)"
      ],
      "execution_count": null,
      "outputs": [
        {
          "output_type": "stream",
          "text": [
            "145  23  191  \n",
            "17  252  31  \n",
            "99  112  39  \n"
          ],
          "name": "stdout"
        }
      ]
    },
    {
      "cell_type": "code",
      "metadata": {
        "id": "_OYpOrUc4Yh8",
        "outputId": "1bdb8644-5d0b-461a-c04b-0519021bca15",
        "colab": {
          "base_uri": "https://localhost:8080/",
          "height": 336
        }
      },
      "source": [
        "print('Сложение')\n",
        "print_vector(matrix + matrix2)\n",
        "\n",
        "print()\n",
        "print('Умножение')\n",
        "print_vector(matrix * matrix2)\n",
        "\n",
        "print()\n",
        "print('Деление')\n",
        "print_vector(matrix / matrix2)\n",
        "\n",
        "print()\n",
        "print('Возведение в степень')\n",
        "print_vector(matrix2 ** matrix)"
      ],
      "execution_count": null,
      "outputs": [
        {
          "output_type": "stream",
          "text": [
            "Сложение\n",
            "145  24  193  \n",
            "18  254  34  \n",
            "101  115  43  \n",
            "\n",
            "Умножение\n",
            "0  23  382  \n",
            "17  504  93  \n",
            "198  336  156  \n",
            "\n",
            "Деление\n",
            "0.0  0.043478260869565216  0.010471204188481676  \n",
            "0.058823529411764705  0.007936507936507936  0.0967741935483871  \n",
            "0.020202020202020204  0.026785714285714284  0.10256410256410256  \n",
            "\n",
            "Возведение в степень\n",
            "1  23  36481  \n",
            "17  63504  29791  \n",
            "9801  1404928  2313441  \n"
          ],
          "name": "stdout"
        }
      ]
    },
    {
      "cell_type": "code",
      "metadata": {
        "id": "sZfD79xP5D-P"
      },
      "source": [
        "def prod_matrix(matrix1, matrix2):\n",
        "  shape1 = matrix1.shape\n",
        "  shape2 = matrix2.shape\n",
        "  \n",
        "  if (shape1[1] != shape2[0]):\n",
        "    return np.array([])\n",
        "  \n",
        "  out_matrix = np.zeros((shape1[0], shape2[1]))\n",
        "  \n",
        "  for i in range(shape1[0]):\n",
        "    for j in range(shape2[1]):\n",
        "      curr_cell = 0\n",
        "      for t in range(shape1[1]):\n",
        "        curr_cell += matrix1[i,t] * matrix2[t,j]\n",
        "        out_matrix[i,j] = curr_cell\n",
        "  \n",
        "  return out_matrix"
      ],
      "execution_count": null,
      "outputs": []
    },
    {
      "cell_type": "code",
      "metadata": {
        "id": "GtBzLdOQ6xzV",
        "outputId": "62fb5226-0f2b-4cf7-874c-f9669d53c5b0",
        "colab": {
          "base_uri": "https://localhost:8080/",
          "height": 151
        }
      },
      "source": [
        "matrix1 = np.array([[0, 1, 2], [1, 2, 3], [2, 3, 4], [3, 4, 5]])\n",
        "matrix2 = np.array([[0, 1, 2, 3], [1, 2, 3, 4], [2, 3, 4, 5]])\n",
        "\n",
        "print_vector(matrix1)\n",
        "print()\n",
        "print_vector(matrix2)"
      ],
      "execution_count": null,
      "outputs": [
        {
          "output_type": "stream",
          "text": [
            "0  1  2  \n",
            "1  2  3  \n",
            "2  3  4  \n",
            "3  4  5  \n",
            "\n",
            "0  1  2  3  \n",
            "1  2  3  4  \n",
            "2  3  4  5  \n"
          ],
          "name": "stdout"
        }
      ]
    },
    {
      "cell_type": "code",
      "metadata": {
        "id": "R6JxaYQ37Fdm",
        "outputId": "d3fb1d08-b4ad-472c-e0a4-79343517f322",
        "colab": {
          "base_uri": "https://localhost:8080/",
          "height": 84
        }
      },
      "source": [
        "matrix3 = prod_matrix(matrix1, matrix2)\n",
        "print_vector(matrix3)"
      ],
      "execution_count": null,
      "outputs": [
        {
          "output_type": "stream",
          "text": [
            "5.0  8.0  11.0  14.0  \n",
            "8.0  14.0  20.0  26.0  \n",
            "11.0  20.0  29.0  38.0  \n",
            "14.0  26.0  38.0  50.0  \n"
          ],
          "name": "stdout"
        }
      ]
    },
    {
      "cell_type": "code",
      "metadata": {
        "id": "XwlZQSYaAl96",
        "outputId": "7cfcbaf2-8faa-4797-e3f0-679fbbd6e0db",
        "colab": {
          "base_uri": "https://localhost:8080/",
          "height": 302
        }
      },
      "source": [
        "vector1 = np.array([1, 2, 3, 4]).reshape((1,4))\n",
        "vector2 = np.array([5, 4, 3]).reshape((3,1))\n",
        "\n",
        "print('Первый вектор')\n",
        "print_vector(vector1)\n",
        "print()\n",
        "print('Второй вектор')\n",
        "print_vector(vector2)\n",
        "\n",
        "\n",
        "matrix4 = prod_matrix(vector2, vector1)\n",
        "\n",
        "print()\n",
        "print('Итоговая матрица')\n",
        "print_vector(matrix4)\n",
        "\n",
        "print()\n",
        "print('Проверка размерности')\n",
        "print(vector2.shape)\n",
        "print(vector1.shape)\n",
        "print(matrix4.shape)"
      ],
      "execution_count": null,
      "outputs": [
        {
          "output_type": "stream",
          "text": [
            "Первый вектор\n",
            "1  2  3  4  \n",
            "\n",
            "Второй вектор\n",
            "5  \n",
            "4  \n",
            "3  \n",
            "\n",
            "Итоговая матрица\n",
            "5.0  10.0  15.0  20.0  \n",
            "4.0  8.0  12.0  16.0  \n",
            "3.0  6.0  9.0  12.0  \n",
            "\n",
            "Проверка размерности\n",
            "(3, 1)\n",
            "(1, 4)\n",
            "(3, 4)\n"
          ],
          "name": "stdout"
        }
      ]
    },
    {
      "cell_type": "code",
      "metadata": {
        "id": "KtmmlGtaBwhE"
      },
      "source": [
        "def transpose_matrix(matrix):\n",
        "  shape = matrix.shape\n",
        "  \n",
        "  out_matrix = np.zeros((shape[1], shape[0]))\n",
        "  \n",
        "  for i in range(shape[0]):\n",
        "    for j in range(shape[1]):\n",
        "      out_matrix[j,i] = matrix[i,j]\n",
        "  \n",
        "  return out_matrix"
      ],
      "execution_count": null,
      "outputs": []
    },
    {
      "cell_type": "code",
      "metadata": {
        "id": "DhERn644GjXB",
        "outputId": "e29cfc9a-9375-4825-e34c-7fde0420b7b8",
        "colab": {
          "base_uri": "https://localhost:8080/",
          "height": 185
        }
      },
      "source": [
        "transpose_matrix = transpose_matrix(matrix1)\n",
        "\n",
        "print('Оригинальная матрица')\n",
        "print_vector(matrix1)\n",
        "\n",
        "print()\n",
        "print('Транспонированная матрица')\n",
        "print_vector(transpose_matrix)"
      ],
      "execution_count": null,
      "outputs": [
        {
          "output_type": "stream",
          "text": [
            "Оригинальная матрица\n",
            "0  1  2  \n",
            "1  2  3  \n",
            "2  3  4  \n",
            "3  4  5  \n",
            "\n",
            "Транспонированная матрица\n",
            "0.0  1.0  2.0  3.0  \n",
            "1.0  2.0  3.0  4.0  \n",
            "2.0  3.0  4.0  5.0  \n"
          ],
          "name": "stdout"
        }
      ]
    },
    {
      "cell_type": "code",
      "metadata": {
        "id": "hfEeg65QIWny"
      },
      "source": [
        "matrix_4_inv = np.array([[4, 1, 3], [3, 5, 2], [2, 6, 4]])"
      ],
      "execution_count": null,
      "outputs": []
    },
    {
      "cell_type": "code",
      "metadata": {
        "id": "rpq9zDqFHR4M",
        "outputId": "65bb2829-2778-4c94-aa48-745a30ed62f6",
        "colab": {
          "base_uri": "https://localhost:8080/",
          "height": 67
        }
      },
      "source": [
        "inv_matrix = np.linalg.inv(matrix_4_inv)\n",
        "print_vector(inv_matrix)"
      ],
      "execution_count": null,
      "outputs": [
        {
          "output_type": "stream",
          "text": [
            "0.16666666666666669  0.29166666666666663  -0.2708333333333333  \n",
            "-0.16666666666666669  0.20833333333333337  0.020833333333333322  \n",
            "0.16666666666666669  -0.45833333333333337  0.3541666666666667  \n"
          ],
          "name": "stdout"
        }
      ]
    },
    {
      "cell_type": "code",
      "metadata": {
        "id": "_BwpSuexIpio",
        "outputId": "5f3fdcef-bca6-44d6-e1a4-bcaea9ec4600",
        "colab": {
          "base_uri": "https://localhost:8080/",
          "height": 67
        }
      },
      "source": [
        "result_matrix = prod_matrix(matrix_4_inv, inv_matrix)\n",
        "print_vector(result_matrix)"
      ],
      "execution_count": null,
      "outputs": [
        {
          "output_type": "stream",
          "text": [
            "1.0  0.0  0.0  \n",
            "-1.1102230246251565e-16  1.0000000000000002  0.0  \n",
            "1.1102230246251565e-16  0.0  1.0  \n"
          ],
          "name": "stdout"
        }
      ]
    },
    {
      "cell_type": "markdown",
      "metadata": {
        "id": "C4kEFD2W5lVe"
      },
      "source": [
        "#Домашнее задание"
      ]
    },
    {
      "cell_type": "markdown",
      "metadata": {
        "id": "Lz2uN5Xf5lLF"
      },
      "source": [
        "Задачи Лайт:\n",
        "\n",
        "**Задача 1**\n",
        "а) Даны точки A(-2,5) и B(1,7) . Найти векторы  AB и BA.\n",
        "б) Даны точки A(-1,-1) , B(1,1)  и C(0,2). Найти векторы AB, AC и BC.\n",
        "в) Даны точки  A(-1,3,1) и B(3,2,7) . Найти векторы AB и BA.\n",
        "\n",
        "**Задача 2**\n",
        "Дано:\n",
        "A(-2,5) и B(1,7) Найти модуль вектора AB\n",
        "\n",
        "**Задача 3**\n",
        "Даны векторы a(1,4,-5) и b(2,-5,3) найти 3a-2b, -a + 4b\n",
        "\n",
        "**Задача 4**\n",
        "Даны векторы a(0,2,-1) и b(1,-4,2)и c(0,3,0) найти 3a-5b+0,5c\n",
        "\n",
        "**Задача 6**\n",
        "Найти скалярное произведение векторов a(2,4) и b(0,-1) , если угол между a и b = pi/2\n",
        "\n",
        "**Задача 7**\n",
        "Найти угол между векторами a и b, если известно, что |a| = 4 и |b| = 2* np.sqrt(2), a*b = 8\n",
        "\n",
        "**Задача 8**\n",
        "Какой знак будет у скалярного произведения a и b, если известно, что угол(a,b) равен:\n",
        "а) pi/3 б)pi\n",
        "\n",
        "**Задача 9**\n",
        "Даны матрицы k = [[2,-3],[4,-6]] и l = [[9,-6],[6,-4]] вычислить:\n",
        "a) 3k, b) 1/2*l c) k-l d) l+k\n"
      ]
    },
    {
      "cell_type": "code",
      "metadata": {
        "id": "Nheir32B6vJw"
      },
      "source": [
        "import numpy as np\n",
        "\n",
        "def print_vector(v):\n",
        "  shape = v.shape\n",
        "  \n",
        "  if (len(shape) == 0):\n",
        "    print(v)\n",
        "    \n",
        "  if (len(shape) == 1):\n",
        "    s = ''\n",
        "    for i in v:\n",
        "      s += str(i) + '  '\n",
        "    print(s)\n",
        "      \n",
        "  if (len(shape) == 2):\n",
        "    for i in range(shape[0]):\n",
        "      s = ''\n",
        "      for j in range(shape[1]):\n",
        "        s += str(v[i][j]) + '  '\n",
        "      print(s)\n",
        "\n",
        "# модуль вектора\n",
        "def module(vector):\n",
        "  return (np.sqrt( sum(item ** 2 for item in vector) ))"
      ],
      "execution_count": null,
      "outputs": []
    },
    {
      "cell_type": "code",
      "metadata": {
        "id": "vayjEHDE5Ech",
        "outputId": "a7e287e7-dbe1-4f96-c82e-a29568881ac1",
        "colab": {
          "base_uri": "https://localhost:8080/",
          "height": 67
        }
      },
      "source": [
        "# Задача 1 \n",
        "# а) Даны точки A(-2,5) и B(1,7) . Найти векторы AB и BA. \n",
        "A = np.array([-2,5])\n",
        "B = np.array([1,7])\n",
        "print('A =',A,';','B =',B,';','координаты вектора AB(b1-a1,b2-a2):',B - A,';','координаты вектора BA(a1-b1,a2-b2):',A - B)\n",
        "\n",
        "# б) Даны точки A(-1,-1) , B(1,1) и C(0,2). Найти векторы AB, AC и BC. \n",
        "A = np.array([-1,-1])\n",
        "B = np.array([1,1])\n",
        "C = np.array([0,2])\n",
        "print('A =',A,';','B =',B,';','C =',C,';','координаты вектора AB(b1-a1,b2-a2):',B - A,';','координаты вектора AC(c1-a1,c2-a2):',C - A,';','координаты вектора BC(a1-b1,a2-b2):',C - B)\n",
        "\n",
        "# в) Даны точки A(-1,3,1) и B(3,2,7) . Найти векторы AB и BA.\n",
        "A = np.array([-1,3,1])\n",
        "B = np.array([3,2,7])\n",
        "print('A =',A,';','B =',B,';','координаты вектора AB(b1-a1,b2-a2):',B - A,';','координаты вектора BA(a1-b1,a2-b2):',A - B)\n"
      ],
      "execution_count": null,
      "outputs": [
        {
          "output_type": "stream",
          "text": [
            "A = [-2  5] ; B = [1 7] ; координаты вектора AB(b1-a1,b2-a2): [3 2] ; координаты вектора BA(a1-b1,a2-b2): [-3 -2]\n",
            "A = [-1 -1] ; B = [1 1] ; C = [0 2] ; координаты вектора AB(b1-a1,b2-a2): [2 2] ; координаты вектора AC(c1-a1,c2-a2): [1 3] ; координаты вектора BC(a1-b1,a2-b2): [-1  1]\n",
            "A = [-1  3  1] ; B = [3 2 7] ; координаты вектора AB(b1-a1,b2-a2): [ 4 -1  6] ; координаты вектора BA(a1-b1,a2-b2): [-4  1 -6]\n"
          ],
          "name": "stdout"
        }
      ]
    },
    {
      "cell_type": "code",
      "metadata": {
        "id": "jmIUgzsG-8Nz",
        "outputId": "44edf22f-78df-4e01-d779-740878e4e3a1",
        "colab": {
          "base_uri": "https://localhost:8080/",
          "height": 34
        }
      },
      "source": [
        "# Задача 2 \n",
        "# Дано: A(-2,5) и B(1,7) Найти модуль вектора AB\n",
        "A = np.array([-2,5])\n",
        "B = np.array([1,7])\n",
        "AB = B - A\n",
        "print ('A = {}; B = {}; AB = {}; Module |AB|: {}'.format(A, B, AB, np.sqrt( sum(item ** 2 for item in AB) )))"
      ],
      "execution_count": null,
      "outputs": [
        {
          "output_type": "stream",
          "text": [
            "A = [-2  5]; B = [1 7]; AB = [3 2]; Module |AB|: 3.605551275463989\n"
          ],
          "name": "stdout"
        }
      ]
    },
    {
      "cell_type": "code",
      "metadata": {
        "id": "JPIJRYRccaaL",
        "outputId": "f1c46adf-cbe2-4044-d283-e8c7590b0fb6",
        "colab": {
          "base_uri": "https://localhost:8080/",
          "height": 34
        }
      },
      "source": [
        "# Задача 3 \n",
        "# Даны векторы a(1,4,-5) и b(2,-5,3) найти 3a-2b, -a + 4b\n",
        "A = np.array([1,4,-5])\n",
        "B = np.array([2,-5,3])\n",
        "print ('A = {}; B = {}; 3*A - 2*B = {}; -A + 4*B = {}'.format(A, B, 3*A - 2*B, -A + 4*B))"
      ],
      "execution_count": null,
      "outputs": [
        {
          "output_type": "stream",
          "text": [
            "A = [ 1  4 -5]; B = [ 2 -5  3]; 3*A - 2*B = [ -1  22 -21]; -A + 4*B = [  7 -24  17]\n"
          ],
          "name": "stdout"
        }
      ]
    },
    {
      "cell_type": "code",
      "metadata": {
        "id": "hRjUNUA8dW51",
        "outputId": "9d438e35-c374-4783-8349-eea7b397e20b",
        "colab": {
          "base_uri": "https://localhost:8080/",
          "height": 34
        }
      },
      "source": [
        "# Задача 4 \n",
        "# Даны векторы a(0,2,-1) и b(1,-4,2)и c(0,3,0) найти 3a-5b+0,5c\n",
        "A = np.array([0,2,-1])\n",
        "B = np.array([1,-4,2])\n",
        "C = np.array([0,3,0])\n",
        "print ('A = {}; B = {}; C = {}; 3*A - 5*B + 0.5*C = {}'.format(A, B, C, 3*A - 5*B + 0.5*C))"
      ],
      "execution_count": null,
      "outputs": [
        {
          "output_type": "stream",
          "text": [
            "A = [ 0  2 -1]; B = [ 1 -4  2]; C = [0 3 0]; 3*A - 5*B + 0.5*C = [ -5.   27.5 -13. ]\n"
          ],
          "name": "stdout"
        }
      ]
    },
    {
      "cell_type": "code",
      "metadata": {
        "id": "INIv18Hqe1fc",
        "outputId": "6f5c4cab-aefc-4a1b-dffe-efc916a53202",
        "colab": {
          "base_uri": "https://localhost:8080/",
          "height": 118
        }
      },
      "source": [
        "# Задача 6 \n",
        "# Найти скалярное произведение векторов a(2,4) и b(0,-1) , если угол между a и b = pi/2\n",
        "a = np.array([2,4])\n",
        "b = np.array([0,-1])\n",
        "print ('a = {}; b = {}'.format(a,b))\n",
        "result = np.dot(a, b)\n",
        "ma = module(a)\n",
        "mb =  module(b)\n",
        "print ('result, ma,  mb = {} {} {}'.format(result, ma,  mb))\n",
        "cos = result/(ma * mb)\n",
        "print ('cos между векторами a и b = {}'.format(cos))\n",
        "alpha = np.arccos( cos )\n",
        "print ('угол между векторами a и b = {}'.format(alpha))\n",
        "print ('pi/2 = {}'.format(np.pi/2))\n",
        "\n",
        "if alpha == np.pi/2:\n",
        "  print(np.dot(a, b))\n",
        "  print('or')\n",
        "  #  Эквивалентно:\n",
        "  print(np.inner(a, b))    #  предпочтительнее\n",
        "  print('or')\n",
        "  #  Эквивалентно:\n",
        "  print(np.sum(a*b))\n",
        "else:\n",
        "  print('угол между a и b != pi/2')\n"
      ],
      "execution_count": null,
      "outputs": [
        {
          "output_type": "stream",
          "text": [
            "a = [2 4]; b = [ 0 -1]\n",
            "result, ma,  mb = -4 4.47213595499958 1.0\n",
            "cos между векторами a и b = -0.8944271909999159\n",
            "угол между векторами a и b = 2.677945044588987\n",
            "pi/2 = 1.5707963267948966\n",
            "угол между a и b != pi/2\n"
          ],
          "name": "stdout"
        }
      ]
    },
    {
      "cell_type": "code",
      "metadata": {
        "id": "CoOV-9Q7yeAk",
        "outputId": "3ebd7165-6f64-4192-9bc7-48302603aa93",
        "colab": {
          "base_uri": "https://localhost:8080/",
          "height": 84
        }
      },
      "source": [
        "# Задача 7\n",
        "# Найти угол между векторами a и b, если известно, что |a| = 4 и |b| = 2* np.sqrt(2), a*b = 8\n",
        "dot_product = 8\n",
        "ma = 4\n",
        "mb =  2 * np.sqrt(2)\n",
        "print ('dot_product, ma,  mb = {} {} {}'.format(dot_product, ma,  mb))\n",
        "cos = dot_product/(ma * mb)\n",
        "print ('cos между векторами a и b = {}'.format(cos))\n",
        "alpha = np.arccos( cos )\n",
        "print ('угол между векторами a и b = {}'.format(alpha))\n",
        "\n",
        "print ('угол между векторами равен pi/4:',round(alpha, 8) == round(np.pi/4, 8))\n"
      ],
      "execution_count": null,
      "outputs": [
        {
          "output_type": "stream",
          "text": [
            "dot_product, ma,  mb = 8 4 2.8284271247461903\n",
            "cos между векторами a и b = 0.7071067811865475\n",
            "угол между векторами a и b = 0.7853981633974484\n",
            "угол между векторами равен pi/4: True\n"
          ],
          "name": "stdout"
        }
      ]
    },
    {
      "cell_type": "code",
      "metadata": {
        "id": "Tnpmyobw0FHN",
        "outputId": "ce9ce191-7767-495a-d660-e8b413211cd2",
        "colab": {
          "base_uri": "https://localhost:8080/",
          "height": 101
        }
      },
      "source": [
        "# Задача 8 \n",
        "# Какой знак будет у скалярного произведения a и b, если известно, что угол(a,b) равен: а) pi/3 б)pi\n",
        "print(\"\"\"\n",
        "  Cкалярное произведение больше нуля для угла между векторами меньше pi/2 и меньше нуля для угла между векторами меньше pi/2.\n",
        "  a) при угле pi/3 скалярное произведение будет больше нуля\n",
        "  б) при угле pi скалярное произведение будет меньше нуля\n",
        "\"\"\")"
      ],
      "execution_count": null,
      "outputs": [
        {
          "output_type": "stream",
          "text": [
            "\n",
            "  Cкалярное произведение больше нуля для угла между векторами меньше pi/2 и меньше нуля для угла между векторами меньше pi/2.\n",
            "  a) при угле pi/3 скалярное произведение будет больше нуля\n",
            "  б) при угле pi скалярное произведение будет меньше нуля\n",
            "\n"
          ],
          "name": "stdout"
        }
      ]
    },
    {
      "cell_type": "code",
      "metadata": {
        "id": "PEz2boSy1YBq",
        "outputId": "67de1054-25ad-4ab0-f230-3470983e2af9",
        "colab": {
          "base_uri": "https://localhost:8080/",
          "height": 403
        }
      },
      "source": [
        "# Задача 9 \n",
        "# Даны матрицы k = [[2,-3],[4,-6]] и l = [[9,-6],[6,-4]] вычислить: a) 3k, b) 1/2*l c) k-l d) l+k\n",
        "k = np.array([[2,-3],[4,-6]])\n",
        "l = np.array([[9,-6],[6,-4]])\n",
        "print('k = \\n{}; \\n\\nl = \\n{}; \\n\\n3*k = \\n{}; \\n\\n1./2*l = \\n{}; \\n\\nk-l = \\n{}; \\n\\nl+k = \\n{}'.format(k, l, 3*k, 1./2*l, k-l, l+k))"
      ],
      "execution_count": null,
      "outputs": [
        {
          "output_type": "stream",
          "text": [
            "k = \n",
            "[[ 2 -3]\n",
            " [ 4 -6]]; \n",
            "\n",
            "l = \n",
            "[[ 9 -6]\n",
            " [ 6 -4]]; \n",
            "\n",
            "3*k = \n",
            "[[  6  -9]\n",
            " [ 12 -18]]; \n",
            "\n",
            "1./2*l = \n",
            "[[ 4.5 -3. ]\n",
            " [ 3.  -2. ]]; \n",
            "\n",
            "k-l = \n",
            "[[-7  3]\n",
            " [-2 -2]]; \n",
            "\n",
            "l+k = \n",
            "[[ 11  -9]\n",
            " [ 10 -10]]\n"
          ],
          "name": "stdout"
        }
      ]
    },
    {
      "cell_type": "code",
      "metadata": {
        "id": "LYqsh2HY51ue",
        "outputId": "1d142150-326d-439c-9d99-91ac7b70f496",
        "colab": {
          "base_uri": "https://localhost:8080/",
          "height": 403
        }
      },
      "source": [
        "# Задача 9 \n",
        "# Даны матрицы k = [[2,-3],[4,-6]] и l = [[9,-6],[6,-4]] вычислить: a) 3k, b) 1/2*l c) k-l d) l+k\n",
        "k = np.array([[2,-3],[4,-6]])\n",
        "l = np.array([[9,-6],[6,-4]])\n",
        "print('k =')\n",
        "print_vector(k)\n",
        "print('\\nl =')\n",
        "print_vector(l)\n",
        "print('\\n3*k =')\n",
        "print_vector(3*k)\n",
        "print('\\n1./2*l =')\n",
        "print_vector(1./2*l)\n",
        "print('\\nk-l =')\n",
        "print_vector(k-l)\n",
        "print('\\nl+k =')\n",
        "print_vector(l+k)\n"
      ],
      "execution_count": null,
      "outputs": [
        {
          "output_type": "stream",
          "text": [
            "k =\n",
            "2  -3  \n",
            "4  -6  \n",
            "\n",
            "l =\n",
            "9  -6  \n",
            "6  -4  \n",
            "\n",
            "3*k =\n",
            "6  -9  \n",
            "12  -18  \n",
            "\n",
            "1./2*l =\n",
            "4.5  -3.0  \n",
            "3.0  -2.0  \n",
            "\n",
            "k-l =\n",
            "-7  3  \n",
            "-2  -2  \n",
            "\n",
            "l+k =\n",
            "11  -9  \n",
            "10  -10  \n"
          ],
          "name": "stdout"
        }
      ]
    },
    {
      "cell_type": "markdown",
      "metadata": {
        "id": "wpQZ43cd_dmy"
      },
      "source": [
        "ПРО\n",
        "\n",
        "**Задача 1**\n",
        "Найти скалярное произведение векторов с=-2a+b и d=a-b , если известно, что: a и b - вектора, |a| = 4* np.sqrt(2) и |b| = 8, угол(a,b) = pi/4 \n",
        "\n",
        "**Задача 2**\n",
        "Найти модуль векторов с=—a+3b , если известно, что: a и b - вектора, |a| = 3 и |b| = 2, угол(a,b) = pi/3 \n",
        "\n",
        "**Задача 3**\n",
        "Найти угол между векторами c=-2a+3b и d=4a-3b, если известно, что |a| = 3 и |b| = 4, угол(a,b) = pi/3 \n",
        "\n",
        "**Задача 4**\n",
        "Даны матрицы k = [[5,8,-4],[6,9,-5],[4,7,-3]] и l = [[3,2,5],[4,-1,3],[9,6,5]] произведите умножение kl и lk"
      ]
    },
    {
      "cell_type": "code",
      "metadata": {
        "id": "oorkOzn6svjX"
      },
      "source": [
        "# Задача 1 \n",
        "# Найти скалярное произведение векторов с=-2a+b и d=a-b , если известно, что: a и b - вектора, |a| = 4* np.sqrt(2) и |b| = 8, угол(a,b) = pi/4\n",
        "ma = 4* np.sqrt(2) # = np.sqrt( ax ** 2 + ay **2 )\n",
        "mb = 8  # = np.sqrt( bx ** 2 + by **2 )\n",
        "alpha = pi/4\n",
        "ab = ma * mb * cox(alpha)\n",
        "\n",
        "# cd  =  ???\n",
        "\n",
        "# ax*ay+bx*by = ab\n",
        "# ax ** 2 + ay ** 2 = ma ** 2\n",
        "# bx ** 2 + by ** 2 = mb ** 2\n",
        "# Пусть by = 0\n",
        "# тогда\n",
        "# bx = mb\n",
        "# ax*ay = ab\n",
        "# ax ** 2 + ay ** 2 = ma ** 2\n",
        "# ..."
      ],
      "execution_count": null,
      "outputs": []
    },
    {
      "cell_type": "code",
      "metadata": {
        "id": "58uwR44J0WD4",
        "outputId": "ee3ad73a-dbb4-46c3-a99d-d5c7ac694d81",
        "colab": {
          "base_uri": "https://localhost:8080/",
          "height": 34
        }
      },
      "source": [
        "# нахождение угла:\n",
        "# угол = arccos(a*b/|a|*|b|)\n",
        "a = vector_2d(coords=(1,4))\n",
        "b = vector_2d(coords=(-3,2))\n",
        "a_b = 12.874393189583733\n",
        "ang = a_b/(a.get_module() * b.get_module()) \n",
        "print (\" Угол равен = {}\".format(np.arccos(ang)))  \n",
        "\n"
      ],
      "execution_count": null,
      "outputs": [
        {
          "output_type": "stream",
          "text": [
            " Угол равен = 0.5235987755982987\n"
          ],
          "name": "stdout"
        }
      ]
    },
    {
      "cell_type": "code",
      "metadata": {
        "id": "wWNgqQGv0WD8",
        "outputId": "a9f3192c-dde5-47ed-f66d-c19c618b8bc8",
        "colab": {
          "base_uri": "https://localhost:8080/",
          "height": 34
        }
      },
      "source": [
        "# Скалярное произведение векторов в координатах\n",
        "# a(x1,x2)* b(y1,y2) = ab(x1*y1+x2*y2)\n",
        "print (\" Скалярное произведение ab в координатах = {}\".format(a.x*b.x + a.y*b.y))  "
      ],
      "execution_count": null,
      "outputs": [
        {
          "output_type": "stream",
          "text": [
            " Скалярное произведение ab в координатах = 5\n"
          ],
          "name": "stdout"
        }
      ]
    },
    {
      "cell_type": "code",
      "metadata": {
        "id": "lE5mJabI0Wt0"
      },
      "source": [
        ""
      ],
      "execution_count": null,
      "outputs": []
    },
    {
      "cell_type": "code",
      "metadata": {
        "id": "6CKYfeS80W07"
      },
      "source": [
        ""
      ],
      "execution_count": null,
      "outputs": []
    },
    {
      "cell_type": "code",
      "metadata": {
        "id": "2bpoEn5gyZb9"
      },
      "source": [
        "# Задача 4 \n",
        "# Даны матрицы k = [[5,8,-4],[6,9,-5],[4,7,-3]] и l = [[3,2,5],[4,-1,3],[9,6,5]] произведите умножение kl и lk\n",
        "\n",
        "def matrix_multiply(m1,m2):\n",
        "    try:\n",
        "      s1i = len(m1)\n",
        "      s1j = len(m1[0])\n",
        "    except Exception as ex:\n",
        "      print('Ошибка в размерности исходных данных m1: ', ex)\n",
        "      return\n",
        "    try:\n",
        "      s2i = len(m2)\n",
        "      s2j = len(m2[0])\n",
        "    except Exception as ex:\n",
        "      print('Ошибка в размерности исходных данных m2: ', ex)\n",
        "      return\n",
        "\n",
        "    if s1j!=s2i:\n",
        "      return 'Несовместимые размерности матриц m1 и m2'\n",
        "    else:  \n",
        "      mid_matrix = []\n",
        "      for i in range(s1i):\n",
        "        row = []\n",
        "        for j in range(s2j):\n",
        "          curr_cell = 0\n",
        "          for t in range(s1j):\n",
        "            curr_cell += m1[i][t] * m2[t][j]\n",
        "          row.append(curr_cell)\n",
        "        mid_matrix.append(row)\n",
        "    return mid_matrix\n",
        "\n",
        "k = [[5,8,-4],[6,9,-5],[4,7,-3]] \n",
        "l = [[3,2,5],[4,-1,3],[9,6,5]]"
      ],
      "execution_count": null,
      "outputs": []
    },
    {
      "cell_type": "code",
      "metadata": {
        "id": "wHCh34ylyuiq",
        "outputId": "725e64f3-0f56-43ae-e9cd-1792b03e4474",
        "colab": {
          "base_uri": "https://localhost:8080/",
          "height": 34
        }
      },
      "source": [
        "matrix_multiply(k, l)"
      ],
      "execution_count": null,
      "outputs": [
        {
          "output_type": "execute_result",
          "data": {
            "text/plain": [
              "[[11, -22, 29], [9, -27, 32], [13, -17, 26]]"
            ]
          },
          "metadata": {
            "tags": []
          },
          "execution_count": 148
        }
      ]
    },
    {
      "cell_type": "code",
      "metadata": {
        "id": "CIz6ILzeyv6N",
        "outputId": "2cc0808d-5452-4a20-bac9-2a64f5c415a1",
        "colab": {
          "base_uri": "https://localhost:8080/",
          "height": 34
        }
      },
      "source": [
        "matrix_multiply(l, k)"
      ],
      "execution_count": null,
      "outputs": [
        {
          "output_type": "execute_result",
          "data": {
            "text/plain": [
              "[[47, 77, -37], [26, 44, -20], [101, 161, -81]]"
            ]
          },
          "metadata": {
            "tags": []
          },
          "execution_count": 149
        }
      ]
    },
    {
      "cell_type": "markdown",
      "metadata": {
        "id": "_T7eOQDK6PjD"
      },
      "source": [
        "## Задачи на работу с кодом"
      ]
    },
    {
      "cell_type": "markdown",
      "metadata": {
        "id": "jplDGhCV53xQ"
      },
      "source": [
        "**Задача 1**\n",
        "\n",
        "Напишите функцию умножения трёх матриц"
      ]
    },
    {
      "cell_type": "code",
      "metadata": {
        "id": "o9PT7GXO6o9t"
      },
      "source": [
        "def triple_multiply(m1,m2,m3):\n",
        "    try:\n",
        "      s1i = len(m1)\n",
        "      s1j = len(m1[0])\n",
        "    except Exception as ex:\n",
        "      print('Ошибка в размерности исходных данных m1: ', ex)\n",
        "      return\n",
        "    try:\n",
        "      s2i = len(m2)\n",
        "      s2j = len(m2[0])\n",
        "    except Exception as ex:\n",
        "      print('Ошибка в размерности исходных данных m2: ', ex)\n",
        "      return\n",
        "    try:\n",
        "      s3i = len(m3)\n",
        "      s3j = len(m3[0])\n",
        "    except Exception as ex:\n",
        "      print('Ошибка в размерности исходных данных m3: ', ex)\n",
        "      return\n",
        "\n",
        "    if s1j!=s2i:\n",
        "      return 'Несовместимые размерности матриц m1 и m2'\n",
        "    # mid_matrix.shape == [s1i,s2j]\n",
        "    elif s1i!=s3i:\n",
        "      return 'Несовместимые размерности матриц m1 и m3' \n",
        "    else:  \n",
        "      mid_matrix = []\n",
        "      for i in range(s1i):\n",
        "        row = []\n",
        "        for j in range(s2j):\n",
        "          curr_cell = 0\n",
        "          for t in range(s1j):\n",
        "            curr_cell += m1[i][t] * m2[t][j]\n",
        "          row.append(curr_cell)\n",
        "        mid_matrix.append(row)\n",
        "    # return mid_matrix\n",
        "\n",
        "      out_matrix = []\n",
        "      # mid_matrix.shape == [s1i,s2j]\n",
        "      for i in range(s1i):\n",
        "        row = []\n",
        "        for j in range(s3j):\n",
        "          curr_cell = 0\n",
        "          for t in range(s2j):\n",
        "            curr_cell += mid_matrix[i][t] * m3[t][j]\n",
        "          row.append(curr_cell)\n",
        "        out_matrix.append(row)\n",
        "    return out_matrix\n"
      ],
      "execution_count": null,
      "outputs": []
    },
    {
      "cell_type": "markdown",
      "metadata": {
        "id": "L_rR2BOAbL5b"
      },
      "source": [
        "**Check-list triple_multiply**"
      ]
    },
    {
      "cell_type": "code",
      "metadata": {
        "id": "bO90RbpaUMZ6",
        "outputId": "e985afa4-37ab-4ca2-e558-4a0a3c73c328",
        "colab": {
          "base_uri": "https://localhost:8080/",
          "height": 67
        }
      },
      "source": [
        "np.array([[1,1],[1,1],[1,1]])"
      ],
      "execution_count": null,
      "outputs": [
        {
          "output_type": "execute_result",
          "data": {
            "text/plain": [
              "array([[1, 1],\n",
              "       [1, 1],\n",
              "       [1, 1]])"
            ]
          },
          "metadata": {
            "tags": []
          },
          "execution_count": 82
        }
      ]
    },
    {
      "cell_type": "code",
      "metadata": {
        "id": "BRoRHJFnVMDE",
        "outputId": "e08736a1-0131-4e4b-9103-ac1c7ee2f61f",
        "colab": {
          "base_uri": "https://localhost:8080/",
          "height": 34
        }
      },
      "source": [
        "np.array([[1,1],[1,1],[1,1]]).shape"
      ],
      "execution_count": null,
      "outputs": [
        {
          "output_type": "execute_result",
          "data": {
            "text/plain": [
              "(3, 2)"
            ]
          },
          "metadata": {
            "tags": []
          },
          "execution_count": 81
        }
      ]
    },
    {
      "cell_type": "code",
      "metadata": {
        "id": "e9x_bk6dUQAO",
        "outputId": "791faa6d-9bf9-4561-db41-703fbf6feddc",
        "colab": {
          "base_uri": "https://localhost:8080/",
          "height": 50
        }
      },
      "source": [
        "np.array([[2,2,2],[2,2,2]])"
      ],
      "execution_count": null,
      "outputs": [
        {
          "output_type": "execute_result",
          "data": {
            "text/plain": [
              "array([[2, 2, 2],\n",
              "       [2, 2, 2]])"
            ]
          },
          "metadata": {
            "tags": []
          },
          "execution_count": 62
        }
      ]
    },
    {
      "cell_type": "code",
      "metadata": {
        "id": "vaj_M7mdWWmF",
        "outputId": "e82a994d-fb2f-45bb-eb75-017a2842c88e",
        "colab": {
          "base_uri": "https://localhost:8080/",
          "height": 34
        }
      },
      "source": [
        "np.array([[2,2,2],[2,2,2]]).shape"
      ],
      "execution_count": null,
      "outputs": [
        {
          "output_type": "execute_result",
          "data": {
            "text/plain": [
              "(2, 3)"
            ]
          },
          "metadata": {
            "tags": []
          },
          "execution_count": 75
        }
      ]
    },
    {
      "cell_type": "code",
      "metadata": {
        "id": "g0gMN-cDUYmU",
        "outputId": "0e1629a0-bb07-4008-ad9a-4f4d62eefd13",
        "colab": {
          "base_uri": "https://localhost:8080/",
          "height": 67
        }
      },
      "source": [
        "m12 = np.dot(np.array([[1,1],[1,1],[1,1]]), np.array([[2,2,2],[2,2,2]]))\n",
        "m12"
      ],
      "execution_count": null,
      "outputs": [
        {
          "output_type": "execute_result",
          "data": {
            "text/plain": [
              "array([[4, 4, 4],\n",
              "       [4, 4, 4],\n",
              "       [4, 4, 4]])"
            ]
          },
          "metadata": {
            "tags": []
          },
          "execution_count": 73
        }
      ]
    },
    {
      "cell_type": "code",
      "metadata": {
        "id": "1wpVo3ccVkDF",
        "outputId": "9859083b-bfab-48c1-fcf6-c88f7b7679de",
        "colab": {
          "base_uri": "https://localhost:8080/",
          "height": 67
        }
      },
      "source": [
        "m123 = np.dot(m12, np.array([[3],[3],[3]]))\n",
        "m123"
      ],
      "execution_count": null,
      "outputs": [
        {
          "output_type": "execute_result",
          "data": {
            "text/plain": [
              "array([[36],\n",
              "       [36],\n",
              "       [36]])"
            ]
          },
          "metadata": {
            "tags": []
          },
          "execution_count": 72
        }
      ]
    },
    {
      "cell_type": "code",
      "metadata": {
        "id": "5IHkx4UkV8eN",
        "outputId": "83db7b1f-eddf-4c03-a158-64b9d98ef4f8",
        "colab": {
          "base_uri": "https://localhost:8080/",
          "height": 34
        }
      },
      "source": [
        "m123.shape"
      ],
      "execution_count": null,
      "outputs": [
        {
          "output_type": "execute_result",
          "data": {
            "text/plain": [
              "(3, 1)"
            ]
          },
          "metadata": {
            "tags": []
          },
          "execution_count": 74
        }
      ]
    },
    {
      "cell_type": "code",
      "metadata": {
        "id": "TjafR7KPObL7",
        "outputId": "b99e8868-37de-458c-c00a-c1f39096c106",
        "colab": {
          "base_uri": "https://localhost:8080/",
          "height": 34
        }
      },
      "source": [
        "triple_multiply([[1,1],[1,1],[1,1]],\n",
        "                [[2,2,2],[2,2,2]],\n",
        "                [[3],[3],[3]])"
      ],
      "execution_count": null,
      "outputs": [
        {
          "output_type": "execute_result",
          "data": {
            "text/plain": [
              "[[36], [36], [36]]"
            ]
          },
          "metadata": {
            "tags": []
          },
          "execution_count": 85
        }
      ]
    },
    {
      "cell_type": "markdown",
      "metadata": {
        "id": "BJJkft2r6svS"
      },
      "source": [
        "**Задача 2**\n",
        "\n",
        "Напишите функцию, которая считает разницу между максимальным и минимальным элементами матрицы"
      ]
    },
    {
      "cell_type": "code",
      "metadata": {
        "id": "l_QbGpbW66WR"
      },
      "source": [
        "def delta_min_max_1(m):\n",
        "  check_matrix = np.array(m)\n",
        "  shape = check_matrix.shape\n",
        "  max_len = 1\n",
        "  for sh in range(len(shape)):\n",
        "    max_len *= shape[sh]\n",
        "  a = np.reshape(m, (max_len))\n",
        "  vmin = min(a)\n",
        "  vmax = max(a)\n",
        "  return vmax - vmin"
      ],
      "execution_count": null,
      "outputs": []
    },
    {
      "cell_type": "code",
      "metadata": {
        "id": "PGtk1pFefzjq",
        "outputId": "3afc37fb-c239-4671-faec-089187ef2f19",
        "colab": {
          "base_uri": "https://localhost:8080/",
          "height": 34
        }
      },
      "source": [
        "delta_min_max_1([[[1,0],[1,1],[1,1]],\n",
        "                 [[2,2],[2,2],[1,9]],\n",
        "                 [[3,2],[2,2],[1,-3]]])"
      ],
      "execution_count": null,
      "outputs": [
        {
          "output_type": "execute_result",
          "data": {
            "text/plain": [
              "12"
            ]
          },
          "metadata": {
            "tags": []
          },
          "execution_count": 98
        }
      ]
    },
    {
      "cell_type": "code",
      "metadata": {
        "id": "5fFrKHhGh1Ct"
      },
      "source": [
        "def delta_min_max_2(m):\n",
        "  check_matrix = np.array(m)\n",
        "  return check_matrix.max() - check_matrix.min()"
      ],
      "execution_count": null,
      "outputs": []
    },
    {
      "cell_type": "code",
      "metadata": {
        "id": "tMrV9cVAh7ZL",
        "outputId": "dc86f23c-46d5-4d7d-abcb-39f0aff71f13",
        "colab": {
          "base_uri": "https://localhost:8080/",
          "height": 34
        }
      },
      "source": [
        "delta_min_max_2([[[1,0],[1,1],[1,1]],\n",
        "                 [[2,2],[2,2],[1,9]],\n",
        "                 [[3,2],[2,2],[1,-3]]])"
      ],
      "execution_count": null,
      "outputs": [
        {
          "output_type": "execute_result",
          "data": {
            "text/plain": [
              "12"
            ]
          },
          "metadata": {
            "tags": []
          },
          "execution_count": 110
        }
      ]
    },
    {
      "cell_type": "markdown",
      "metadata": {
        "id": "d60LHjWW66gh"
      },
      "source": [
        "**Задача 3**\n",
        "\n",
        "Напишите функцию, которая\n",
        "- умножает матрицу на саму себя, но транспонированную\n",
        "- берёт обратную матрицу от результата"
      ]
    },
    {
      "cell_type": "code",
      "metadata": {
        "id": "jB3Nh4xP7cGy"
      },
      "source": [
        "def matrix_multiply(m1,m2):\n",
        "    try:\n",
        "      s1i = len(m1)\n",
        "      s1j = len(m1[0])\n",
        "    except Exception as ex:\n",
        "      print('Ошибка в размерности исходных данных m1: ', ex)\n",
        "      return\n",
        "    try:\n",
        "      s2i = len(m2)\n",
        "      s2j = len(m2[0])\n",
        "    except Exception as ex:\n",
        "      print('Ошибка в размерности исходных данных m2: ', ex)\n",
        "      return\n",
        "\n",
        "    if s1j!=s2i:\n",
        "      return 'Несовместимые размерности матриц m1 и m2'\n",
        "    else:  \n",
        "      mid_matrix = []\n",
        "      for i in range(s1i):\n",
        "        row = []\n",
        "        for j in range(s2j):\n",
        "          curr_cell = 0\n",
        "          for t in range(s1j):\n",
        "            curr_cell += m1[i][t] * m2[t][j]\n",
        "          row.append(curr_cell)\n",
        "        mid_matrix.append(row)\n",
        "    return mid_matrix\n",
        "\n",
        "\n",
        "def transpose_matrix(m):\n",
        "  shape = np.array(m).shape\n",
        "  \n",
        "  out_matrix = np.zeros((shape[1], shape[0]))\n",
        "  \n",
        "  for i in range(shape[0]):\n",
        "    for j in range(shape[1]):\n",
        "      out_matrix[j][i] = m[i][j]\n",
        "  \n",
        "  return out_matrix\n",
        "\n",
        "def translate_matrix_1(m):\n",
        "  r = matrix_multiply(m,transpose_matrix(m))\n",
        "  print('matrix_multiply =',r)\n",
        "  try:\n",
        "    return np.linalg.inv(r)\n",
        "  except:  \n",
        "    return 'Обратная матрица отсутствует'\n",
        "\n",
        "def translate_matrix_2(m):\n",
        "  r = matrix_multiply(m,transpose_matrix(m))\n",
        "  # fix LinAlgError: Singular matrix\n",
        "  s1 = len(r)\n",
        "  s2 = len(r[0])\n",
        "  print('matrix_multiply =',r)\n",
        "  noiseR = np.array(r) + 0.0000001*np.random.rand(s1, s2)\n",
        "  return np.linalg.inv(noiseR)"
      ],
      "execution_count": null,
      "outputs": []
    },
    {
      "cell_type": "code",
      "metadata": {
        "id": "WMk187ukmtVe",
        "outputId": "be97f670-5740-42ca-c923-2a5f78e7f0ef",
        "colab": {
          "base_uri": "https://localhost:8080/",
          "height": 84
        }
      },
      "source": [
        "translate_matrix_1([[3,1],[6,-3],[6,10]])"
      ],
      "execution_count": null,
      "outputs": [
        {
          "output_type": "stream",
          "text": [
            "matrix_multiply = [[10.0, 15.0, 28.0], [15.0, 45.0, 6.0], [28.0, 6.0, 136.0]]\n"
          ],
          "name": "stdout"
        },
        {
          "output_type": "execute_result",
          "data": {
            "text/plain": [
              "array([[-4.87889960e+14,  1.50119988e+14,  9.38249922e+13],\n",
              "       [ 1.50119988e+14, -4.61907654e+13, -2.88692284e+13],\n",
              "       [ 9.38249922e+13, -2.88692284e+13, -1.80432677e+13]])"
            ]
          },
          "metadata": {
            "tags": []
          },
          "execution_count": 152
        }
      ]
    },
    {
      "cell_type": "code",
      "metadata": {
        "id": "ftkLQmr9qr2k",
        "outputId": "afe66f13-7a0f-487c-db25-f37b91b4fb94",
        "colab": {
          "base_uri": "https://localhost:8080/",
          "height": 84
        }
      },
      "source": [
        "translate_matrix_2([[3,1],[6,-3],[6,10]])"
      ],
      "execution_count": null,
      "outputs": [
        {
          "output_type": "stream",
          "text": [
            "matrix_multiply = [[10.0, 15.0, 28.0], [15.0, 45.0, 6.0], [28.0, 6.0, 136.0]]\n"
          ],
          "name": "stdout"
        },
        {
          "output_type": "execute_result",
          "data": {
            "text/plain": [
              "array([[-52249357.66062883,  16076725.48351859,  10047953.41297748],\n",
              "       [ 16076725.51971304,  -4946684.7681669 ,  -3091677.99068569],\n",
              "       [ 10047953.40728747,  -3091677.98197444,  -1932298.72798628]])"
            ]
          },
          "metadata": {
            "tags": []
          },
          "execution_count": 146
        }
      ]
    },
    {
      "cell_type": "code",
      "metadata": {
        "id": "th3purxRnc_u",
        "outputId": "96416b0a-5cfc-4c1a-b7bf-9362f6ba6269",
        "colab": {
          "base_uri": "https://localhost:8080/",
          "height": 52
        }
      },
      "source": [
        "translate_matrix_1([[1,2],[1,1],[1,1]])"
      ],
      "execution_count": null,
      "outputs": [
        {
          "output_type": "stream",
          "text": [
            "matrix_multiply = [[5.0, 3.0, 3.0], [3.0, 2.0, 2.0], [3.0, 2.0, 2.0]]\n"
          ],
          "name": "stdout"
        },
        {
          "output_type": "execute_result",
          "data": {
            "application/vnd.google.colaboratory.intrinsic+json": {
              "type": "string"
            },
            "text/plain": [
              "'Обратная матрица отсутствует'"
            ]
          },
          "metadata": {
            "tags": []
          },
          "execution_count": 151
        }
      ]
    },
    {
      "cell_type": "code",
      "metadata": {
        "id": "YXXzhxqhrPfg",
        "outputId": "5cb9cd67-990a-451a-9f72-fd9eb95d70bb",
        "colab": {
          "base_uri": "https://localhost:8080/",
          "height": 84
        }
      },
      "source": [
        "translate_matrix_2([[1,2],[1,1],[1,1]])"
      ],
      "execution_count": null,
      "outputs": [
        {
          "output_type": "stream",
          "text": [
            "matrix_multiply = [[5.0, 3.0, 3.0], [3.0, 2.0, 2.0], [3.0, 2.0, 2.0]]\n"
          ],
          "name": "stdout"
        },
        {
          "output_type": "execute_result",
          "data": {
            "text/plain": [
              "array([[ 2.00000041e+00,  1.06363999e-01, -3.10636461e+00],\n",
              "       [-5.79214294e+00, -2.14714900e+07,  2.14714994e+07],\n",
              "       [ 2.79214231e+00,  2.14714901e+07, -2.14714945e+07]])"
            ]
          },
          "metadata": {
            "tags": []
          },
          "execution_count": 144
        }
      ]
    }
  ]
}