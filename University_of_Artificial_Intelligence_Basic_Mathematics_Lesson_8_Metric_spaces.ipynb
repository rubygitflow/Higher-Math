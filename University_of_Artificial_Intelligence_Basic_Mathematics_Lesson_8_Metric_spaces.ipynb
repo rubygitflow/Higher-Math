{
  "nbformat": 4,
  "nbformat_minor": 0,
  "metadata": {
    "colab": {
      "name": "University of Artificial Intelligence. Basic Mathematics. Lesson 8 Metric spaces.ipynb",
      "provenance": [],
      "collapsed_sections": [
        "PwkakVNC_WT9"
      ],
      "include_colab_link": true
    },
    "kernelspec": {
      "name": "python3",
      "display_name": "Python 3"
    }
  },
  "cells": [
    {
      "cell_type": "markdown",
      "metadata": {
        "id": "view-in-github",
        "colab_type": "text"
      },
      "source": [
        "<a href=\"https://colab.research.google.com/github/rubygitflow/Higher-Math/blob/main/University_of_Artificial_Intelligence_Basic_Mathematics_Lesson_8_Metric_spaces.ipynb\" target=\"_parent\"><img src=\"https://colab.research.google.com/assets/colab-badge.svg\" alt=\"Open In Colab\"/></a>"
      ]
    },
    {
      "cell_type": "markdown",
      "metadata": {
        "id": "PwkakVNC_WT9"
      },
      "source": [
        "# **Лекция**"
      ]
    },
    {
      "cell_type": "code",
      "metadata": {
        "id": "D809-Pn8qPP1"
      },
      "source": [
        "from matplotlib import pyplot as plt\n",
        "%matplotlib inline\n",
        "import numpy as np\n",
        "from scipy import spatial "
      ],
      "execution_count": 43,
      "outputs": []
    },
    {
      "cell_type": "markdown",
      "metadata": {
        "id": "LuWQQVSz-4VR"
      },
      "source": [
        "Экспериментируем с евклидовым пространством"
      ]
    },
    {
      "cell_type": "code",
      "metadata": {
        "id": "QRb32RD9rZ4N",
        "colab": {
          "base_uri": "https://localhost:8080/",
          "height": 269
        },
        "outputId": "c23f4ea5-368c-4b8e-9bf0-194c3927deb2"
      },
      "source": [
        "#Нарисуем 2 точки на плоскости с коорлинатами (0,2) и (2,3)\n",
        "data = np.array([[0,2],[2,3]])\n",
        "plt.margins(2, 2)   # Шкалируем оси\n",
        "plt.scatter(data[:,0],data[:,1])\n",
        "for i_x, i_y in data:\n",
        "    plt.text(i_x, i_y, '({}, {})'.format(i_x, i_y)) #Добавляем подписи\n",
        "plt.show()"
      ],
      "execution_count": 44,
      "outputs": [
        {
          "output_type": "display_data",
          "data": {
            "image/png": "[encoded data removed]",
            "text/plain": [
              "<Figure size 432x288 with 1 Axes>"
            ]
          },
          "metadata": {
            "tags": [],
            "needs_background": "light"
          }
        }
      ]
    },
    {
      "cell_type": "code",
      "metadata": {
        "id": "CY2qgrXmrxNn",
        "colab": {
          "base_uri": "https://localhost:8080/"
        },
        "outputId": "13d1b0c9-e712-403c-887c-1ba36accea18"
      },
      "source": [
        "#Теперь посчитаем расстояние между ними, воспользовавшись формулой: d = sqrt(Summ(p-q)^2)\n",
        "def euclid(p,q):\n",
        "  d = []\n",
        "  for p_i, q_i in zip(p,q):\n",
        "    d.append((p_i - q_i)**2)\n",
        "  return np.sqrt(sum(d))\n",
        "\n",
        "euclid(data[:,0],data[:,1])"
      ],
      "execution_count": 45,
      "outputs": [
        {
          "output_type": "execute_result",
          "data": {
            "text/plain": [
              "2.23606797749979"
            ]
          },
          "metadata": {
            "tags": []
          },
          "execution_count": 45
        }
      ]
    },
    {
      "cell_type": "code",
      "metadata": {
        "id": "CMmSS65GvJlC",
        "colab": {
          "base_uri": "https://localhost:8080/"
        },
        "outputId": "1a49b43d-70af-45d7-8e50-0da626bc939c"
      },
      "source": [
        "# А теперь сделаем тоже самое с помощью библиотеки scikit learn\n",
        "from sklearn.metrics.pairwise import euclidean_distances\n",
        "euclidean_distances(data[:,0].reshape(1, -1),data[:,1].reshape(1, -1))"
      ],
      "execution_count": 46,
      "outputs": [
        {
          "output_type": "execute_result",
          "data": {
            "text/plain": [
              "array([[2.23606798]])"
            ]
          },
          "metadata": {
            "tags": []
          },
          "execution_count": 46
        }
      ]
    },
    {
      "cell_type": "code",
      "metadata": {
        "id": "K5Zt_eXdv4Qv",
        "colab": {
          "base_uri": "https://localhost:8080/",
          "height": 286
        },
        "outputId": "7bc1e908-e11f-41d6-f636-5daa10bfc340"
      },
      "source": [
        "#Выведем Геометрически по Теореме пифагора\n",
        "# Для этого добавим еще одну точку в массив так чтобы получился прямоугольный треугольник\n",
        "data = np.array([[0,2],[2,3],[2,2]])\n",
        "plt.margins(1, 1)   # отступы от осей\n",
        "plt.scatter(data[:,0],data[:,1])\n",
        "for i_x, i_y in data:\n",
        "    plt.text(i_x, i_y, '({}, {})'.format(i_x, i_y)) #Добавляем подписи\n",
        "\n",
        "def connectpoints(x,y,p1,p2):\n",
        "    x1, x2 = x[p1], x[p2]\n",
        "    y1, y2 = y[p1], y[p2]\n",
        "    plt.plot([x1,x2],[y1,y2],'k-')\n",
        "\n",
        "connectpoints(data[:,0],data[:,1],0,1) # промевед линию между точками (0,2) , (2,3) и (2,2)\n",
        "connectpoints(data[:,0],data[:,1],1,2)\n",
        "connectpoints(data[:,0],data[:,1],2,0)\n",
        "plt.show()\n",
        "\n",
        "#Катет (0,2)-(2,2) = 2\n",
        "#Катет (2,3)-(2,2) = 1\n",
        "# Найдем квадрат Гипотенузы по теореме Пифагора:\n",
        "g_sqrt = (2**2) + (1**2)\n",
        "print(\"Квадрат Гипотенузы : {} длина гипотенузы: {}\".format(g_sqrt,np.sqrt(g_sqrt)))"
      ],
      "execution_count": 47,
      "outputs": [
        {
          "output_type": "display_data",
          "data": {
            "image/png": "[encoded data removed]",
            "text/plain": [
              "<Figure size 432x288 with 1 Axes>"
            ]
          },
          "metadata": {
            "tags": [],
            "needs_background": "light"
          }
        },
        {
          "output_type": "stream",
          "text": [
            "Квадрат Гипотенузы : 5 длина гипотенузы: 2.23606797749979\n"
          ],
          "name": "stdout"
        }
      ]
    },
    {
      "cell_type": "code",
      "metadata": {
        "id": "-wjEZuev0o0i",
        "colab": {
          "base_uri": "https://localhost:8080/"
        },
        "outputId": "1ae6dcc2-dbdc-490d-96aa-1e54945a7b02"
      },
      "source": [
        "# Вычислим Евклидовое расстояние с помощью библиотеки scipy\n",
        "data = np.array([[0,2],[2,3]])\n",
        "\n",
        "eudistance = spatial.distance.euclidean(data[:,0],data[:,1])\n",
        "print(\"scipy\", eudistance)"
      ],
      "execution_count": 48,
      "outputs": [
        {
          "output_type": "stream",
          "text": [
            "scipy 2.23606797749979\n"
          ],
          "name": "stdout"
        }
      ]
    },
    {
      "cell_type": "markdown",
      "metadata": {
        "id": "PglKg1mT10kz"
      },
      "source": [
        "А теперь поработаем с метрикой  Городских кварталов\n"
      ]
    },
    {
      "cell_type": "code",
      "metadata": {
        "id": "YcweQWkv2xHc",
        "colab": {
          "base_uri": "https://localhost:8080/"
        },
        "outputId": "880c05de-99ab-4b8d-f377-562ed18f9dc3"
      },
      "source": [
        "#Теперь посчитаем расстояние между ними, воспользовавшись формулой: d = (Summ|p-q|)\n",
        "def manhattan(p,q):\n",
        "  d = []\n",
        "  for p_i, q_i in zip(p,q):\n",
        "    d.append(abs(p_i - q_i))\n",
        "  return (sum(d))\n",
        "\n",
        "manhattan(data[:,0],data[:,1])"
      ],
      "execution_count": 49,
      "outputs": [
        {
          "output_type": "execute_result",
          "data": {
            "text/plain": [
              "3"
            ]
          },
          "metadata": {
            "tags": []
          },
          "execution_count": 49
        }
      ]
    },
    {
      "cell_type": "code",
      "metadata": {
        "id": "9kKgpwHgu6KC",
        "colab": {
          "base_uri": "https://localhost:8080/"
        },
        "outputId": "c80897c3-b5c6-41ca-b4a9-90e6f5954672"
      },
      "source": [
        "# А теперь сделаем тоже самое с помощью библиотеки scikit learn\n",
        "from sklearn.metrics.pairwise import manhattan_distances\n",
        "manhattan_distances(data[:,0].reshape(1, -1),data[:,1].reshape(1, -1))"
      ],
      "execution_count": 50,
      "outputs": [
        {
          "output_type": "execute_result",
          "data": {
            "text/plain": [
              "array([[3.]])"
            ]
          },
          "metadata": {
            "tags": []
          },
          "execution_count": 50
        }
      ]
    },
    {
      "cell_type": "code",
      "metadata": {
        "id": "XeMXz95YtjW2",
        "colab": {
          "base_uri": "https://localhost:8080/"
        },
        "outputId": "445d16cb-ab28-4b54-8225-8da1ceba3b0f"
      },
      "source": [
        "# Вычислим  расстояние с помощью библиотеки scipy\n",
        "manhattan = spatial.distance.cityblock(data[:,0],data[:,1])\n",
        "print(\"scipy\", manhattan)"
      ],
      "execution_count": 51,
      "outputs": [
        {
          "output_type": "stream",
          "text": [
            "scipy 3\n"
          ],
          "name": "stdout"
        }
      ]
    },
    {
      "cell_type": "markdown",
      "metadata": {
        "id": "gnmqgxQE5lhH"
      },
      "source": [
        "Для работы с косинусным расстоянием возьмем 3 текста\n"
      ]
    },
    {
      "cell_type": "code",
      "metadata": {
        "id": "5LlVqIab5vov",
        "colab": {
          "base_uri": "https://localhost:8080/",
          "height": 162
        },
        "outputId": "c5e7db89-c29b-483c-e7ba-362283172e98"
      },
      "source": [
        "# Define the documents\n",
        "doc_trump = \"Mr. Trump became president after winning the political election. Though he lost the support of some republican friends, Trump is friends with President Putin\"\n",
        "\n",
        "doc_election = \"President Trump says Putin had no political interference is the election outcome. He says it was a witchhunt by political parties. He claimed President Putin is a friend who had nothing to do with the election\"\n",
        "\n",
        "doc_putin = \"Post elections, Vladimir Putin became President of Russia. President Putin had served as the Prime Minister earlier in his political career\"\n",
        "\n",
        "documents = [doc_trump, doc_election, doc_putin]\n",
        "\n",
        "# Scikit Learn\n",
        "from sklearn.feature_extraction.text import CountVectorizer\n",
        "import pandas as pd\n",
        "\n",
        "# Create the Document Term Matrix\n",
        "count_vectorizer = CountVectorizer(stop_words='english')\n",
        "count_vectorizer = CountVectorizer()\n",
        "sparse_matrix = count_vectorizer.fit_transform(documents)\n",
        "\n",
        "# OPTIONAL: Convert Sparse Matrix to Pandas Dataframe if you want to see the word frequencies.\n",
        "doc_term_matrix = sparse_matrix.todense()\n",
        "df = pd.DataFrame(doc_term_matrix, \n",
        "                  columns=count_vectorizer.get_feature_names(), \n",
        "                  index=['doc_trump', 'doc_election', 'doc_putin'])\n",
        "df"
      ],
      "execution_count": 52,
      "outputs": [
        {
          "output_type": "execute_result",
          "data": {
            "text/html": [
              "<div>\n",
              "<style scoped>\n",
              "    .dataframe tbody tr th:only-of-type {\n",
              "        vertical-align: middle;\n",
              "    }\n",
              "\n",
              "    .dataframe tbody tr th {\n",
              "        vertical-align: top;\n",
              "    }\n",
              "\n",
              "    .dataframe thead th {\n",
              "        text-align: right;\n",
              "    }\n",
              "</style>\n",
              "<table border=\"1\" class=\"dataframe\">\n",
              "  <thead>\n",
              "    <tr style=\"text-align: right;\">\n",
              "      <th></th>\n",
              "      <th>after</th>\n",
              "      <th>as</th>\n",
              "      <th>became</th>\n",
              "      <th>by</th>\n",
              "      <th>career</th>\n",
              "      <th>claimed</th>\n",
              "      <th>do</th>\n",
              "      <th>earlier</th>\n",
              "      <th>election</th>\n",
              "      <th>elections</th>\n",
              "      <th>friend</th>\n",
              "      <th>friends</th>\n",
              "      <th>had</th>\n",
              "      <th>he</th>\n",
              "      <th>his</th>\n",
              "      <th>in</th>\n",
              "      <th>interference</th>\n",
              "      <th>is</th>\n",
              "      <th>it</th>\n",
              "      <th>lost</th>\n",
              "      <th>minister</th>\n",
              "      <th>mr</th>\n",
              "      <th>no</th>\n",
              "      <th>nothing</th>\n",
              "      <th>of</th>\n",
              "      <th>outcome</th>\n",
              "      <th>parties</th>\n",
              "      <th>political</th>\n",
              "      <th>post</th>\n",
              "      <th>president</th>\n",
              "      <th>prime</th>\n",
              "      <th>putin</th>\n",
              "      <th>republican</th>\n",
              "      <th>russia</th>\n",
              "      <th>says</th>\n",
              "      <th>served</th>\n",
              "      <th>some</th>\n",
              "      <th>support</th>\n",
              "      <th>the</th>\n",
              "      <th>though</th>\n",
              "      <th>to</th>\n",
              "      <th>trump</th>\n",
              "      <th>vladimir</th>\n",
              "      <th>was</th>\n",
              "      <th>who</th>\n",
              "      <th>winning</th>\n",
              "      <th>witchhunt</th>\n",
              "      <th>with</th>\n",
              "    </tr>\n",
              "  </thead>\n",
              "  <tbody>\n",
              "    <tr>\n",
              "      <th>doc_trump</th>\n",
              "      <td>1</td>\n",
              "      <td>0</td>\n",
              "      <td>1</td>\n",
              "      <td>0</td>\n",
              "      <td>0</td>\n",
              "      <td>0</td>\n",
              "      <td>0</td>\n",
              "      <td>0</td>\n",
              "      <td>1</td>\n",
              "      <td>0</td>\n",
              "      <td>0</td>\n",
              "      <td>2</td>\n",
              "      <td>0</td>\n",
              "      <td>1</td>\n",
              "      <td>0</td>\n",
              "      <td>0</td>\n",
              "      <td>0</td>\n",
              "      <td>1</td>\n",
              "      <td>0</td>\n",
              "      <td>1</td>\n",
              "      <td>0</td>\n",
              "      <td>1</td>\n",
              "      <td>0</td>\n",
              "      <td>0</td>\n",
              "      <td>1</td>\n",
              "      <td>0</td>\n",
              "      <td>0</td>\n",
              "      <td>1</td>\n",
              "      <td>0</td>\n",
              "      <td>2</td>\n",
              "      <td>0</td>\n",
              "      <td>1</td>\n",
              "      <td>1</td>\n",
              "      <td>0</td>\n",
              "      <td>0</td>\n",
              "      <td>0</td>\n",
              "      <td>1</td>\n",
              "      <td>1</td>\n",
              "      <td>2</td>\n",
              "      <td>1</td>\n",
              "      <td>0</td>\n",
              "      <td>2</td>\n",
              "      <td>0</td>\n",
              "      <td>0</td>\n",
              "      <td>0</td>\n",
              "      <td>1</td>\n",
              "      <td>0</td>\n",
              "      <td>1</td>\n",
              "    </tr>\n",
              "    <tr>\n",
              "      <th>doc_election</th>\n",
              "      <td>0</td>\n",
              "      <td>0</td>\n",
              "      <td>0</td>\n",
              "      <td>1</td>\n",
              "      <td>0</td>\n",
              "      <td>1</td>\n",
              "      <td>1</td>\n",
              "      <td>0</td>\n",
              "      <td>2</td>\n",
              "      <td>0</td>\n",
              "      <td>1</td>\n",
              "      <td>0</td>\n",
              "      <td>2</td>\n",
              "      <td>2</td>\n",
              "      <td>0</td>\n",
              "      <td>0</td>\n",
              "      <td>1</td>\n",
              "      <td>2</td>\n",
              "      <td>1</td>\n",
              "      <td>0</td>\n",
              "      <td>0</td>\n",
              "      <td>0</td>\n",
              "      <td>1</td>\n",
              "      <td>1</td>\n",
              "      <td>0</td>\n",
              "      <td>1</td>\n",
              "      <td>1</td>\n",
              "      <td>2</td>\n",
              "      <td>0</td>\n",
              "      <td>2</td>\n",
              "      <td>0</td>\n",
              "      <td>2</td>\n",
              "      <td>0</td>\n",
              "      <td>0</td>\n",
              "      <td>2</td>\n",
              "      <td>0</td>\n",
              "      <td>0</td>\n",
              "      <td>0</td>\n",
              "      <td>2</td>\n",
              "      <td>0</td>\n",
              "      <td>1</td>\n",
              "      <td>1</td>\n",
              "      <td>0</td>\n",
              "      <td>1</td>\n",
              "      <td>1</td>\n",
              "      <td>0</td>\n",
              "      <td>1</td>\n",
              "      <td>1</td>\n",
              "    </tr>\n",
              "    <tr>\n",
              "      <th>doc_putin</th>\n",
              "      <td>0</td>\n",
              "      <td>1</td>\n",
              "      <td>1</td>\n",
              "      <td>0</td>\n",
              "      <td>1</td>\n",
              "      <td>0</td>\n",
              "      <td>0</td>\n",
              "      <td>1</td>\n",
              "      <td>0</td>\n",
              "      <td>1</td>\n",
              "      <td>0</td>\n",
              "      <td>0</td>\n",
              "      <td>1</td>\n",
              "      <td>0</td>\n",
              "      <td>1</td>\n",
              "      <td>1</td>\n",
              "      <td>0</td>\n",
              "      <td>0</td>\n",
              "      <td>0</td>\n",
              "      <td>0</td>\n",
              "      <td>1</td>\n",
              "      <td>0</td>\n",
              "      <td>0</td>\n",
              "      <td>0</td>\n",
              "      <td>1</td>\n",
              "      <td>0</td>\n",
              "      <td>0</td>\n",
              "      <td>1</td>\n",
              "      <td>1</td>\n",
              "      <td>2</td>\n",
              "      <td>1</td>\n",
              "      <td>2</td>\n",
              "      <td>0</td>\n",
              "      <td>1</td>\n",
              "      <td>0</td>\n",
              "      <td>1</td>\n",
              "      <td>0</td>\n",
              "      <td>0</td>\n",
              "      <td>1</td>\n",
              "      <td>0</td>\n",
              "      <td>0</td>\n",
              "      <td>0</td>\n",
              "      <td>1</td>\n",
              "      <td>0</td>\n",
              "      <td>0</td>\n",
              "      <td>0</td>\n",
              "      <td>0</td>\n",
              "      <td>0</td>\n",
              "    </tr>\n",
              "  </tbody>\n",
              "</table>\n",
              "</div>"
            ],
            "text/plain": [
              "              after  as  became  by  career  ...  was  who  winning  witchhunt  with\n",
              "doc_trump         1   0       1   0       0  ...    0    0        1          0     1\n",
              "doc_election      0   0       0   1       0  ...    1    1        0          1     1\n",
              "doc_putin         0   1       1   0       1  ...    0    0        0          0     0\n",
              "\n",
              "[3 rows x 48 columns]"
            ]
          },
          "metadata": {
            "tags": []
          },
          "execution_count": 52
        }
      ]
    },
    {
      "cell_type": "code",
      "metadata": {
        "id": "y-KN2kln5saG",
        "colab": {
          "base_uri": "https://localhost:8080/"
        },
        "outputId": "31ef6ad2-acbd-4a77-ebb7-e2d1c7afe2ab"
      },
      "source": [
        "# Compute Cosine Similarity\n",
        "from sklearn.metrics.pairwise import cosine_similarity\n",
        "print(cosine_similarity(df.loc['doc_trump'].values.reshape(1, -1) , df.loc['doc_election'].values.reshape(1, -1) ))"
      ],
      "execution_count": 53,
      "outputs": [
        {
          "output_type": "stream",
          "text": [
            "[[0.51480485]]\n"
          ],
          "name": "stdout"
        }
      ]
    },
    {
      "cell_type": "code",
      "metadata": {
        "id": "lE4-q-9x-73E",
        "colab": {
          "base_uri": "https://localhost:8080/"
        },
        "outputId": "e3fdab58-9ff1-49ab-930f-db332d7e3af4"
      },
      "source": [
        "# Compute Cosine Similarity\n",
        "from sklearn.metrics.pairwise import cosine_similarity\n",
        "print(cosine_similarity(df.loc['doc_trump'].values.reshape(1, -1) , df.loc['doc_putin'].values.reshape(1, -1) ))"
      ],
      "execution_count": 54,
      "outputs": [
        {
          "output_type": "stream",
          "text": [
            "[[0.38890873]]\n"
          ],
          "name": "stdout"
        }
      ]
    },
    {
      "cell_type": "code",
      "metadata": {
        "id": "gD1jWFj_-_io",
        "colab": {
          "base_uri": "https://localhost:8080/"
        },
        "outputId": "28cec7fd-773e-4ccb-f1c0-9ee88e488f36"
      },
      "source": [
        "# Compute Cosine Similarity\n",
        "from sklearn.metrics.pairwise import cosine_similarity\n",
        "print(cosine_similarity(df.loc['doc_election'].values.reshape(1, -1) , df.loc['doc_putin'].values.reshape(1, -1) ))"
      ],
      "execution_count": 55,
      "outputs": [
        {
          "output_type": "stream",
          "text": [
            "[[0.38829014]]\n"
          ],
          "name": "stdout"
        }
      ]
    },
    {
      "cell_type": "code",
      "metadata": {
        "id": "CxbLGCCN_VPJ",
        "colab": {
          "base_uri": "https://localhost:8080/"
        },
        "outputId": "8b9dc771-2390-4e43-955e-b5e08cd01e76"
      },
      "source": [
        "print(manhattan_distances(df.loc['doc_election'].values.reshape(1, -1) , df.loc['doc_putin'].values.reshape(1, -1) ))\n",
        "print(euclidean_distances(df.loc['doc_election'].values.reshape(1, -1) , df.loc['doc_putin'].values.reshape(1, -1) ))"
      ],
      "execution_count": 56,
      "outputs": [
        {
          "output_type": "stream",
          "text": [
            "[[41.]]\n",
            "[[7.]]\n"
          ],
          "name": "stdout"
        }
      ]
    },
    {
      "cell_type": "code",
      "metadata": {
        "id": "y_r0e-tK8dkx",
        "colab": {
          "base_uri": "https://localhost:8080/"
        },
        "outputId": "7987fada-ba4b-49c3-b8c3-f948386adb42"
      },
      "source": [
        "print(manhattan_distances(df.loc['doc_trump'].values.reshape(1, -1) , df.loc['doc_putin'].values.reshape(1, -1) ))\n",
        "print(euclidean_distances(df.loc['doc_trump'].values.reshape(1, -1) , df.loc['doc_putin'].values.reshape(1, -1) ))"
      ],
      "execution_count": 57,
      "outputs": [
        {
          "output_type": "stream",
          "text": [
            "[[31.]]\n",
            "[[5.91607978]]\n"
          ],
          "name": "stdout"
        }
      ]
    },
    {
      "cell_type": "code",
      "metadata": {
        "id": "OKYSROWX_bD7",
        "colab": {
          "base_uri": "https://localhost:8080/"
        },
        "outputId": "cc3f694f-284d-4475-e50a-7f00c54ab79d"
      },
      "source": [
        "print(manhattan_distances(df.loc['doc_trump'].values.reshape(1, -1) , df.loc['doc_election'].values.reshape(1, -1) ))\n",
        "print(euclidean_distances(df.loc['doc_trump'].values.reshape(1, -1) , df.loc['doc_election'].values.reshape(1, -1) ))"
      ],
      "execution_count": 58,
      "outputs": [
        {
          "output_type": "stream",
          "text": [
            "[[36.]]\n",
            "[[6.4807407]]\n"
          ],
          "name": "stdout"
        }
      ]
    },
    {
      "cell_type": "code",
      "metadata": {
        "id": "5qzYNtxM8k8L"
      },
      "source": [
        ""
      ],
      "execution_count": null,
      "outputs": []
    },
    {
      "cell_type": "markdown",
      "metadata": {
        "id": "974GFx_pJp1C"
      },
      "source": [
        "# **ДЗ Лайт**"
      ]
    },
    {
      "cell_type": "markdown",
      "metadata": {
        "id": "-MwHP1QI3qJq"
      },
      "source": [
        "Задание 1\r\n",
        "\r\n",
        "Даны следующие векторы в 2-х мерном Евклидовом пространстве: data = np.array([[0,2],[5,3],[1,4],[7,2],[1,1],[2,8],[0,8],[8,3],[6,2],[6,6],[1,6],[7,9]])\r\n",
        "\r\n",
        "Отрисуйте точки на 2-х мерном графике, рассчитайте расстояние между каждой парой точек"
      ]
    },
    {
      "cell_type": "code",
      "metadata": {
        "id": "lqs0btEFVLIE",
        "colab": {
          "base_uri": "https://localhost:8080/",
          "height": 477
        },
        "outputId": "16ca97f6-1ad6-4a25-806c-754ae4c0fcd1"
      },
      "source": [
        "def connectpoints(x,y,p1,p2):\r\n",
        "    x1, x2 = x[p1], x[p2]\r\n",
        "    y1, y2 = y[p1], y[p2]\r\n",
        "    plt.plot([x1,x2],[y1,y2],'k-')\r\n",
        "\r\n",
        "data = np.array([[0,2],[5,3],[1,4],[7,2],[1,1],[2,8],[0,8],[8,3],[6,2],[6,6],[1,6],[7,9]])\r\n",
        "# plt.margins(1, 1)   # отступы от осей\r\n",
        "plt.scatter(data[:,0],data[:,1]) # диаграмма рассеяния\r\n",
        "\r\n",
        "last_ind = len(data) - 1 # последний элемент\r\n",
        "for i,e in enumerate(data):\r\n",
        "  plt.text(e[0]-0.3, e[1]+0.4, f'({e[0]}, {e[1]})') #Добавляем подписи\r\n",
        "  k = 0 if i == last_ind else i+1\r\n",
        "  connectpoints(data[:,0],data[:,1],i,k) # проведем линию между точками \r\n",
        "  # Вычислим Евклидовое расстояние с помощью библиотеки scipy\r\n",
        "  eudistance = spatial.distance.euclidean(e, data[k])\r\n",
        "  print(f\"от {e} до {data[k]} Евклидово расстояние:\", eudistance)  \r\n",
        "\r\n",
        "plt.show()"
      ],
      "execution_count": 60,
      "outputs": [
        {
          "output_type": "stream",
          "text": [
            "от [0 2] до [5 3] Евклидово расстояние: 5.0990195135927845\n",
            "от [5 3] до [1 4] Евклидово расстояние: 4.123105625617661\n",
            "от [1 4] до [7 2] Евклидово расстояние: 6.324555320336759\n",
            "от [7 2] до [1 1] Евклидово расстояние: 6.082762530298219\n",
            "от [1 1] до [2 8] Евклидово расстояние: 7.0710678118654755\n",
            "от [2 8] до [0 8] Евклидово расстояние: 2.0\n",
            "от [0 8] до [8 3] Евклидово расстояние: 9.433981132056603\n",
            "от [8 3] до [6 2] Евклидово расстояние: 2.23606797749979\n",
            "от [6 2] до [6 6] Евклидово расстояние: 4.0\n",
            "от [6 6] до [1 6] Евклидово расстояние: 5.0\n",
            "от [1 6] до [7 9] Евклидово расстояние: 6.708203932499369\n",
            "от [7 9] до [0 2] Евклидово расстояние: 9.899494936611665\n"
          ],
          "name": "stdout"
        },
        {
          "output_type": "display_data",
          "data": {
            "image/png": "[encoded data removed]",
            "text/plain": [
              "<Figure size 432x288 with 1 Axes>"
            ]
          },
          "metadata": {
            "tags": [],
            "needs_background": "light"
          }
        }
      ]
    },
    {
      "cell_type": "markdown",
      "metadata": {
        "id": "Rr3QjaWD-Zmr"
      },
      "source": [
        "Задание 2 \r\n",
        "\r\n",
        "Рассчитайте расстояние L1* между точками из массива data\r\n",
        "\r\n",
        "*) Расстояние L1 так же известное как расстояние городских кварталов"
      ]
    },
    {
      "cell_type": "code",
      "metadata": {
        "id": "6ddsyg0g8UeK",
        "colab": {
          "base_uri": "https://localhost:8080/"
        },
        "outputId": "d7db66ac-ff43-4032-965e-bf00242013db"
      },
      "source": [
        "for i,e in enumerate(data):\r\n",
        "  k = 0 if i == last_ind else i+1\r\n",
        "  # Вычислим расстояние L1 с помощью библиотеки scipy\r\n",
        "  l1 = spatial.distance.cityblock(e, data[k])\r\n",
        "  print(f\"от {e} до {data[k]} расстояние L1:\", l1)  "
      ],
      "execution_count": 65,
      "outputs": [
        {
          "output_type": "stream",
          "text": [
            "от [0 2] до [5 3] расстояние L1: 6\n",
            "от [5 3] до [1 4] расстояние L1: 5\n",
            "от [1 4] до [7 2] расстояние L1: 8\n",
            "от [7 2] до [1 1] расстояние L1: 7\n",
            "от [1 1] до [2 8] расстояние L1: 8\n",
            "от [2 8] до [0 8] расстояние L1: 2\n",
            "от [0 8] до [8 3] расстояние L1: 13\n",
            "от [8 3] до [6 2] расстояние L1: 3\n",
            "от [6 2] до [6 6] расстояние L1: 4\n",
            "от [6 6] до [1 6] расстояние L1: 5\n",
            "от [1 6] до [7 9] расстояние L1: 9\n",
            "от [7 9] до [0 2] расстояние L1: 14\n"
          ],
          "name": "stdout"
        }
      ]
    },
    {
      "cell_type": "markdown",
      "metadata": {
        "id": "vtjerM2k-eps"
      },
      "source": [
        "Задание 3 \r\n",
        "\r\n",
        "Даны следующие векторы в пятимерном Евклидовом пространстве: data = np.array([[0,2,4,5,4],[5,3,1,1,2],[1,4,1,3,9],[7,2,0,1,5],[1,1,1,1,1],[2,8,5,9,1],[0,8,0,8,0],[8,3,1,2,1],[6,2,4,2,1],[6,6,6,6,6],[1,6,8,9,1],[7,9,1,2]]) \r\n",
        "\r\n",
        "Рассчитайте расстояние между каждой парой точек"
      ]
    },
    {
      "cell_type": "code",
      "metadata": {
        "id": "CSUI-dhxtjib",
        "colab": {
          "base_uri": "https://localhost:8080/"
        },
        "outputId": "8e4054bd-9ef7-451a-a218-95a42f0a2528"
      },
      "source": [
        "# В последнем векторе даты - 4 измерения, добавил 0\r\n",
        "data = np.array([[0,2,4,5,4],[5,3,1,1,2],[1,4,1,3,9],[7,2,0,1,5],[1,1,1,1,1],[2,8,5,9,1],[0,8,0,8,0],[8,3,1,2,1],[6,2,4,2,1],[6,6,6,6,6],[1,6,8,9,1],[7,9,1,2,0]])\r\n",
        "for i, a in enumerate(data[:-1]):\r\n",
        "  for b in data[i+1:]:\r\n",
        "    euclid = spatial.distance.euclidean(a,b)\r\n",
        "    l1 = spatial.distance.cityblock(a,b)\r\n",
        "    print(f'От {a} до {b}. Расстояние: Евклидово - {euclid}, L1 - {l1}')\r\n"
      ],
      "execution_count": 66,
      "outputs": [
        {
          "output_type": "stream",
          "text": [
            "От [0 2 4 5 4] до [5 3 1 1 2]. Расстояние: Евклидово - 7.416198487095663, L1 - 15\n",
            "От [0 2 4 5 4] до [1 4 1 3 9]. Расстояние: Евклидово - 6.557438524302, L1 - 13\n",
            "От [0 2 4 5 4] до [7 2 0 1 5]. Расстояние: Евклидово - 9.055385138137417, L1 - 16\n",
            "От [0 2 4 5 4] до [1 1 1 1 1]. Расстояние: Евклидово - 6.0, L1 - 12\n",
            "От [0 2 4 5 4] до [2 8 5 9 1]. Расстояние: Евклидово - 8.12403840463596, L1 - 16\n",
            "От [0 2 4 5 4] до [0 8 0 8 0]. Расстояние: Евклидово - 8.774964387392123, L1 - 17\n",
            "От [0 2 4 5 4] до [8 3 1 2 1]. Расстояние: Евклидово - 9.591663046625438, L1 - 18\n",
            "От [0 2 4 5 4] до [6 2 4 2 1]. Расстояние: Евклидово - 7.3484692283495345, L1 - 12\n",
            "От [0 2 4 5 4] до [6 6 6 6 6]. Расстояние: Евклидово - 7.810249675906654, L1 - 15\n",
            "От [0 2 4 5 4] до [1 6 8 9 1]. Расстояние: Евклидово - 7.615773105863909, L1 - 16\n",
            "От [0 2 4 5 4] до [7 9 1 2 0]. Расстояние: Евклидово - 11.489125293076057, L1 - 24\n",
            "От [5 3 1 1 2] до [1 4 1 3 9]. Расстояние: Евклидово - 8.366600265340756, L1 - 14\n",
            "От [5 3 1 1 2] до [7 2 0 1 5]. Расстояние: Евклидово - 3.872983346207417, L1 - 7\n",
            "От [5 3 1 1 2] до [1 1 1 1 1]. Расстояние: Евклидово - 4.58257569495584, L1 - 7\n",
            "От [5 3 1 1 2] до [2 8 5 9 1]. Расстояние: Евклидово - 10.723805294763608, L1 - 21\n",
            "От [5 3 1 1 2] до [0 8 0 8 0]. Расстояние: Евклидово - 10.198039027185569, L1 - 20\n",
            "От [5 3 1 1 2] до [8 3 1 2 1]. Расстояние: Евклидово - 3.3166247903554, L1 - 5\n",
            "От [5 3 1 1 2] до [6 2 4 2 1]. Расстояние: Евклидово - 3.605551275463989, L1 - 7\n",
            "От [5 3 1 1 2] до [6 6 6 6 6]. Расстояние: Евклидово - 8.717797887081348, L1 - 18\n",
            "От [5 3 1 1 2] до [1 6 8 9 1]. Расстояние: Евклидово - 11.789826122551595, L1 - 23\n",
            "От [5 3 1 1 2] до [7 9 1 2 0]. Расстояние: Евклидово - 6.708203932499369, L1 - 11\n",
            "От [1 4 1 3 9] до [7 2 0 1 5]. Расстояние: Евклидово - 7.810249675906654, L1 - 15\n",
            "От [1 4 1 3 9] до [1 1 1 1 1]. Расстояние: Евклидово - 8.774964387392123, L1 - 13\n",
            "От [1 4 1 3 9] до [2 8 5 9 1]. Расстояние: Евклидово - 11.532562594670797, L1 - 23\n",
            "От [1 4 1 3 9] до [0 8 0 8 0]. Расстояние: Евклидово - 11.135528725660043, L1 - 20\n",
            "От [1 4 1 3 9] до [8 3 1 2 1]. Расстояние: Евклидово - 10.723805294763608, L1 - 17\n",
            "От [1 4 1 3 9] до [6 2 4 2 1]. Расстояние: Евклидово - 10.14889156509222, L1 - 19\n",
            "От [1 4 1 3 9] до [6 6 6 6 6]. Расстояние: Евклидово - 8.48528137423857, L1 - 18\n",
            "От [1 4 1 3 9] до [1 6 8 9 1]. Расстояние: Евклидово - 12.36931687685298, L1 - 23\n",
            "От [1 4 1 3 9] до [7 9 1 2 0]. Расстояние: Евклидово - 11.958260743101398, L1 - 21\n",
            "От [7 2 0 1 5] до [1 1 1 1 1]. Расстояние: Евклидово - 7.3484692283495345, L1 - 12\n",
            "От [7 2 0 1 5] до [2 8 5 9 1]. Расстояние: Евклидово - 12.884098726725126, L1 - 28\n",
            "От [7 2 0 1 5] до [0 8 0 8 0]. Расстояние: Евклидово - 12.609520212918492, L1 - 25\n",
            "От [7 2 0 1 5] до [8 3 1 2 1]. Расстояние: Евклидово - 4.47213595499958, L1 - 8\n",
            "От [7 2 0 1 5] до [6 2 4 2 1]. Расстояние: Евклидово - 5.830951894845301, L1 - 10\n",
            "От [7 2 0 1 5] до [6 6 6 6 6]. Расстояние: Евклидово - 8.888194417315589, L1 - 17\n",
            "От [7 2 0 1 5] до [1 6 8 9 1]. Расстояние: Евклидово - 14.0, L1 - 30\n",
            "От [7 2 0 1 5] до [7 9 1 2 0]. Расстояние: Евклидово - 8.717797887081348, L1 - 14\n",
            "От [1 1 1 1 1] до [2 8 5 9 1]. Расстояние: Евклидово - 11.40175425099138, L1 - 20\n",
            "От [1 1 1 1 1] до [0 8 0 8 0]. Расстояние: Евклидово - 10.04987562112089, L1 - 17\n",
            "От [1 1 1 1 1] до [8 3 1 2 1]. Расстояние: Евклидово - 7.3484692283495345, L1 - 10\n",
            "От [1 1 1 1 1] до [6 2 4 2 1]. Расстояние: Евклидово - 6.0, L1 - 10\n",
            "От [1 1 1 1 1] до [6 6 6 6 6]. Расстояние: Евклидово - 11.180339887498949, L1 - 25\n",
            "От [1 1 1 1 1] до [1 6 8 9 1]. Расстояние: Евклидово - 11.74734012447073, L1 - 20\n",
            "От [1 1 1 1 1] до [7 9 1 2 0]. Расстояние: Евклидово - 10.099504938362077, L1 - 16\n",
            "От [2 8 5 9 1] до [0 8 0 8 0]. Расстояние: Евклидово - 5.5677643628300215, L1 - 9\n",
            "От [2 8 5 9 1] до [8 3 1 2 1]. Расстояние: Евклидово - 11.224972160321824, L1 - 22\n",
            "От [2 8 5 9 1] до [6 2 4 2 1]. Расстояние: Евклидово - 10.099504938362077, L1 - 18\n",
            "От [2 8 5 9 1] до [6 6 6 6 6]. Расстояние: Евклидово - 7.416198487095663, L1 - 15\n",
            "От [2 8 5 9 1] до [1 6 8 9 1]. Расстояние: Евклидово - 3.7416573867739413, L1 - 6\n",
            "От [2 8 5 9 1] до [7 9 1 2 0]. Расстояние: Евклидово - 9.591663046625438, L1 - 18\n",
            "От [0 8 0 8 0] до [8 3 1 2 1]. Расстояние: Евклидово - 11.269427669584644, L1 - 21\n",
            "От [0 8 0 8 0] до [6 2 4 2 1]. Расстояние: Евклидово - 11.180339887498949, L1 - 23\n",
            "От [0 8 0 8 0] до [6 6 6 6 6]. Расстояние: Евклидово - 10.770329614269007, L1 - 22\n",
            "От [0 8 0 8 0] до [1 6 8 9 1]. Расстояние: Евклидово - 8.426149773176359, L1 - 13\n",
            "От [0 8 0 8 0] до [7 9 1 2 0]. Расстояние: Евклидово - 9.327379053088816, L1 - 15\n",
            "От [8 3 1 2 1] до [6 2 4 2 1]. Расстояние: Евклидово - 3.7416573867739413, L1 - 6\n",
            "От [8 3 1 2 1] до [6 6 6 6 6]. Расстояние: Евклидово - 8.888194417315589, L1 - 19\n",
            "От [8 3 1 2 1] до [1 6 8 9 1]. Расстояние: Евклидово - 12.489995996796797, L1 - 24\n",
            "От [8 3 1 2 1] до [7 9 1 2 0]. Расстояние: Евклидово - 6.164414002968976, L1 - 8\n",
            "От [6 2 4 2 1] до [6 6 6 6 6]. Расстояние: Евклидово - 7.810249675906654, L1 - 15\n",
            "От [6 2 4 2 1] до [1 6 8 9 1]. Расстояние: Евклидово - 10.295630140987, L1 - 20\n",
            "От [6 2 4 2 1] до [7 9 1 2 0]. Расстояние: Евклидово - 7.745966692414834, L1 - 12\n",
            "От [6 6 6 6 6] до [1 6 8 9 1]. Расстояние: Евклидово - 7.937253933193772, L1 - 15\n",
            "От [6 6 6 6 6] до [7 9 1 2 0]. Расстояние: Евклидово - 9.327379053088816, L1 - 19\n",
            "От [1 6 8 9 1] до [7 9 1 2 0]. Расстояние: Евклидово - 12.0, L1 - 24\n"
          ],
          "name": "stdout"
        }
      ]
    },
    {
      "cell_type": "markdown",
      "metadata": {
        "id": "rMbrKVYC-mHL"
      },
      "source": [
        "Задание 4\r\n",
        "\r\n",
        "Не проводя расчетов, попробуйте оценить для какого случая расстояние будет больше для 2-х векторов в пятнадцатимерном пространстве: 1)[0,2,4,50,4,1,3,0,1,2,3,4,1,2,3] 2)[5,3,1,1,2,3,5,6,7,8,21,4,5,7,8,9] a) Евклидовая метрика б) Метрика городских кварталов"
      ]
    },
    {
      "cell_type": "code",
      "metadata": {
        "id": "RwfKmtJOtjqk",
        "colab": {
          "base_uri": "https://localhost:8080/"
        },
        "outputId": "b6000dd5-8936-46d3-9ee2-3a301636a36b"
      },
      "source": [
        "a = [0,2,4,50,4,1,3,0,1,2, 3,4,1,2,3] \r\n",
        "b = [5,3,1, 1,2,3,5,6,7,8,21,4,5,7,8]\r\n",
        "# Метрика городских кварталов всегда больше или равна Евклидовой метрике\r\n",
        "spatial.distance.euclidean(a,b), spatial.distance.cityblock(a,b)"
      ],
      "execution_count": 67,
      "outputs": [
        {
          "output_type": "execute_result",
          "data": {
            "text/plain": [
              "(54.27706698044764, 114)"
            ]
          },
          "metadata": {
            "tags": []
          },
          "execution_count": 67
        }
      ]
    },
    {
      "cell_type": "markdown",
      "metadata": {
        "id": "3qJS2T4J-rVL"
      },
      "source": [
        "# **ДЗ Задание ПРО**\r\n",
        "\r\n",
        "Попробуйте отрисовать круг в пространстве L1"
      ]
    },
    {
      "cell_type": "code",
      "metadata": {
        "colab": {
          "base_uri": "https://localhost:8080/",
          "height": 592
        },
        "id": "SpaOL61pSTSC",
        "outputId": "7cf76643-27a7-44b0-c617-66e533d5eab2"
      },
      "source": [
        "length = 61\r\n",
        "alpha = np.linspace(0, 2 * np.pi, length)\r\n",
        "r = 1\r\n",
        "x = r * np.cos(alpha)\r\n",
        "y = r * np.sin(alpha)\r\n",
        "data = np.array(list(zip(x, y)))\r\n",
        "plt.figure(figsize=(10, 10))\r\n",
        "plt.scatter(data[:,0],data[:,1]) # диаграмма рассеяния\r\n",
        "\r\n",
        "last_ind = len(data) - 1 # последний элемент\r\n",
        "for i in range(length-1):\r\n",
        "  k = 0 if i == last_ind else i+1\r\n",
        "  if x[i] > 0 and y[i] > 0:\r\n",
        "    plt.plot((x[i], x[i+1]) , (y[i],y[i]))\r\n",
        "    plt.plot((x[i+1], x[i+1]) , (y[i],y[i+1]))\r\n",
        "  elif x[i] < 0 and y[i] < 0:\r\n",
        "    plt.plot((x[i], x[i+1]) , (y[i],y[i]))\r\n",
        "    plt.plot((x[i+1], x[i+1]) , (y[i],y[i+1]))\r\n",
        "  else:\r\n",
        "    plt.plot((x[i], x[i-1]) , (y[i],y[i]))\r\n",
        "    plt.plot((x[i], x[i]) , (y[i],y[i+1]))\r\n",
        "\r\n",
        "plt.show()\r\n"
      ],
      "execution_count": 116,
      "outputs": [
        {
          "output_type": "display_data",
          "data": {
            "image/png": "[encoded data removed]",
            "text/plain": [
              "<Figure size 720x720 with 1 Axes>"
            ]
          },
          "metadata": {
            "tags": [],
            "needs_background": "light"
          }
        }
      ]
    }
  ]
}